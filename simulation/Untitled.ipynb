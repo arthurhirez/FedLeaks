{
 "cells": [
  {
   "cell_type": "code",
   "execution_count": 3,
   "id": "ddd7d872-4e8a-4b34-9146-87af26de68de",
   "metadata": {},
   "outputs": [],
   "source": [
    "import pickle\n",
    "\n",
    "with open(f'networks/assignments/Graeme_PIPELINE_PYTHON_District_A_initial.pkl', 'rb') as file:\n",
    "    network = pickle.load(file)"
   ]
  },
  {
   "cell_type": "code",
   "execution_count": 23,
   "id": "1433e053-34ed-4072-83ba-d7355772462b",
   "metadata": {},
   "outputs": [
    {
     "data": {
      "text/html": [
       "\n",
       "<style>\n",
       "  #altair-viz-374ebbda926a4255b1015077c9681a75.vega-embed {\n",
       "    width: 100%;\n",
       "    display: flex;\n",
       "  }\n",
       "\n",
       "  #altair-viz-374ebbda926a4255b1015077c9681a75.vega-embed details,\n",
       "  #altair-viz-374ebbda926a4255b1015077c9681a75.vega-embed details summary {\n",
       "    position: relative;\n",
       "  }\n",
       "</style>\n",
       "<div id=\"altair-viz-374ebbda926a4255b1015077c9681a75\"></div>\n",
       "<script type=\"text/javascript\">\n",
       "  var VEGA_DEBUG = (typeof VEGA_DEBUG == \"undefined\") ? {} : VEGA_DEBUG;\n",
       "  (function(spec, embedOpt){\n",
       "    let outputDiv = document.currentScript.previousElementSibling;\n",
       "    if (outputDiv.id !== \"altair-viz-374ebbda926a4255b1015077c9681a75\") {\n",
       "      outputDiv = document.getElementById(\"altair-viz-374ebbda926a4255b1015077c9681a75\");\n",
       "    }\n",
       "\n",
       "    const paths = {\n",
       "      \"vega\": \"https://cdn.jsdelivr.net/npm/vega@5?noext\",\n",
       "      \"vega-lib\": \"https://cdn.jsdelivr.net/npm/vega-lib?noext\",\n",
       "      \"vega-lite\": \"https://cdn.jsdelivr.net/npm/vega-lite@5.20.1?noext\",\n",
       "      \"vega-embed\": \"https://cdn.jsdelivr.net/npm/vega-embed@6?noext\",\n",
       "    };\n",
       "\n",
       "    function maybeLoadScript(lib, version) {\n",
       "      var key = `${lib.replace(\"-\", \"\")}_version`;\n",
       "      return (VEGA_DEBUG[key] == version) ?\n",
       "        Promise.resolve(paths[lib]) :\n",
       "        new Promise(function(resolve, reject) {\n",
       "          var s = document.createElement('script');\n",
       "          document.getElementsByTagName(\"head\")[0].appendChild(s);\n",
       "          s.async = true;\n",
       "          s.onload = () => {\n",
       "            VEGA_DEBUG[key] = version;\n",
       "            return resolve(paths[lib]);\n",
       "          };\n",
       "          s.onerror = () => reject(`Error loading script: ${paths[lib]}`);\n",
       "          s.src = paths[lib];\n",
       "        });\n",
       "    }\n",
       "\n",
       "    function showError(err) {\n",
       "      outputDiv.innerHTML = `<div class=\"error\" style=\"color:red;\">${err}</div>`;\n",
       "      throw err;\n",
       "    }\n",
       "\n",
       "    function displayChart(vegaEmbed) {\n",
       "      vegaEmbed(outputDiv, spec, embedOpt)\n",
       "        .catch(err => showError(`Javascript Error: ${err.message}<br>This usually means there's a typo in your chart specification. See the javascript console for the full traceback.`));\n",
       "    }\n",
       "\n",
       "    if(typeof define === \"function\" && define.amd) {\n",
       "      requirejs.config({paths});\n",
       "      let deps = [\"vega-embed\"];\n",
       "      require(deps, displayChart, err => showError(`Error loading script: ${err.message}`));\n",
       "    } else {\n",
       "      maybeLoadScript(\"vega\", \"5\")\n",
       "        .then(() => maybeLoadScript(\"vega-lite\", \"5.20.1\"))\n",
       "        .then(() => maybeLoadScript(\"vega-embed\", \"6\"))\n",
       "        .catch(showError)\n",
       "        .then(() => displayChart(vegaEmbed));\n",
       "    }\n",
       "  })({\"$schema\": \"https://vega.github.io/schema/vega/v5.json\", \"data\": [{\"name\": \"_server_source_1\", \"values\": [{\"node_id\": \"108\", \"size\": 25.0, \"standard\": 1, \"type\": \"House\", \"units\": 12, \"x\": 289.69, \"y\": 499.27}, {\"node_id\": \"53\", \"size\": 25.0, \"standard\": 1, \"type\": \"House\", \"units\": 15, \"x\": 375.19, \"y\": 432.28}, {\"node_id\": \"110\", \"size\": 25.0, \"standard\": 1, \"type\": \"House\", \"units\": 4, \"x\": 270.87, \"y\": 436.51}, {\"node_id\": \"62\", \"size\": 25.0, \"standard\": 1, \"type\": \"House\", \"units\": 11, \"x\": 403.48, \"y\": 455.76}, {\"node_id\": \"106\", \"size\": 25.0, \"standard\": 2, \"type\": \"House\", \"units\": 9, \"x\": 380.74, \"y\": 482.1}, {\"node_id\": \"64\", \"size\": 25.0, \"standard\": 1, \"type\": \"House\", \"units\": 7, \"x\": 295.89, \"y\": 442.3}, {\"node_id\": \"63\", \"size\": 25.0, \"standard\": 1, \"type\": \"House\", \"units\": 4, \"x\": 346.87, \"y\": 502.89}, {\"node_id\": \"109\", \"size\": 25.0, \"standard\": 2, \"type\": \"House\", \"units\": 11, \"x\": 328.15, \"y\": 476.82}, {\"node_id\": \"75\", \"size\": 25.0, \"standard\": 1, \"type\": \"House\", \"units\": 8, \"x\": 354.56, \"y\": 454.97}, {\"node_id\": \"107\", \"size\": 59.0, \"standard\": 2, \"type\": \"Apartments\", \"units\": 38, \"x\": 281.16, \"y\": 465.16}, {\"node_id\": \"61\", \"size\": 59.0, \"standard\": 2, \"type\": \"Apartments\", \"units\": 38, \"x\": 343.52, \"y\": 402.43}, {\"node_id\": \"94\", \"size\": 25.0, \"standard\": 2, \"type\": \"House\", \"units\": 9, \"x\": 322.45, \"y\": 410.33}]}, {\"name\": \"param_4_store\"}, {\"name\": \"param_1_store\"}, {\"name\": \"param_2_store\"}, {\"name\": \"source_0\", \"values\": [{\"x\": 403.48, \"x2\": 375.19, \"y\": 455.76, \"y2\": 432.28}, {\"x\": 375.19, \"x2\": 343.52, \"y\": 432.28, \"y2\": 402.43}, {\"x\": 346.87, \"x2\": 380.74, \"y\": 502.89, \"y2\": 482.1}, {\"x\": 328.15, \"x2\": 354.56, \"y\": 476.82, \"y2\": 454.97}, {\"x\": 295.89, \"x2\": 322.45, \"y\": 442.3, \"y2\": 410.33}, {\"x\": 270.87, \"x2\": 295.89, \"y\": 436.51, \"y2\": 442.3}, {\"x\": 322.45, \"x2\": 354.56, \"y\": 410.33, \"y2\": 454.97}, {\"x\": 354.56, \"x2\": 380.74, \"y\": 454.97, \"y2\": 482.1}, {\"x\": 295.89, \"x2\": 281.16, \"y\": 442.3, \"y2\": 465.16}, {\"x\": 281.16, \"x2\": 289.69, \"y\": 465.16, \"y2\": 499.27}, {\"x\": 289.69, \"x2\": 328.15, \"y\": 499.27, \"y2\": 476.82}, {\"x\": 295.89, \"x2\": 328.15, \"y\": 442.3, \"y2\": 476.82}, {\"x\": 328.15, \"x2\": 346.87, \"y\": 476.82, \"y2\": 502.89}, {\"x\": 354.56, \"x2\": 375.19, \"y\": 454.97, \"y2\": 432.28}, {\"x\": 322.45, \"x2\": 343.52, \"y\": 410.33, \"y2\": 402.43}, {\"x\": 380.74, \"x2\": 403.48, \"y\": 482.1, \"y2\": 455.76}, {\"x\": 270.87, \"x2\": 262.69, \"y\": 436.51, \"y2\": 455.98}]}, {\"name\": \"source_1\", \"source\": \"_server_source_1\", \"transform\": [{\"type\": \"filter\", \"expr\": \"(!length(data(\\\"param_1_store\\\")) || vlSelectionTest(\\\"param_1_store\\\", datum)) && (!length(data(\\\"param_2_store\\\")) || vlSelectionTest(\\\"param_2_store\\\", datum))\"}, {\"type\": \"filter\", \"expr\": \"isValid(datum[\\\"x\\\"]) && isFinite(+datum[\\\"x\\\"]) && isValid(datum[\\\"y\\\"]) && isFinite(+datum[\\\"y\\\"]) && isValid(datum[\\\"size\\\"]) && isFinite(+datum[\\\"size\\\"])\"}, {\"type\": \"project\", \"fields\": [\"node_id\", \"size\", \"standard\", \"type\", \"units\", \"x\", \"y\"]}]}, {\"name\": \"source_1_size_domain_size\", \"source\": \"source_1\", \"transform\": [{\"type\": \"formula\", \"expr\": \"+datum['size']\", \"as\": \"size\"}, {\"type\": \"aggregate\", \"groupby\": [], \"fields\": [\"size\", \"size\"], \"ops\": [\"min\", \"max\"], \"as\": [\"min\", \"max\"]}]}], \"signals\": [{\"name\": \"param_2_standard_legend\", \"value\": null, \"on\": [{\"events\": [{\"source\": \"view\", \"markname\": \"standard_legend_symbols\", \"type\": \"click\"}, {\"source\": \"view\", \"markname\": \"standard_legend_labels\", \"type\": \"click\"}, {\"source\": \"view\", \"markname\": \"standard_legend_entries\", \"type\": \"click\"}], \"update\": \"isDefined(datum.value) ? datum.value : item().items[0].items[0].datum.value\", \"force\": true}, {\"events\": [{\"source\": \"view\", \"type\": \"click\"}], \"update\": \"!event.item || !datum ? null : param_2_standard_legend\", \"force\": true}]}, {\"name\": \"param_1_type_legend\", \"value\": null, \"on\": [{\"events\": [{\"source\": \"view\", \"markname\": \"type_legend_symbols\", \"type\": \"click\"}, {\"source\": \"view\", \"markname\": \"type_legend_labels\", \"type\": \"click\"}, {\"source\": \"view\", \"markname\": \"type_legend_entries\", \"type\": \"click\"}], \"update\": \"isDefined(datum.value) ? datum.value : item().items[0].items[0].datum.value\", \"force\": true}, {\"events\": [{\"source\": \"view\", \"type\": \"click\"}], \"update\": \"!event.item || !datum ? null : param_1_type_legend\", \"force\": true}]}, {\"name\": \"unit\", \"value\": {}, \"on\": [{\"events\": \"pointermove\", \"update\": \"isTuple(group()) ? group() : unit\"}]}, {\"name\": \"param_4\", \"update\": \"vlSelectionResolve(\\\"param_4_store\\\", \\\"union\\\")\"}, {\"name\": \"param_1\", \"update\": \"vlSelectionResolve(\\\"param_1_store\\\", \\\"union\\\", true, true)\"}, {\"name\": \"param_2\", \"update\": \"vlSelectionResolve(\\\"param_2_store\\\", \\\"union\\\", true, true)\"}, {\"name\": \"param_4_x\", \"on\": [{\"events\": [{\"source\": \"view\", \"type\": \"dblclick\"}], \"update\": \"null\"}, {\"events\": {\"signal\": \"param_4_translate_delta\"}, \"update\": \"panLinear(param_4_translate_anchor.extent_x, -param_4_translate_delta.x / width)\"}, {\"events\": {\"signal\": \"param_4_zoom_delta\"}, \"update\": \"zoomLinear(domain(\\\"x\\\"), param_4_zoom_anchor.x, param_4_zoom_delta)\"}]}, {\"name\": \"param_4_y\", \"on\": [{\"events\": [{\"source\": \"view\", \"type\": \"dblclick\"}], \"update\": \"null\"}, {\"events\": {\"signal\": \"param_4_translate_delta\"}, \"update\": \"panLinear(param_4_translate_anchor.extent_y, param_4_translate_delta.y / height)\"}, {\"events\": {\"signal\": \"param_4_zoom_delta\"}, \"update\": \"zoomLinear(domain(\\\"y\\\"), param_4_zoom_anchor.y, param_4_zoom_delta)\"}]}, {\"name\": \"param_4_tuple\", \"on\": [{\"events\": [{\"signal\": \"param_4_x || param_4_y\"}], \"update\": \"param_4_x && param_4_y ? {unit: \\\"view_3\\\", fields: param_4_tuple_fields, values: [param_4_x,param_4_y]} : null\"}]}, {\"name\": \"param_4_tuple_fields\", \"value\": [{\"field\": \"x\", \"channel\": \"x\", \"type\": \"R\"}, {\"field\": \"y\", \"channel\": \"y\", \"type\": \"R\"}]}, {\"name\": \"param_4_translate_anchor\", \"value\": {}, \"on\": [{\"events\": [{\"source\": \"scope\", \"type\": \"pointerdown\"}], \"update\": \"{x: x(unit), y: y(unit), extent_x: domain(\\\"x\\\"), extent_y: domain(\\\"y\\\")}\"}]}, {\"name\": \"param_4_translate_delta\", \"value\": {}, \"on\": [{\"events\": [{\"source\": \"window\", \"between\": [{\"source\": \"scope\", \"type\": \"pointerdown\"}, {\"source\": \"window\", \"type\": \"pointerup\"}], \"type\": \"pointermove\", \"consume\": true}], \"update\": \"{x: param_4_translate_anchor.x - x(unit), y: param_4_translate_anchor.y - y(unit)}\"}]}, {\"name\": \"param_4_zoom_anchor\", \"on\": [{\"events\": [{\"source\": \"scope\", \"consume\": true, \"type\": \"wheel\"}], \"update\": \"{x: invert(\\\"x\\\", x(unit)), y: invert(\\\"y\\\", y(unit))}\"}]}, {\"name\": \"param_4_zoom_delta\", \"on\": [{\"events\": [{\"source\": \"scope\", \"consume\": true, \"type\": \"wheel\"}], \"update\": \"pow(1.001, event.deltaY * pow(16, event.deltaMode))\", \"force\": true}]}, {\"name\": \"param_4_modify\", \"on\": [{\"events\": {\"signal\": \"param_4_tuple\"}, \"update\": \"modify(\\\"param_4_store\\\", param_4_tuple, true)\"}]}, {\"name\": \"param_1_tuple\", \"update\": \"param_1_type_legend !== null ? {fields: param_1_tuple_fields, values: [param_1_type_legend]} : null\"}, {\"name\": \"param_1_tuple_fields\", \"value\": [{\"type\": \"E\", \"field\": \"type\"}]}, {\"name\": \"param_1_toggle\", \"value\": false, \"on\": [{\"events\": {\"merge\": [{\"source\": \"view\", \"type\": \"click\"}]}, \"update\": \"event.shiftKey\"}]}, {\"name\": \"param_1_modify\", \"on\": [{\"events\": {\"signal\": \"param_1_tuple\"}, \"update\": \"modify(\\\"param_1_store\\\", param_1_toggle ? null : param_1_tuple, param_1_toggle ? null : true, param_1_toggle ? param_1_tuple : null)\"}]}, {\"name\": \"param_2_tuple\", \"update\": \"param_2_standard_legend !== null ? {fields: param_2_tuple_fields, values: [param_2_standard_legend]} : null\"}, {\"name\": \"param_2_tuple_fields\", \"value\": [{\"type\": \"E\", \"field\": \"standard\"}]}, {\"name\": \"param_2_toggle\", \"value\": false, \"on\": [{\"events\": {\"merge\": [{\"source\": \"view\", \"type\": \"click\"}]}, \"update\": \"event.shiftKey\"}]}, {\"name\": \"param_2_modify\", \"on\": [{\"events\": {\"signal\": \"param_2_tuple\"}, \"update\": \"modify(\\\"param_2_store\\\", param_2_toggle ? null : param_2_tuple, param_2_toggle ? null : true, param_2_toggle ? param_2_tuple : null)\"}]}], \"marks\": [{\"type\": \"rule\", \"name\": \"view_3_marks\", \"from\": {\"data\": \"source_0\"}, \"encode\": {\"update\": {\"y\": {\"field\": \"y\", \"scale\": \"y\"}, \"x2\": {\"field\": \"x2\", \"scale\": \"x\"}, \"opacity\": {\"value\": 0.75}, \"x\": {\"field\": \"x\", \"scale\": \"x\"}, \"strokeWidth\": {\"value\": 1}, \"y2\": {\"field\": \"y2\", \"scale\": \"y\"}, \"stroke\": {\"value\": \"gray\"}}}, \"style\": [\"rule\"], \"clip\": true, \"interactive\": true}, {\"type\": \"symbol\", \"name\": \"view_2_marks\", \"from\": {\"data\": \"source_1\"}, \"encode\": {\"update\": {\"fill\": {\"field\": \"standard\", \"scale\": \"color\"}, \"size\": {\"field\": \"size\", \"scale\": \"size\"}, \"y\": {\"field\": \"y\", \"scale\": \"y\"}, \"fillOpacity\": {\"value\": 0.95}, \"tooltip\": {\"signal\": \"{\\\"Node\\\": isValid(datum[\\\"node_id\\\"]) ? datum[\\\"node_id\\\"] : \\\"\\\"+datum[\\\"node_id\\\"], \\\"Type\\\": isValid(datum[\\\"type\\\"]) ? datum[\\\"type\\\"] : \\\"\\\"+datum[\\\"type\\\"], \\\"Standard\\\": isValid(datum[\\\"standard\\\"]) ? datum[\\\"standard\\\"] : \\\"\\\"+datum[\\\"standard\\\"], \\\"Units\\\": format(datum[\\\"units\\\"], \\\"\\\")}\"}, \"x\": {\"field\": \"x\", \"scale\": \"x\"}, \"shape\": {\"field\": \"type\", \"scale\": \"shape\"}, \"strokeWidth\": {\"value\": 0.75}, \"stroke\": {\"value\": \"black\"}}}, \"style\": [\"point\"], \"clip\": true, \"interactive\": true}], \"scales\": [{\"name\": \"x\", \"type\": \"linear\", \"domain\": {\"fields\": [{\"data\": \"source_0\", \"field\": \"x\"}, {\"data\": \"source_0\", \"field\": \"x2\"}, {\"data\": \"source_1\", \"field\": \"x\"}]}, \"range\": [0, {\"signal\": \"width\"}], \"nice\": true, \"zero\": true, \"domainRaw\": {\"signal\": \"param_4[\\\"x\\\"]\"}}, {\"name\": \"y\", \"type\": \"linear\", \"domain\": {\"fields\": [{\"data\": \"source_0\", \"field\": \"y\"}, {\"data\": \"source_0\", \"field\": \"y2\"}, {\"data\": \"source_1\", \"field\": \"y\"}]}, \"range\": [{\"signal\": \"height\"}, 0], \"domainRaw\": {\"signal\": \"param_4[\\\"y\\\"]\"}, \"nice\": true, \"zero\": true}, {\"name\": \"color\", \"type\": \"ordinal\", \"domain\": [1, 2, 3, 4, 5], \"range\": [\"#d73027\", \"#fc8d59\", \"#fee090\", \"#91bfdb\", \"#4575b4\"]}, {\"name\": \"size\", \"type\": \"linear\", \"domain\": [{\"signal\": \"(data(\\\"source_1_size_domain_size\\\")[0] || {}).min\"}, {\"signal\": \"(data(\\\"source_1_size_domain_size\\\")[0] || {}).max\"}], \"range\": [4, 361], \"zero\": true}, {\"name\": \"shape\", \"type\": \"ordinal\", \"domain\": [\"House\", \"Apartments\"], \"range\": [\"circle\", \"square\"]}], \"axes\": [{\"scale\": \"x\", \"maxExtent\": 0, \"minExtent\": 0, \"zindex\": 0, \"labels\": false, \"ticks\": false, \"orient\": \"bottom\", \"grid\": true, \"aria\": false, \"gridScale\": \"y\", \"tickCount\": {\"signal\": \"ceil(width/40)\"}, \"domain\": false}, {\"scale\": \"y\", \"zindex\": 0, \"aria\": false, \"orient\": \"left\", \"ticks\": false, \"labels\": false, \"tickCount\": {\"signal\": \"ceil(height/40)\"}, \"maxExtent\": 0, \"grid\": true, \"gridScale\": \"x\", \"minExtent\": 0, \"domain\": false}, {\"scale\": \"x\", \"title\": \"x, x2\", \"labelOverlap\": true, \"grid\": false, \"labelFlush\": true, \"tickCount\": {\"signal\": \"ceil(width/40)\"}, \"zindex\": 0, \"orient\": \"bottom\"}, {\"scale\": \"y\", \"labelOverlap\": true, \"title\": \"y, y2\", \"grid\": false, \"tickCount\": {\"signal\": \"ceil(height/40)\"}, \"orient\": \"left\", \"zindex\": 0}], \"padding\": 5, \"legends\": [{\"title\": \"Standard\", \"fill\": \"color\", \"symbolType\": \"circle\", \"encode\": {\"labels\": {\"name\": \"standard_legend_labels\", \"interactive\": true, \"update\": {\"opacity\": [{\"test\": \"(!length(data(\\\"param_2_store\\\")) || (param_2[\\\"standard\\\"] && indexof(param_2[\\\"standard\\\"], datum.value) >= 0))\", \"value\": 1}, {\"value\": 0.35}]}}, \"symbols\": {\"name\": \"standard_legend_symbols\", \"interactive\": true, \"update\": {\"stroke\": {\"value\": \"black\"}, \"opacity\": [{\"test\": \"(!length(data(\\\"param_2_store\\\")) || (param_2[\\\"standard\\\"] && indexof(param_2[\\\"standard\\\"], datum.value) >= 0))\", \"value\": 1}, {\"value\": 0.35}]}}, \"entries\": {\"name\": \"standard_legend_entries\", \"interactive\": true, \"update\": {\"fill\": {\"value\": \"transparent\"}}}}}, {\"title\": \"Building Type\", \"shape\": \"shape\", \"symbolType\": \"circle\", \"encode\": {\"labels\": {\"name\": \"type_legend_labels\", \"interactive\": true, \"update\": {\"opacity\": [{\"test\": \"(!length(data(\\\"param_1_store\\\")) || (param_1[\\\"type\\\"] && indexof(param_1[\\\"type\\\"], datum.value) >= 0))\", \"value\": 1}, {\"value\": 0.35}]}}, \"symbols\": {\"name\": \"type_legend_symbols\", \"interactive\": true, \"update\": {\"fill\": {\"value\": \"black\"}, \"stroke\": {\"value\": \"black\"}, \"fillOpacity\": {\"value\": 1}, \"opacity\": [{\"test\": \"(!length(data(\\\"param_1_store\\\")) || (param_1[\\\"type\\\"] && indexof(param_1[\\\"type\\\"], datum.value) >= 0))\", \"value\": 1}, {\"value\": 0.35}]}}, \"entries\": {\"name\": \"type_legend_entries\", \"interactive\": true, \"update\": {\"fill\": {\"value\": \"transparent\"}}}}}], \"height\": 300, \"style\": \"cell\", \"width\": 300, \"background\": \"white\"}, {\"mode\": \"vega\"});\n",
       "</script>"
      ],
      "text/plain": [
       "alt.LayerChart(...)"
      ]
     },
     "execution_count": 23,
     "metadata": {},
     "output_type": "execute_result"
    }
   ],
   "source": [
    "network['District_A']['assignments'].plot_interactive_assignments()"
   ]
  },
  {
   "cell_type": "code",
   "execution_count": null,
   "id": "cff2847a-b62d-482d-a8d2-158ca1c532c1",
   "metadata": {},
   "outputs": [],
   "source": []
  }
 ],
 "metadata": {
  "kernelspec": {
   "display_name": "Python [conda env:TsLeaks]",
   "language": "python",
   "name": "conda-env-TsLeaks-py"
  },
  "language_info": {
   "codemirror_mode": {
    "name": "ipython",
    "version": 3
   },
   "file_extension": ".py",
   "mimetype": "text/x-python",
   "name": "python",
   "nbconvert_exporter": "python",
   "pygments_lexer": "ipython3",
   "version": "3.10.16"
  }
 },
 "nbformat": 4,
 "nbformat_minor": 5
}
