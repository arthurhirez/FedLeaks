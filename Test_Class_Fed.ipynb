{
 "cells": [
  {
   "cell_type": "code",
   "execution_count": 1,
   "id": "ec019368db80ff3c",
   "metadata": {
    "ExecuteTime": {
     "end_time": "2025-05-18T12:05:39.145678Z",
     "start_time": "2025-05-18T12:05:24.772930Z"
    }
   },
   "outputs": [],
   "source": [
    "import warnings\n",
    "from argparse import ArgumentParser\n",
    "\n",
    "import pandas as pd\n",
    "\n",
    "from datasets import Priv_NAMES as DATASET_NAMES\n",
    "from datasets import get_private_dataset\n",
    "from models import get_all_models\n",
    "from models import get_model\n",
    "from utils.Server import train\n",
    "from utils.Toolbox_analysis import create_latent_df, process_latent_df\n",
    "\n",
    "warnings.simplefilter(action='ignore', category=FutureWarning)\n",
    "\n",
    "\n",
    "def parse_args():\n",
    "    parser = ArgumentParser(description='You Only Need Me', allow_abbrev=False)\n",
    "    parser.add_argument('--device_id', type=int, default=0, help='The Device Id for Experiment')\n",
    "\n",
    "    # Communication - epochs\n",
    "    parser.add_argument('--communication_epoch', type=int, default=20,\n",
    "                        help='The Communication Epoch in Federated Learning')\n",
    "    parser.add_argument('--local_epoch', type=int, default=5, help='The Local Epoch for each Participant')\n",
    "\n",
    "    # Participants info\n",
    "    #TODO: LINK NUMBER OF PARTICIPANTS WITH SIMULATION\n",
    "    parser.add_argument('--parti_num', type=int, default=None, help='The Number for Participants. If \"None\" will be setted as the sum of values described in --domain')\n",
    "    parser.add_argument('--online_ratio', type=float, default=1, help='The Ratio for Online Clients')\n",
    "\n",
    "    # Data parameters\n",
    "    parser.add_argument('--dataset', type=str, default='fl_leaks', choices=DATASET_NAMES, help='Which scenario to perform experiments on.')\n",
    "    parser.add_argument('--experiment_id', type=str, default='TEST_WINDOW_2', help='Which scenario the experiment is for.')\n",
    "    parser.add_argument('--domains', type=dict, default={\n",
    "                                                        'Graeme': 5,\n",
    "                                                        # 'Balerma': 3,\n",
    "                                                        },\n",
    "                        help='Domains and respective number of participants.')\n",
    "\n",
    "    ## Time series preprocessing\n",
    "    parser.add_argument('--interval_agg', type=int, default=3 * 60 ** 2,\n",
    "                        help='Agregation interval (seconds) of time series')\n",
    "    parser.add_argument('--window_size', type=int, default=100, help='Rolling window length')\n",
    "\n",
    "    # Model (AER) parameters\n",
    "    parser.add_argument('--input_size', type=int, default=5, help='Number of sensors')  #TODO adaptar\n",
    "    parser.add_argument('--output_size', type=int, default=5, help='Shape output - dense layer')\n",
    "    parser.add_argument('--lstm_units', type=int, default=30,\n",
    "                        help='Number of LSTM units (the latent space will have dimension 2 times bigger')\n",
    "\n",
    "    # Federated parameters\n",
    "    parser.add_argument('--model', type=str, default='fpl', help='Federated Model name.', choices=get_all_models()) #fedavg\n",
    "\n",
    "    parser.add_argument('--structure', type=str, default='homogeneity')\n",
    "\n",
    "    parser.add_argument('--pri_aug', type=str, default='weak',  # weak strong\n",
    "                        help='Augmentation for Private Data')\n",
    "    parser.add_argument('--learning_decay', type=bool, default=False, help='The Option for Learning Rate Decay')\n",
    "    parser.add_argument('--averaging', type=str, default='weight', help='The Option for averaging strategy')\n",
    "\n",
    "    parser.add_argument('--infoNCET', type=float, default=0.02, help='The InfoNCE temperature')\n",
    "    parser.add_argument('--T', type=float, default=0.05, help='The Knowledge distillation temperature')\n",
    "    parser.add_argument('--weight', type=int, default=1, help='The Weigth for the distillation loss')\n",
    "\n",
    "    # torch.set_num_threads(4)\n",
    "    # def add_management_args(parser: ArgumentParser) -> None:\n",
    "    #     parser.add_argument('--csv_log', action='store_true',\n",
    "    #                         help='Enable csv logging',default=False)\n",
    "    #\n",
    "    # add_management_args(parser)\n",
    "    #\n",
    "    args, unknown = parser.parse_known_args()\n",
    "\n",
    "    if args.parti_num is None:\n",
    "        args.parti_num = sum(args.domains.values())\n",
    "    #\n",
    "    # best = best_args[args.dataset][args.model]\n",
    "    #\n",
    "    # for key, value in best.items():\n",
    "    #     setattr(args, key, value)\n",
    "    #\n",
    "    # if args.seed is not None:\n",
    "    #     set_random_seed(args.seed)\n",
    "\n",
    "    return args"
   ]
  },
  {
   "cell_type": "code",
   "execution_count": 3,
   "id": "c83c796636db5737",
   "metadata": {
    "ExecuteTime": {
     "end_time": "2025-05-18T12:24:14.030579Z",
     "start_time": "2025-05-18T12:05:39.393452Z"
    },
    "scrolled": true
   },
   "outputs": [
    {
     "name": "stderr",
     "output_type": "stream",
     "text": [
      "Local Pariticipant 0 MSE = 0.157,InfoNCE = 0.000: 100%|██████████| 5/5 [00:03<00:00,  1.41it/s]\n",
      "Local Pariticipant 1 MSE = 0.216,InfoNCE = 0.000: 100%|██████████| 5/5 [00:03<00:00,  1.62it/s]\n",
      "Local Pariticipant 3 MSE = 0.227,InfoNCE = 0.000: 100%|██████████| 5/5 [00:03<00:00,  1.29it/s]\n",
      "Local Pariticipant 4 MSE = 0.227,InfoNCE = 0.000: 100%|██████████| 5/5 [00:05<00:00,  1.05s/it]\n",
      "Local Pariticipant 2 MSE = 0.236,InfoNCE = 0.000: 100%|██████████| 5/5 [00:04<00:00,  1.13it/s]\n"
     ]
    },
    {
     "name": "stdout",
     "output_type": "stream",
     "text": [
      "Partition 0: 1 clusters\n",
      "Partition 0: 2 clusters\n",
      "Partition 0: 2 clusters\n",
      "Partition 0: 2 clusters\n",
      "**--**--**--**--**--**--**--**--**--**--\n",
      "SEM AGREGAÇÃO\n",
      "Acc: 0.9042\tPrec: 0.0000\tRec: 0.0000\tF1: 0.0000\n",
      "Acc: 0.9617\tPrec: 0.0000\tRec: 0.0000\tF1: 0.0000\n",
      "Acc: 0.9318\tPrec: 0.0000\tRec: 0.0000\tF1: 0.0000\n",
      "Acc: 0.9617\tPrec: 0.0000\tRec: 0.0000\tF1: 0.0000\n",
      "Acc: 0.9318\tPrec: 0.0000\tRec: 0.0000\tF1: 0.0000\n"
     ]
    },
    {
     "name": "stderr",
     "output_type": "stream",
     "text": [
      "Local Pariticipant 2 MSE = 0.208,InfoNCE = 2.028: 100%|██████████| 5/5 [00:07<00:00,  1.54s/it]\n",
      "Local Pariticipant 4 MSE = 0.177,InfoNCE = 1.906: 100%|██████████| 5/5 [00:07<00:00,  1.40s/it]\n",
      "Local Pariticipant 1 MSE = 0.190,InfoNCE = 2.278: 100%|██████████| 5/5 [00:07<00:00,  1.53s/it]\n",
      "Local Pariticipant 0 MSE = 0.133,InfoNCE = 2.128: 100%|██████████| 5/5 [00:07<00:00,  1.42s/it]\n",
      "Local Pariticipant 3 MSE = 0.197,InfoNCE = 1.946: 100%|██████████| 5/5 [00:07<00:00,  1.52s/it]\n"
     ]
    },
    {
     "name": "stdout",
     "output_type": "stream",
     "text": [
      "Partition 0: 2 clusters\n",
      "Partition 0: 2 clusters\n",
      "Partition 0: 2 clusters\n",
      "Partition 0: 2 clusters\n",
      "**--**--**--**--**--**--**--**--**--**--\n",
      "SEM AGREGAÇÃO\n",
      "Acc: 0.7616\tPrec: 0.0000\tRec: 0.0000\tF1: 0.0000\n",
      "Acc: 0.8984\tPrec: 0.0000\tRec: 0.0000\tF1: 0.0000\n",
      "Acc: 0.9300\tPrec: 0.0000\tRec: 0.0000\tF1: 0.0000\n",
      "Acc: 0.8976\tPrec: 0.0000\tRec: 0.0000\tF1: 0.0000\n",
      "Acc: 0.8153\tPrec: 0.0000\tRec: 0.0000\tF1: 0.0000\n"
     ]
    },
    {
     "name": "stderr",
     "output_type": "stream",
     "text": [
      "Local Pariticipant 2 MSE = 0.178,InfoNCE = 1.916: 100%|██████████| 5/5 [00:07<00:00,  1.46s/it]\n",
      "Local Pariticipant 1 MSE = 0.178,InfoNCE = 2.384: 100%|██████████| 5/5 [00:07<00:00,  1.44s/it]\n",
      "Local Pariticipant 4 MSE = 0.172,InfoNCE = 1.958: 100%|██████████| 5/5 [00:08<00:00,  1.69s/it]\n",
      "Local Pariticipant 3 MSE = 0.186,InfoNCE = 2.034: 100%|██████████| 5/5 [00:07<00:00,  1.44s/it]\n",
      "Local Pariticipant 0 MSE = 0.109,InfoNCE = 2.104: 100%|██████████| 5/5 [00:07<00:00,  1.56s/it]\n"
     ]
    },
    {
     "name": "stdout",
     "output_type": "stream",
     "text": [
      "Partition 0: 2 clusters\n",
      "Partition 0: 2 clusters\n",
      "Partition 0: 2 clusters\n",
      "Partition 0: 1 clusters\n",
      "**--**--**--**--**--**--**--**--**--**--\n",
      "SEM AGREGAÇÃO\n",
      "Acc: 0.8691\tPrec: 0.0000\tRec: 0.0000\tF1: 0.0000\n",
      "Acc: 0.9300\tPrec: 0.0000\tRec: 0.0000\tF1: 0.0000\n",
      "Acc: 0.8605\tPrec: 0.0000\tRec: 0.0000\tF1: 0.0000\n",
      "Acc: 0.8667\tPrec: 0.0000\tRec: 0.0000\tF1: 0.0000\n",
      "Acc: 0.8601\tPrec: 0.0000\tRec: 0.0000\tF1: 0.0000\n"
     ]
    },
    {
     "name": "stderr",
     "output_type": "stream",
     "text": [
      "Local Pariticipant 2 MSE = 0.174,InfoNCE = 2.336: 100%|██████████| 5/5 [00:06<00:00,  1.39s/it]\n",
      "Local Pariticipant 0 MSE = 0.118,InfoNCE = 2.325: 100%|██████████| 5/5 [00:07<00:00,  1.54s/it]\n",
      "Local Pariticipant 3 MSE = 0.183,InfoNCE = 1.990: 100%|██████████| 5/5 [00:07<00:00,  1.40s/it]\n",
      "Local Pariticipant 4 MSE = 0.168,InfoNCE = 2.488: 100%|██████████| 5/5 [00:07<00:00,  1.51s/it]\n",
      "Local Pariticipant 1 MSE = 0.179,InfoNCE = 2.524: 100%|██████████| 5/5 [00:07<00:00,  1.42s/it]\n"
     ]
    },
    {
     "name": "stdout",
     "output_type": "stream",
     "text": [
      "Partition 0: 1 clusters\n",
      "Partition 0: 1 clusters\n",
      "Partition 0: 1 clusters\n",
      "Partition 0: 1 clusters\n",
      "**--**--**--**--**--**--**--**--**--**--\n",
      "SEM AGREGAÇÃO\n",
      "Acc: 0.7965\tPrec: 0.0000\tRec: 0.0000\tF1: 0.0000\n",
      "Acc: 0.8959\tPrec: 0.0000\tRec: 0.0000\tF1: 0.0000\n",
      "Acc: 0.7947\tPrec: 0.0000\tRec: 0.0000\tF1: 0.0000\n",
      "Acc: 0.8461\tPrec: 0.0000\tRec: 0.0000\tF1: 0.0000\n",
      "Acc: 0.8691\tPrec: 0.0000\tRec: 0.0000\tF1: 0.0000\n"
     ]
    },
    {
     "name": "stderr",
     "output_type": "stream",
     "text": [
      "Local Pariticipant 2 MSE = 0.165,InfoNCE = 1.768: 100%|██████████| 5/5 [00:07<00:00,  1.43s/it]\n",
      "Local Pariticipant 3 MSE = 0.180,InfoNCE = 1.943: 100%|██████████| 5/5 [00:07<00:00,  1.52s/it]\n",
      "Local Pariticipant 0 MSE = 0.107,InfoNCE = 2.199: 100%|██████████| 5/5 [00:07<00:00,  1.41s/it]\n",
      "Local Pariticipant 4 MSE = 0.171,InfoNCE = 2.182: 100%|██████████| 5/5 [00:07<00:00,  1.53s/it]\n",
      "Local Pariticipant 1 MSE = 0.179,InfoNCE = 2.102: 100%|██████████| 5/5 [00:07<00:00,  1.45s/it]\n"
     ]
    },
    {
     "name": "stdout",
     "output_type": "stream",
     "text": [
      "Partition 0: 1 clusters\n",
      "Partition 0: 1 clusters\n",
      "Partition 0: 1 clusters\n",
      "Partition 0: 2 clusters\n",
      "**--**--**--**--**--**--**--**--**--**--\n",
      "SEM AGREGAÇÃO\n",
      "Acc: 0.8147\tPrec: 0.0000\tRec: 0.0000\tF1: 0.0000\n",
      "Acc: 0.8369\tPrec: 0.0000\tRec: 0.0000\tF1: 0.0000\n",
      "Acc: 0.7560\tPrec: 0.0000\tRec: 0.0000\tF1: 0.0000\n",
      "Acc: 0.8375\tPrec: 0.0000\tRec: 0.0000\tF1: 0.0000\n",
      "Acc: 0.8599\tPrec: 0.0000\tRec: 0.0000\tF1: 0.0000\n"
     ]
    },
    {
     "name": "stderr",
     "output_type": "stream",
     "text": [
      "Local Pariticipant 2 MSE = 0.171,InfoNCE = 2.127: 100%|██████████| 5/5 [00:07<00:00,  1.52s/it]\n",
      "Local Pariticipant 3 MSE = 0.176,InfoNCE = 2.262: 100%|██████████| 5/5 [00:07<00:00,  1.44s/it]\n",
      "Local Pariticipant 0 MSE = 0.120,InfoNCE = 1.843: 100%|██████████| 5/5 [00:07<00:00,  1.50s/it]\n",
      "Local Pariticipant 4 MSE = 0.169,InfoNCE = 1.943: 100%|██████████| 5/5 [00:07<00:00,  1.48s/it]\n",
      "Local Pariticipant 1 MSE = 0.173,InfoNCE = 2.006: 100%|██████████| 5/5 [00:07<00:00,  1.42s/it]\n"
     ]
    },
    {
     "name": "stdout",
     "output_type": "stream",
     "text": [
      "Partition 0: 2 clusters\n",
      "Partition 0: 2 clusters\n",
      "Partition 0: 2 clusters\n",
      "Partition 0: 2 clusters\n",
      "**--**--**--**--**--**--**--**--**--**--\n",
      "SEM AGREGAÇÃO\n",
      "Acc: 0.7760\tPrec: 0.0000\tRec: 0.0000\tF1: 0.0000\n",
      "Acc: 0.8623\tPrec: 0.0000\tRec: 0.0000\tF1: 0.0000\n",
      "Acc: 0.7911\tPrec: 0.0000\tRec: 0.0000\tF1: 0.0000\n",
      "Acc: 0.8617\tPrec: 0.0000\tRec: 0.0000\tF1: 0.0000\n",
      "Acc: 0.8605\tPrec: 0.0000\tRec: 0.0000\tF1: 0.0000\n"
     ]
    },
    {
     "name": "stderr",
     "output_type": "stream",
     "text": [
      "Local Pariticipant 0 MSE = 0.108,InfoNCE = 2.111: 100%|██████████| 5/5 [00:07<00:00,  1.53s/it]\n",
      "Local Pariticipant 1 MSE = 0.155,InfoNCE = 2.035: 100%|██████████| 5/5 [00:07<00:00,  1.40s/it]\n",
      "Local Pariticipant 3 MSE = 0.164,InfoNCE = 1.983: 100%|██████████| 5/5 [00:07<00:00,  1.56s/it]\n",
      "Local Pariticipant 4 MSE = 0.152,InfoNCE = 1.962: 100%|██████████| 5/5 [00:06<00:00,  1.40s/it]\n",
      "Local Pariticipant 2 MSE = 0.145,InfoNCE = 2.007: 100%|██████████| 5/5 [00:07<00:00,  1.51s/it]\n"
     ]
    },
    {
     "name": "stdout",
     "output_type": "stream",
     "text": [
      "Partition 0: 2 clusters\n",
      "Partition 0: 2 clusters\n",
      "Partition 0: 2 clusters\n",
      "Partition 0: 2 clusters\n",
      "**--**--**--**--**--**--**--**--**--**--\n",
      "SEM AGREGAÇÃO\n",
      "Acc: 0.7996\tPrec: 0.0000\tRec: 0.0000\tF1: 0.0000\n",
      "Acc: 0.8941\tPrec: 0.0000\tRec: 0.0000\tF1: 0.0000\n",
      "Acc: 0.8282\tPrec: 0.0000\tRec: 0.0000\tF1: 0.0000\n",
      "Acc: 0.8947\tPrec: 0.0000\tRec: 0.0000\tF1: 0.0000\n",
      "Acc: 0.9318\tPrec: 0.0000\tRec: 0.0000\tF1: 0.0000\n"
     ]
    },
    {
     "name": "stderr",
     "output_type": "stream",
     "text": [
      "Local Pariticipant 4 MSE = 0.112,InfoNCE = 1.963: 100%|██████████| 5/5 [00:07<00:00,  1.48s/it]\n",
      "Local Pariticipant 2 MSE = 0.125,InfoNCE = 1.670: 100%|██████████| 5/5 [00:07<00:00,  1.46s/it]\n",
      "Local Pariticipant 3 MSE = 0.117,InfoNCE = 2.357: 100%|██████████| 5/5 [00:07<00:00,  1.50s/it]\n",
      "Local Pariticipant 1 MSE = 0.133,InfoNCE = 1.941: 100%|██████████| 5/5 [00:07<00:00,  1.42s/it]\n",
      "Local Pariticipant 0 MSE = 0.102,InfoNCE = 1.978: 100%|██████████| 5/5 [00:07<00:00,  1.49s/it]\n"
     ]
    },
    {
     "name": "stdout",
     "output_type": "stream",
     "text": [
      "Partition 0: 2 clusters\n",
      "Partition 0: 2 clusters\n",
      "Partition 0: 2 clusters\n",
      "Partition 0: 2 clusters\n",
      "**--**--**--**--**--**--**--**--**--**--\n",
      "SEM AGREGAÇÃO\n",
      "Acc: 0.8338\tPrec: 0.0000\tRec: 0.0000\tF1: 0.0000\n",
      "Acc: 0.8024\tPrec: 0.0000\tRec: 0.0000\tF1: 0.0000\n",
      "Acc: 0.7953\tPrec: 0.0000\tRec: 0.0000\tF1: 0.0000\n",
      "Acc: 0.8375\tPrec: 0.0000\tRec: 0.0000\tF1: 0.0000\n",
      "Acc: 0.8713\tPrec: 0.0000\tRec: 0.0000\tF1: 0.0000\n"
     ]
    },
    {
     "name": "stderr",
     "output_type": "stream",
     "text": [
      "Local Pariticipant 3 MSE = 0.088,InfoNCE = 1.939: 100%|██████████| 5/5 [00:07<00:00,  1.42s/it]\n",
      "Local Pariticipant 1 MSE = 0.087,InfoNCE = 2.459: 100%|██████████| 5/5 [00:07<00:00,  1.54s/it]\n",
      "Local Pariticipant 2 MSE = 0.100,InfoNCE = 2.291: 100%|██████████| 5/5 [00:07<00:00,  1.40s/it]\n",
      "Local Pariticipant 0 MSE = 0.071,InfoNCE = 2.213: 100%|██████████| 5/5 [00:07<00:00,  1.49s/it]\n",
      "Local Pariticipant 4 MSE = 0.097,InfoNCE = 2.246: 100%|██████████| 5/5 [00:07<00:00,  1.44s/it]\n"
     ]
    },
    {
     "name": "stdout",
     "output_type": "stream",
     "text": [
      "Partition 0: 2 clusters\n",
      "Partition 0: 2 clusters\n",
      "Partition 0: 2 clusters\n",
      "Partition 0: 2 clusters\n",
      "**--**--**--**--**--**--**--**--**--**--\n",
      "SEM AGREGAÇÃO\n",
      "Acc: 0.8387\tPrec: 0.0000\tRec: 0.0000\tF1: 0.0000\n",
      "Acc: 0.8728\tPrec: 0.0000\tRec: 0.0000\tF1: 0.0000\n",
      "Acc: 0.8064\tPrec: 0.0000\tRec: 0.0000\tF1: 0.0000\n",
      "Acc: 0.8764\tPrec: 0.0000\tRec: 0.0000\tF1: 0.0000\n",
      "Acc: 0.8387\tPrec: 0.0000\tRec: 0.0000\tF1: 0.0000\n"
     ]
    },
    {
     "name": "stderr",
     "output_type": "stream",
     "text": [
      "Local Pariticipant 3 MSE = 0.073,InfoNCE = 3.066: 100%|██████████| 5/5 [00:07<00:00,  1.42s/it]\n",
      "Local Pariticipant 0 MSE = 0.054,InfoNCE = 2.327: 100%|██████████| 5/5 [00:07<00:00,  1.50s/it]\n",
      "Local Pariticipant 2 MSE = 0.105,InfoNCE = 2.105: 100%|██████████| 5/5 [00:07<00:00,  1.41s/it]\n",
      "Local Pariticipant 1 MSE = 0.078,InfoNCE = 2.341: 100%|██████████| 5/5 [00:07<00:00,  1.55s/it]\n",
      "Local Pariticipant 4 MSE = 0.058,InfoNCE = 2.332: 100%|██████████| 5/5 [00:07<00:00,  1.44s/it]\n"
     ]
    },
    {
     "name": "stdout",
     "output_type": "stream",
     "text": [
      "Partition 0: 2 clusters\n",
      "Partition 0: 2 clusters\n",
      "Partition 0: 2 clusters\n",
      "Partition 0: 2 clusters\n",
      "**--**--**--**--**--**--**--**--**--**--\n",
      "SEM AGREGAÇÃO\n",
      "Acc: 0.8726\tPrec: 0.0000\tRec: 0.0000\tF1: 0.0000\n",
      "Acc: 0.8393\tPrec: 0.0000\tRec: 0.0000\tF1: 0.0000\n",
      "Acc: 0.7429\tPrec: 0.0000\tRec: 0.0000\tF1: 0.0000\n",
      "Acc: 0.8588\tPrec: 0.0000\tRec: 0.0000\tF1: 0.0000\n",
      "Acc: 0.8471\tPrec: 0.0000\tRec: 0.0000\tF1: 0.0000\n"
     ]
    },
    {
     "name": "stderr",
     "output_type": "stream",
     "text": [
      "Local Pariticipant 2 MSE = 0.070,InfoNCE = 2.141: 100%|██████████| 5/5 [00:07<00:00,  1.47s/it]\n",
      "Local Pariticipant 4 MSE = 0.047,InfoNCE = 2.083: 100%|██████████| 5/5 [00:07<00:00,  1.46s/it]\n",
      "Local Pariticipant 0 MSE = 0.051,InfoNCE = 1.945: 100%|██████████| 5/5 [00:07<00:00,  1.55s/it]\n",
      "Local Pariticipant 3 MSE = 0.054,InfoNCE = 2.092: 100%|██████████| 5/5 [00:10<00:00,  2.04s/it]\n",
      "Local Pariticipant 1 MSE = 0.031,InfoNCE = 1.791: 100%|██████████| 5/5 [00:08<00:00,  1.67s/it]\n"
     ]
    },
    {
     "name": "stdout",
     "output_type": "stream",
     "text": [
      "Partition 0: 2 clusters\n",
      "Partition 0: 2 clusters\n",
      "Partition 0: 2 clusters\n",
      "Partition 0: 2 clusters\n",
      "**--**--**--**--**--**--**--**--**--**--\n",
      "SEM AGREGAÇÃO\n",
      "Acc: 0.7990\tPrec: 0.0000\tRec: 0.0000\tF1: 0.0000\n",
      "Acc: 0.8659\tPrec: 0.0000\tRec: 0.0000\tF1: 0.0000\n",
      "Acc: 0.7764\tPrec: 0.0000\tRec: 0.0000\tF1: 0.0000\n",
      "Acc: 0.8935\tPrec: 0.0000\tRec: 0.0000\tF1: 0.0000\n",
      "Acc: 0.8830\tPrec: 0.0000\tRec: 0.0000\tF1: 0.0000\n"
     ]
    },
    {
     "name": "stderr",
     "output_type": "stream",
     "text": [
      "Local Pariticipant 1 MSE = 0.065,InfoNCE = 2.552: 100%|██████████| 5/5 [00:07<00:00,  1.42s/it]\n",
      "Local Pariticipant 3 MSE = 0.023,InfoNCE = 2.451: 100%|██████████| 5/5 [00:07<00:00,  1.40s/it]\n",
      "Local Pariticipant 2 MSE = 0.036,InfoNCE = 2.086: 100%|██████████| 5/5 [00:08<00:00,  1.64s/it]\n",
      "Local Pariticipant 0 MSE = 0.033,InfoNCE = 2.331: 100%|██████████| 5/5 [00:07<00:00,  1.46s/it]\n",
      "Local Pariticipant 4 MSE = 0.082,InfoNCE = 2.218: 100%|██████████| 5/5 [00:07<00:00,  1.50s/it]\n"
     ]
    },
    {
     "name": "stdout",
     "output_type": "stream",
     "text": [
      "Partition 0: 1 clusters\n",
      "Partition 0: 1 clusters\n",
      "Partition 0: 2 clusters\n",
      "Partition 0: 1 clusters\n",
      "**--**--**--**--**--**--**--**--**--**--\n",
      "SEM AGREGAÇÃO\n",
      "Acc: 0.7985\tPrec: 0.0000\tRec: 0.0000\tF1: 0.0000\n",
      "Acc: 0.8445\tPrec: 0.0000\tRec: 0.0000\tF1: 0.0000\n",
      "Acc: 0.7935\tPrec: 0.0000\tRec: 0.0000\tF1: 0.0000\n",
      "Acc: 0.8445\tPrec: 0.0000\tRec: 0.0000\tF1: 0.0000\n",
      "Acc: 0.8611\tPrec: 0.0000\tRec: 0.0000\tF1: 0.0000\n"
     ]
    },
    {
     "name": "stderr",
     "output_type": "stream",
     "text": [
      "Local Pariticipant 2 MSE = 0.032,InfoNCE = 2.234: 100%|██████████| 5/5 [00:07<00:00,  1.46s/it]\n",
      "Local Pariticipant 4 MSE = 0.009,InfoNCE = 2.777: 100%|██████████| 5/5 [00:08<00:00,  1.69s/it]\n",
      "Local Pariticipant 1 MSE = 0.020,InfoNCE = 2.640: 100%|██████████| 5/5 [00:07<00:00,  1.52s/it]\n",
      "Local Pariticipant 0 MSE = 0.034,InfoNCE = 2.265: 100%|██████████| 5/5 [00:07<00:00,  1.48s/it]\n",
      "Local Pariticipant 3 MSE = 0.017,InfoNCE = 3.906: 100%|██████████| 5/5 [00:06<00:00,  1.39s/it]\n"
     ]
    },
    {
     "name": "stdout",
     "output_type": "stream",
     "text": [
      "Partition 0: 2 clusters\n",
      "Partition 0: 2 clusters\n",
      "Partition 0: 2 clusters\n",
      "Partition 0: 2 clusters\n",
      "**--**--**--**--**--**--**--**--**--**--\n",
      "SEM AGREGAÇÃO\n",
      "Acc: 0.8782\tPrec: 0.0000\tRec: 0.0000\tF1: 0.0000\n",
      "Acc: 0.8046\tPrec: 0.0000\tRec: 0.0000\tF1: 0.0000\n",
      "Acc: 0.7352\tPrec: 0.0000\tRec: 0.0000\tF1: 0.0000\n",
      "Acc: 0.8399\tPrec: 0.0000\tRec: 0.0000\tF1: 0.0000\n",
      "Acc: 0.8488\tPrec: 0.0000\tRec: 0.0000\tF1: 0.0000\n"
     ]
    },
    {
     "name": "stderr",
     "output_type": "stream",
     "text": [
      "Local Pariticipant 0 MSE = 0.036,InfoNCE = 2.247: 100%|██████████| 5/5 [00:06<00:00,  1.40s/it]\n",
      "Local Pariticipant 4 MSE = 0.050,InfoNCE = 2.086: 100%|██████████| 5/5 [00:07<00:00,  1.55s/it]\n",
      "Local Pariticipant 1 MSE = 0.017,InfoNCE = 2.231: 100%|██████████| 5/5 [00:07<00:00,  1.42s/it]\n",
      "Local Pariticipant 2 MSE = 0.040,InfoNCE = 2.348: 100%|██████████| 5/5 [00:07<00:00,  1.50s/it]\n",
      "Local Pariticipant 3 MSE = 0.104,InfoNCE = 2.270: 100%|██████████| 5/5 [00:07<00:00,  1.44s/it]\n"
     ]
    },
    {
     "name": "stdout",
     "output_type": "stream",
     "text": [
      "Partition 0: 1 clusters\n",
      "Partition 0: 1 clusters\n",
      "Partition 0: 1 clusters\n",
      "Partition 0: 1 clusters\n",
      "**--**--**--**--**--**--**--**--**--**--\n",
      "SEM AGREGAÇÃO\n",
      "Acc: 0.8278\tPrec: 0.0000\tRec: 0.0000\tF1: 0.0000\n",
      "Acc: 0.8304\tPrec: 0.0000\tRec: 0.0000\tF1: 0.0000\n",
      "Acc: 0.8052\tPrec: 0.0000\tRec: 0.0000\tF1: 0.0000\n",
      "Acc: 0.7838\tPrec: 0.0000\tRec: 0.0000\tF1: 0.0000\n",
      "Acc: 0.8201\tPrec: 0.0000\tRec: 0.0000\tF1: 0.0000\n"
     ]
    },
    {
     "name": "stderr",
     "output_type": "stream",
     "text": [
      "Local Pariticipant 0 MSE = 0.030,InfoNCE = 1.985: 100%|██████████| 5/5 [00:07<00:00,  1.46s/it]\n",
      "Local Pariticipant 4 MSE = 0.009,InfoNCE = 1.887: 100%|██████████| 5/5 [00:07<00:00,  1.41s/it]\n",
      "Local Pariticipant 2 MSE = 0.033,InfoNCE = 2.069: 100%|██████████| 5/5 [00:07<00:00,  1.40s/it]\n",
      "Local Pariticipant 1 MSE = 0.016,InfoNCE = 2.153: 100%|██████████| 5/5 [00:07<00:00,  1.48s/it]\n",
      "Local Pariticipant 3 MSE = 0.090,InfoNCE = 1.951: 100%|██████████| 5/5 [00:07<00:00,  1.45s/it]\n"
     ]
    },
    {
     "name": "stdout",
     "output_type": "stream",
     "text": [
      "Partition 0: 2 clusters\n",
      "Partition 0: 2 clusters\n",
      "Partition 0: 2 clusters\n",
      "Partition 0: 2 clusters\n",
      "**--**--**--**--**--**--**--**--**--**--\n",
      "SEM AGREGAÇÃO\n",
      "Acc: 0.8976\tPrec: 0.0000\tRec: 0.0000\tF1: 0.0000\n",
      "Acc: 0.8227\tPrec: 0.0000\tRec: 0.0000\tF1: 0.0000\n",
      "Acc: 0.8824\tPrec: 0.0000\tRec: 0.0000\tF1: 0.0000\n",
      "Acc: 0.8869\tPrec: 0.0000\tRec: 0.0000\tF1: 0.0000\n",
      "Acc: 0.9002\tPrec: 0.0000\tRec: 0.0000\tF1: 0.0000\n"
     ]
    },
    {
     "name": "stderr",
     "output_type": "stream",
     "text": [
      "Local Pariticipant 0 MSE = 0.048,InfoNCE = 2.090: 100%|██████████| 5/5 [00:07<00:00,  1.51s/it]\n",
      "Local Pariticipant 1 MSE = 0.015,InfoNCE = 2.298: 100%|██████████| 5/5 [00:07<00:00,  1.42s/it]\n",
      "Local Pariticipant 4 MSE = 0.055,InfoNCE = 2.160: 100%|██████████| 5/5 [00:07<00:00,  1.52s/it]\n",
      "Local Pariticipant 3 MSE = 0.017,InfoNCE = 2.115: 100%|██████████| 5/5 [00:07<00:00,  1.44s/it]\n",
      "Local Pariticipant 2 MSE = 0.042,InfoNCE = 2.111: 100%|██████████| 5/5 [00:07<00:00,  1.50s/it]\n"
     ]
    },
    {
     "name": "stdout",
     "output_type": "stream",
     "text": [
      "Partition 0: 2 clusters\n",
      "Partition 0: 2 clusters\n",
      "Partition 0: 2 clusters\n",
      "Partition 0: 2 clusters\n",
      "**--**--**--**--**--**--**--**--**--**--\n",
      "SEM AGREGAÇÃO\n",
      "Acc: 0.8982\tPrec: 0.0000\tRec: 0.0000\tF1: 0.0000\n",
      "Acc: 0.8605\tPrec: 0.0000\tRec: 0.0000\tF1: 0.0000\n",
      "Acc: 0.8415\tPrec: 0.0000\tRec: 0.0000\tF1: 0.0000\n",
      "Acc: 0.8707\tPrec: 0.0000\tRec: 0.0000\tF1: 0.0000\n",
      "Acc: 0.9347\tPrec: 0.0000\tRec: 0.0000\tF1: 0.0000\n"
     ]
    },
    {
     "name": "stderr",
     "output_type": "stream",
     "text": [
      "Local Pariticipant 3 MSE = 0.013,InfoNCE = 2.372: 100%|██████████| 5/5 [00:07<00:00,  1.49s/it]\n",
      "Local Pariticipant 4 MSE = 0.009,InfoNCE = 1.722: 100%|██████████| 5/5 [00:06<00:00,  1.39s/it]\n",
      "Local Pariticipant 2 MSE = 0.035,InfoNCE = 2.255: 100%|██████████| 5/5 [00:07<00:00,  1.49s/it]\n",
      "Local Pariticipant 1 MSE = 0.013,InfoNCE = 2.177: 100%|██████████| 5/5 [00:06<00:00,  1.40s/it]\n",
      "Local Pariticipant 0 MSE = 0.038,InfoNCE = 2.277: 100%|██████████| 5/5 [00:07<00:00,  1.53s/it]\n"
     ]
    },
    {
     "name": "stdout",
     "output_type": "stream",
     "text": [
      "Partition 0: 2 clusters\n",
      "Partition 0: 2 clusters\n",
      "Partition 0: 2 clusters\n",
      "Partition 0: 2 clusters\n",
      "**--**--**--**--**--**--**--**--**--**--\n",
      "SEM AGREGAÇÃO\n",
      "Acc: 0.8441\tPrec: 0.0000\tRec: 0.0000\tF1: 0.0000\n",
      "Acc: 0.7862\tPrec: 0.0000\tRec: 0.0000\tF1: 0.0000\n",
      "Acc: 0.7711\tPrec: 0.0000\tRec: 0.0000\tF1: 0.0000\n",
      "Acc: 0.8381\tPrec: 0.0000\tRec: 0.0000\tF1: 0.0000\n",
      "Acc: 0.9347\tPrec: 0.0000\tRec: 0.0000\tF1: 0.0000\n"
     ]
    },
    {
     "name": "stderr",
     "output_type": "stream",
     "text": [
      "Local Pariticipant 2 MSE = 0.025,InfoNCE = 2.035: 100%|██████████| 5/5 [00:05<00:00,  1.17s/it]\n",
      "Local Pariticipant 4 MSE = 0.008,InfoNCE = 1.958: 100%|██████████| 5/5 [00:05<00:00,  1.19s/it]\n",
      "Local Pariticipant 0 MSE = 0.026,InfoNCE = 1.940: 100%|██████████| 5/5 [00:06<00:00,  1.28s/it]\n",
      "Local Pariticipant 3 MSE = 0.012,InfoNCE = 1.922: 100%|██████████| 5/5 [00:05<00:00,  1.19s/it]\n",
      "Local Pariticipant 1 MSE = 0.180,InfoNCE = 1.949: 100%|██████████| 5/5 [00:06<00:00,  1.24s/it]\n"
     ]
    },
    {
     "name": "stdout",
     "output_type": "stream",
     "text": [
      "Partition 0: 1 clusters\n",
      "Partition 0: 1 clusters\n",
      "Partition 0: 1 clusters\n",
      "Partition 0: 1 clusters\n",
      "**--**--**--**--**--**--**--**--**--**--\n",
      "SEM AGREGAÇÃO\n",
      "Acc: 0.8522\tPrec: 0.0000\tRec: 0.0000\tF1: 0.0000\n",
      "Acc: 0.8098\tPrec: 0.0000\tRec: 0.0000\tF1: 0.0000\n",
      "Acc: 0.8030\tPrec: 0.0000\tRec: 0.0000\tF1: 0.0000\n",
      "Acc: 0.8701\tPrec: 0.0000\tRec: 0.0000\tF1: 0.0000\n",
      "Acc: 0.8689\tPrec: 0.0000\tRec: 0.0000\tF1: 0.0000\n"
     ]
    },
    {
     "name": "stderr",
     "output_type": "stream",
     "text": [
      "Local Pariticipant 2 MSE = 0.173,InfoNCE = 1.990: 100%|██████████| 5/5 [00:05<00:00,  1.15s/it]\n",
      "Local Pariticipant 3 MSE = 0.180,InfoNCE = 1.733: 100%|██████████| 5/5 [00:06<00:00,  1.22s/it]\n",
      "Local Pariticipant 1 MSE = 0.173,InfoNCE = 1.759: 100%|██████████| 5/5 [00:05<00:00,  1.14s/it]\n",
      "Local Pariticipant 4 MSE = 0.167,InfoNCE = 1.980: 100%|██████████| 5/5 [00:06<00:00,  1.22s/it]\n",
      "Local Pariticipant 0 MSE = 0.114,InfoNCE = 1.822: 100%|██████████| 5/5 [00:05<00:00,  1.15s/it]\n"
     ]
    },
    {
     "name": "stdout",
     "output_type": "stream",
     "text": [
      "Partition 0: 1 clusters\n",
      "Partition 0: 1 clusters\n",
      "Partition 0: 2 clusters\n",
      "Partition 0: 1 clusters\n",
      "**--**--**--**--**--**--**--**--**--**--\n",
      "SEM AGREGAÇÃO\n",
      "Acc: 0.8361\tPrec: 0.0000\tRec: 0.0000\tF1: 0.0000\n",
      "Acc: 0.8510\tPrec: 0.0000\tRec: 0.0000\tF1: 0.0000\n",
      "Acc: 0.8121\tPrec: 0.0000\tRec: 0.0000\tF1: 0.0000\n",
      "Acc: 0.8964\tPrec: 0.0000\tRec: 0.0000\tF1: 0.0000\n",
      "Acc: 0.8441\tPrec: 0.0000\tRec: 0.0000\tF1: 0.0000\n"
     ]
    },
    {
     "name": "stderr",
     "output_type": "stream",
     "text": [
      "Local Pariticipant 4 MSE = 0.137,InfoNCE = 1.988: 100%|██████████| 5/5 [00:05<00:00,  1.16s/it]\n",
      "Local Pariticipant 3 MSE = 0.166,InfoNCE = 1.822: 100%|██████████| 5/5 [00:05<00:00,  1.15s/it]\n",
      "Local Pariticipant 2 MSE = 0.156,InfoNCE = 2.094: 100%|██████████| 5/5 [00:06<00:00,  1.26s/it]\n",
      "Local Pariticipant 0 MSE = 0.090,InfoNCE = 1.943: 100%|██████████| 5/5 [00:05<00:00,  1.17s/it]\n",
      "Local Pariticipant 1 MSE = 0.139,InfoNCE = 1.905: 100%|██████████| 5/5 [00:05<00:00,  1.15s/it]\n"
     ]
    },
    {
     "name": "stdout",
     "output_type": "stream",
     "text": [
      "Partition 0: 2 clusters\n",
      "Partition 0: 2 clusters\n",
      "Partition 0: 2 clusters\n",
      "Partition 0: 2 clusters\n",
      "**--**--**--**--**--**--**--**--**--**--\n",
      "SEM AGREGAÇÃO\n",
      "Acc: 0.8002\tPrec: 0.0000\tRec: 0.0000\tF1: 0.0000\n",
      "Acc: 0.9318\tPrec: 0.0000\tRec: 0.0000\tF1: 0.0000\n",
      "Acc: 0.8578\tPrec: 0.0000\tRec: 0.0000\tF1: 0.0000\n",
      "Acc: 0.9300\tPrec: 0.0000\tRec: 0.0000\tF1: 0.0000\n",
      "Acc: 0.8941\tPrec: 0.0000\tRec: 0.0000\tF1: 0.0000\n"
     ]
    },
    {
     "name": "stderr",
     "output_type": "stream",
     "text": [
      "Local Pariticipant 3 MSE = 0.144,InfoNCE = 0.000: 100%|██████████| 5/5 [00:04<00:00,  1.09it/s]\n",
      "Local Pariticipant 1 MSE = 0.150,InfoNCE = 0.000: 100%|██████████| 5/5 [00:04<00:00,  1.04it/s]\n",
      "Local Pariticipant 0 MSE = 0.129,InfoNCE = 0.000: 100%|██████████| 5/5 [00:04<00:00,  1.19it/s]\n",
      "Local Pariticipant 4 MSE = 0.163,InfoNCE = 0.000: 100%|██████████| 5/5 [00:03<00:00,  1.31it/s]\n",
      "Local Pariticipant 2 MSE = 0.167,InfoNCE = 0.000: 100%|██████████| 5/5 [00:03<00:00,  1.26it/s]\n"
     ]
    },
    {
     "name": "stdout",
     "output_type": "stream",
     "text": [
      "Partition 0: 1 clusters\n",
      "Partition 0: 1 clusters\n",
      "Partition 0: 1 clusters\n",
      "Partition 0: 1 clusters\n",
      "**--**--**--**--**--**--**--**--**--**--\n",
      "SEM AGREGAÇÃO\n",
      "Acc: 0.8231\tPrec: 0.4599\tRec: 0.3916\tF1: 0.4230\n",
      "Acc: 0.7653\tPrec: 0.3263\tRec: 0.3916\tF1: 0.3560\n",
      "Acc: 0.7971\tPrec: 0.3716\tRec: 0.3257\tF1: 0.3472\n",
      "Acc: 0.7897\tPrec: 0.3720\tRec: 0.3916\tF1: 0.3816\n",
      "Acc: 0.7905\tPrec: 0.4398\tRec: 0.9665\tF1: 0.6045\n"
     ]
    },
    {
     "name": "stderr",
     "output_type": "stream",
     "text": [
      "Local Pariticipant 4 MSE = 0.148,InfoNCE = 1.444: 100%|██████████| 5/5 [00:07<00:00,  1.51s/it]\n",
      "Local Pariticipant 3 MSE = 0.160,InfoNCE = 1.572: 100%|██████████| 5/5 [00:07<00:00,  1.41s/it]\n",
      "Local Pariticipant 2 MSE = 0.148,InfoNCE = 1.589: 100%|██████████| 5/5 [00:07<00:00,  1.53s/it]\n",
      "Local Pariticipant 0 MSE = 0.098,InfoNCE = 1.546: 100%|██████████| 5/5 [00:07<00:00,  1.41s/it]\n",
      "Local Pariticipant 1 MSE = 0.118,InfoNCE = 1.613: 100%|██████████| 5/5 [00:07<00:00,  1.52s/it]\n"
     ]
    },
    {
     "name": "stdout",
     "output_type": "stream",
     "text": [
      "Partition 0: 2 clusters\n",
      "Partition 0: 2 clusters\n",
      "Partition 0: 1 clusters\n",
      "Partition 0: 1 clusters\n",
      "**--**--**--**--**--**--**--**--**--**--\n",
      "SEM AGREGAÇÃO\n",
      "Acc: 0.8219\tPrec: 0.4561\tRec: 0.3916\tF1: 0.4214\n",
      "Acc: 0.8002\tPrec: 0.4518\tRec: 0.9665\tF1: 0.6158\n",
      "Acc: 0.7959\tPrec: 0.3686\tRec: 0.3257\tF1: 0.3458\n",
      "Acc: 0.8026\tPrec: 0.4500\tRec: 0.8623\tF1: 0.5914\n",
      "Acc: 0.7915\tPrec: 0.4407\tRec: 0.9605\tF1: 0.6041\n"
     ]
    },
    {
     "name": "stderr",
     "output_type": "stream",
     "text": [
      "Local Pariticipant 3 MSE = 0.126,InfoNCE = 2.909: 100%|██████████| 5/5 [00:08<00:00,  1.65s/it]\n",
      "Local Pariticipant 1 MSE = 0.113,InfoNCE = 5.531: 100%|██████████| 5/5 [00:07<00:00,  1.40s/it]\n",
      "Local Pariticipant 0 MSE = 0.085,InfoNCE = 2.472: 100%|██████████| 5/5 [00:07<00:00,  1.51s/it]\n",
      "Local Pariticipant 4 MSE = 0.110,InfoNCE = 2.762: 100%|██████████| 5/5 [00:07<00:00,  1.41s/it]\n",
      "Local Pariticipant 2 MSE = 0.130,InfoNCE = 2.878: 100%|██████████| 5/5 [00:07<00:00,  1.49s/it]\n"
     ]
    },
    {
     "name": "stdout",
     "output_type": "stream",
     "text": [
      "Partition 0: 1 clusters\n",
      "Partition 0: 2 clusters\n",
      "Partition 0: 1 clusters\n",
      "Partition 0: 1 clusters\n",
      "**--**--**--**--**--**--**--**--**--**--\n",
      "SEM AGREGAÇÃO\n",
      "Acc: 0.8121\tPrec: 0.4557\tRec: 0.6898\tF1: 0.5488\n",
      "Acc: 0.7651\tPrec: 0.4089\tRec: 0.9377\tF1: 0.5695\n",
      "Acc: 0.7544\tPrec: 0.3946\tRec: 0.9030\tF1: 0.5492\n",
      "Acc: 0.7992\tPrec: 0.4410\tRec: 0.7928\tF1: 0.5668\n",
      "Acc: 0.7838\tPrec: 0.4300\tRec: 0.9377\tF1: 0.5896\n"
     ]
    },
    {
     "name": "stderr",
     "output_type": "stream",
     "text": [
      "Local Pariticipant 4 MSE = 0.102,InfoNCE = 2.362: 100%|██████████| 5/5 [00:07<00:00,  1.42s/it]\n",
      "Local Pariticipant 1 MSE = 0.099,InfoNCE = 2.826: 100%|██████████| 5/5 [00:07<00:00,  1.49s/it]\n",
      "Local Pariticipant 2 MSE = 0.117,InfoNCE = 2.729: 100%|██████████| 5/5 [00:07<00:00,  1.47s/it]\n",
      "Local Pariticipant 0 MSE = 0.083,InfoNCE = 2.288: 100%|██████████| 5/5 [00:07<00:00,  1.42s/it]\n",
      "Local Pariticipant 3 MSE = 0.099,InfoNCE = 2.016: 100%|██████████| 5/5 [00:07<00:00,  1.52s/it]\n"
     ]
    },
    {
     "name": "stdout",
     "output_type": "stream",
     "text": [
      "Partition 0: 1 clusters\n",
      "Partition 0: 1 clusters\n",
      "Partition 0: 1 clusters\n",
      "Partition 0: 1 clusters\n",
      "**--**--**--**--**--**--**--**--**--**--\n",
      "SEM AGREGAÇÃO\n",
      "Acc: 0.7915\tPrec: 0.4051\tRec: 0.5521\tF1: 0.4673\n",
      "Acc: 0.7951\tPrec: 0.4439\tRec: 0.9377\tF1: 0.6025\n",
      "Acc: 0.8153\tPrec: 0.4473\tRec: 0.4874\tF1: 0.4665\n",
      "Acc: 0.8121\tPrec: 0.4664\tRec: 0.9305\tF1: 0.6214\n",
      "Acc: 0.7566\tPrec: 0.3690\tRec: 0.6611\tF1: 0.4736\n"
     ]
    },
    {
     "name": "stderr",
     "output_type": "stream",
     "text": [
      "Local Pariticipant 1 MSE = 0.089,InfoNCE = 1.719: 100%|██████████| 5/5 [00:06<00:00,  1.39s/it]\n",
      "Local Pariticipant 2 MSE = 0.114,InfoNCE = 1.812: 100%|██████████| 5/5 [00:07<00:00,  1.54s/it]\n",
      "Local Pariticipant 3 MSE = 0.107,InfoNCE = 1.847: 100%|██████████| 5/5 [00:07<00:00,  1.50s/it]\n",
      "Local Pariticipant 4 MSE = 0.100,InfoNCE = 1.838: 100%|██████████| 5/5 [00:07<00:00,  1.51s/it]\n",
      "Local Pariticipant 0 MSE = 0.096,InfoNCE = 1.705: 100%|██████████| 5/5 [00:07<00:00,  1.46s/it]\n"
     ]
    },
    {
     "name": "stdout",
     "output_type": "stream",
     "text": [
      "Partition 0: 2 clusters\n",
      "Partition 0: 2 clusters\n",
      "Partition 0: 2 clusters\n",
      "Partition 0: 2 clusters\n",
      "**--**--**--**--**--**--**--**--**--**--\n",
      "SEM AGREGAÇÃO\n",
      "Acc: 0.7199\tPrec: 0.3135\tRec: 0.5808\tF1: 0.4072\n",
      "Acc: 0.7639\tPrec: 0.4069\tRec: 0.9293\tF1: 0.5660\n",
      "Acc: 0.7104\tPrec: 0.3048\tRec: 0.5844\tF1: 0.4007\n",
      "Acc: 0.7967\tPrec: 0.4395\tRec: 0.8263\tF1: 0.5738\n",
      "Acc: 0.7667\tPrec: 0.4059\tRec: 0.8802\tF1: 0.5556\n"
     ]
    },
    {
     "name": "stderr",
     "output_type": "stream",
     "text": [
      "Local Pariticipant 1 MSE = 0.070,InfoNCE = 1.892: 100%|██████████| 5/5 [00:07<00:00,  1.44s/it]\n",
      "Local Pariticipant 3 MSE = 0.089,InfoNCE = 1.938: 100%|██████████| 5/5 [00:07<00:00,  1.51s/it]\n",
      "Local Pariticipant 2 MSE = 0.120,InfoNCE = 2.087: 100%|██████████| 5/5 [00:07<00:00,  1.42s/it]\n",
      "Local Pariticipant 4 MSE = 0.094,InfoNCE = 2.146: 100%|██████████| 5/5 [00:07<00:00,  1.55s/it]\n",
      "Local Pariticipant 0 MSE = 0.081,InfoNCE = 1.799: 100%|██████████| 5/5 [00:07<00:00,  1.43s/it]\n"
     ]
    },
    {
     "name": "stdout",
     "output_type": "stream",
     "text": [
      "Partition 0: 1 clusters\n",
      "Partition 0: 2 clusters\n",
      "Partition 0: 1 clusters\n",
      "Partition 0: 2 clusters\n",
      "**--**--**--**--**--**--**--**--**--**--\n",
      "SEM AGREGAÇÃO\n",
      "Acc: 0.7076\tPrec: 0.2953\tRec: 0.5521\tF1: 0.3848\n",
      "Acc: 0.7945\tPrec: 0.4441\tRec: 0.9557\tF1: 0.6064\n",
      "Acc: 0.7790\tPrec: 0.4114\tRec: 0.7760\tF1: 0.5378\n",
      "Acc: 0.7955\tPrec: 0.4377\tRec: 0.8251\tF1: 0.5720\n",
      "Acc: 0.7679\tPrec: 0.4066\tRec: 0.8731\tF1: 0.5548\n"
     ]
    },
    {
     "name": "stderr",
     "output_type": "stream",
     "text": [
      "Local Pariticipant 3 MSE = 0.089,InfoNCE = 2.443: 100%|██████████| 5/5 [00:07<00:00,  1.51s/it]\n",
      "Local Pariticipant 1 MSE = 0.070,InfoNCE = 4.510: 100%|██████████| 5/5 [00:06<00:00,  1.38s/it]\n",
      "Local Pariticipant 4 MSE = 0.094,InfoNCE = 1.847: 100%|██████████| 5/5 [00:07<00:00,  1.45s/it]\n",
      "Local Pariticipant 0 MSE = 0.080,InfoNCE = 2.593: 100%|██████████| 5/5 [00:07<00:00,  1.45s/it]\n",
      "Local Pariticipant 2 MSE = 0.105,InfoNCE = 2.208: 100%|██████████| 5/5 [00:06<00:00,  1.39s/it]\n"
     ]
    },
    {
     "name": "stdout",
     "output_type": "stream",
     "text": [
      "Partition 0: 2 clusters\n",
      "Partition 0: 2 clusters\n",
      "Partition 0: 2 clusters\n",
      "Partition 0: 2 clusters\n",
      "**--**--**--**--**--**--**--**--**--**--\n",
      "SEM AGREGAÇÃO\n",
      "Acc: 0.7901\tPrec: 0.4094\tRec: 0.6036\tF1: 0.4879\n",
      "Acc: 0.7681\tPrec: 0.4143\tRec: 0.9665\tF1: 0.5799\n",
      "Acc: 0.7655\tPrec: 0.3855\tRec: 0.6994\tF1: 0.4970\n",
      "Acc: 0.7661\tPrec: 0.4002\tRec: 0.8263\tF1: 0.5393\n",
      "Acc: 0.7727\tPrec: 0.4121\tRec: 0.8731\tF1: 0.5599\n"
     ]
    },
    {
     "name": "stderr",
     "output_type": "stream",
     "text": [
      "Local Pariticipant 0 MSE = 0.076,InfoNCE = 1.820: 100%|██████████| 5/5 [00:07<00:00,  1.50s/it]\n",
      "Local Pariticipant 2 MSE = 0.080,InfoNCE = 2.039: 100%|██████████| 5/5 [00:07<00:00,  1.47s/it]\n",
      "Local Pariticipant 3 MSE = 0.063,InfoNCE = 1.624: 100%|██████████| 5/5 [00:07<00:00,  1.55s/it]\n",
      "Local Pariticipant 4 MSE = 0.060,InfoNCE = 1.872: 100%|██████████| 5/5 [00:07<00:00,  1.43s/it]\n",
      "Local Pariticipant 1 MSE = 0.081,InfoNCE = 2.369: 100%|██████████| 5/5 [00:07<00:00,  1.51s/it]\n"
     ]
    },
    {
     "name": "stdout",
     "output_type": "stream",
     "text": [
      "Partition 0: 2 clusters\n",
      "Partition 0: 2 clusters\n",
      "Partition 0: 2 clusters\n",
      "Partition 0: 2 clusters\n",
      "**--**--**--**--**--**--**--**--**--**--\n",
      "SEM AGREGAÇÃO\n",
      "Acc: 0.6731\tPrec: 0.1719\tRec: 0.2551\tF1: 0.2054\n",
      "Acc: 0.7606\tPrec: 0.3837\tRec: 0.7353\tF1: 0.5043\n",
      "Acc: 0.6888\tPrec: 0.3129\tRec: 0.7353\tF1: 0.4390\n",
      "Acc: 0.7272\tPrec: 0.3423\tRec: 0.7018\tF1: 0.4601\n",
      "Acc: 0.7352\tPrec: 0.3599\tRec: 0.7689\tF1: 0.4903\n"
     ]
    },
    {
     "name": "stderr",
     "output_type": "stream",
     "text": [
      "Local Pariticipant 3 MSE = 0.060,InfoNCE = 1.737: 100%|██████████| 5/5 [00:07<00:00,  1.52s/it]\n",
      "Local Pariticipant 1 MSE = 0.057,InfoNCE = 1.846: 100%|██████████| 5/5 [00:07<00:00,  1.43s/it]\n",
      "Local Pariticipant 2 MSE = 0.048,InfoNCE = 2.014: 100%|██████████| 5/5 [00:07<00:00,  1.54s/it]\n",
      "Local Pariticipant 0 MSE = 0.041,InfoNCE = 1.854: 100%|██████████| 5/5 [00:06<00:00,  1.40s/it]\n",
      "Local Pariticipant 4 MSE = 0.038,InfoNCE = 1.987: 100%|██████████| 5/5 [00:07<00:00,  1.51s/it]\n"
     ]
    },
    {
     "name": "stdout",
     "output_type": "stream",
     "text": [
      "Partition 0: 2 clusters\n",
      "Partition 0: 2 clusters\n",
      "Partition 0: 2 clusters\n",
      "Partition 0: 2 clusters\n",
      "**--**--**--**--**--**--**--**--**--**--\n",
      "SEM AGREGAÇÃO\n",
      "Acc: 0.8171\tPrec: 0.4650\tRec: 0.6922\tF1: 0.5563\n",
      "Acc: 0.7671\tPrec: 0.3928\tRec: 0.7437\tF1: 0.5141\n",
      "Acc: 0.7869\tPrec: 0.4287\tRec: 0.8611\tF1: 0.5725\n",
      "Acc: 0.8117\tPrec: 0.4564\tRec: 0.7138\tF1: 0.5567\n",
      "Acc: 0.8066\tPrec: 0.4508\tRec: 0.7689\tF1: 0.5684\n"
     ]
    },
    {
     "name": "stderr",
     "output_type": "stream",
     "text": [
      "Local Pariticipant 4 MSE = 0.029,InfoNCE = 1.964: 100%|██████████| 5/5 [00:07<00:00,  1.41s/it]\n",
      "Local Pariticipant 0 MSE = 0.036,InfoNCE = 1.995: 100%|██████████| 5/5 [00:07<00:00,  1.49s/it]\n",
      "Local Pariticipant 3 MSE = 0.032,InfoNCE = 1.747: 100%|██████████| 5/5 [00:07<00:00,  1.49s/it]\n",
      "Local Pariticipant 1 MSE = 0.029,InfoNCE = 1.876: 100%|██████████| 5/5 [00:09<00:00,  1.81s/it]\n",
      "Local Pariticipant 2 MSE = 0.040,InfoNCE = 1.927: 100%|██████████| 5/5 [00:08<00:00,  1.63s/it]\n"
     ]
    },
    {
     "name": "stdout",
     "output_type": "stream",
     "text": [
      "Partition 0: 2 clusters\n",
      "Partition 0: 2 clusters\n",
      "Partition 0: 2 clusters\n",
      "Partition 0: 2 clusters\n",
      "**--**--**--**--**--**--**--**--**--**--\n",
      "SEM AGREGAÇÃO\n",
      "Acc: 0.7594\tPrec: 0.3237\tRec: 0.4156\tF1: 0.3639\n",
      "Acc: 0.7647\tPrec: 0.3898\tRec: 0.7437\tF1: 0.5115\n",
      "Acc: 0.8211\tPrec: 0.4734\tRec: 0.7138\tF1: 0.5692\n",
      "Acc: 0.7455\tPrec: 0.3775\tRec: 0.8263\tF1: 0.5182\n",
      "Acc: 0.8024\tPrec: 0.4443\tRec: 0.7689\tF1: 0.5632\n"
     ]
    },
    {
     "name": "stderr",
     "output_type": "stream",
     "text": [
      "Local Pariticipant 0 MSE = 0.029,InfoNCE = 2.010: 100%|██████████| 5/5 [00:07<00:00,  1.45s/it]\n",
      "Local Pariticipant 4 MSE = 0.016,InfoNCE = 2.156: 100%|██████████| 5/5 [00:07<00:00,  1.46s/it]\n",
      "Local Pariticipant 1 MSE = 0.039,InfoNCE = 1.845: 100%|██████████| 5/5 [00:06<00:00,  1.38s/it]\n",
      "Local Pariticipant 3 MSE = 0.016,InfoNCE = 2.218: 100%|██████████| 5/5 [00:07<00:00,  1.51s/it]\n",
      "Local Pariticipant 2 MSE = 0.022,InfoNCE = 2.221: 100%|██████████| 5/5 [00:06<00:00,  1.39s/it]\n"
     ]
    },
    {
     "name": "stdout",
     "output_type": "stream",
     "text": [
      "Partition 0: 2 clusters\n",
      "Partition 0: 2 clusters\n",
      "Partition 0: 2 clusters\n",
      "Partition 0: 2 clusters\n",
      "**--**--**--**--**--**--**--**--**--**--\n",
      "SEM AGREGAÇÃO\n",
      "Acc: 0.7124\tPrec: 0.3098\tRec: 0.6000\tF1: 0.4086\n",
      "Acc: 0.7947\tPrec: 0.4291\tRec: 0.7246\tF1: 0.5390\n",
      "Acc: 0.7752\tPrec: 0.3722\tRec: 0.5198\tF1: 0.4338\n",
      "Acc: 0.8266\tPrec: 0.4863\tRec: 0.8263\tF1: 0.6122\n",
      "Acc: 0.8084\tPrec: 0.4535\tRec: 0.7653\tF1: 0.5695\n"
     ]
    },
    {
     "name": "stderr",
     "output_type": "stream",
     "text": [
      "Local Pariticipant 2 MSE = 0.020,InfoNCE = 1.754: 100%|██████████| 5/5 [00:05<00:00,  1.18s/it]\n",
      "Local Pariticipant 1 MSE = 0.008,InfoNCE = 2.092: 100%|██████████| 5/5 [00:06<00:00,  1.29s/it]\n",
      "Local Pariticipant 0 MSE = 0.031,InfoNCE = 1.913: 100%|██████████| 5/5 [00:05<00:00,  1.20s/it]\n",
      "Local Pariticipant 3 MSE = 0.022,InfoNCE = 1.973: 100%|██████████| 5/5 [00:06<00:00,  1.26s/it]\n",
      "Local Pariticipant 4 MSE = 0.011,InfoNCE = 1.706: 100%|██████████| 5/5 [00:05<00:00,  1.20s/it]\n"
     ]
    },
    {
     "name": "stdout",
     "output_type": "stream",
     "text": [
      "Partition 0: 2 clusters\n",
      "Partition 0: 2 clusters\n",
      "Partition 0: 2 clusters\n",
      "Partition 0: 2 clusters\n",
      "**--**--**--**--**--**--**--**--**--**--\n",
      "SEM AGREGAÇÃO\n",
      "Acc: 0.6991\tPrec: 0.2522\tRec: 0.4156\tF1: 0.3139\n",
      "Acc: 0.7929\tPrec: 0.4280\tRec: 0.7437\tF1: 0.5433\n",
      "Acc: 0.7854\tPrec: 0.3938\tRec: 0.5485\tF1: 0.4585\n",
      "Acc: 0.7560\tPrec: 0.3794\tRec: 0.7437\tF1: 0.5024\n",
      "Acc: 0.8421\tPrec: 0.5138\tRec: 0.8695\tF1: 0.6459\n"
     ]
    },
    {
     "name": "stderr",
     "output_type": "stream",
     "text": [
      "Local Pariticipant 2 MSE = 0.016,InfoNCE = 1.831: 100%|██████████| 5/5 [00:07<00:00,  1.58s/it]\n",
      "Local Pariticipant 4 MSE = 0.011,InfoNCE = 2.023: 100%|██████████| 5/5 [00:09<00:00,  1.89s/it]\n",
      "Local Pariticipant 1 MSE = 0.022,InfoNCE = 1.809: 100%|██████████| 5/5 [00:06<00:00,  1.32s/it]\n",
      "Local Pariticipant 0 MSE = 0.028,InfoNCE = 1.927: 100%|██████████| 5/5 [00:06<00:00,  1.35s/it]\n",
      "Local Pariticipant 3 MSE = 0.022,InfoNCE = 1.917: 100%|██████████| 5/5 [00:06<00:00,  1.29s/it]\n"
     ]
    },
    {
     "name": "stdout",
     "output_type": "stream",
     "text": [
      "Partition 0: 2 clusters\n",
      "Partition 0: 2 clusters\n",
      "Partition 0: 2 clusters\n",
      "Partition 0: 2 clusters\n",
      "**--**--**--**--**--**--**--**--**--**--\n",
      "SEM AGREGAÇÃO\n",
      "Acc: 0.8016\tPrec: 0.4040\tRec: 0.4156\tF1: 0.4097\n",
      "Acc: 0.7893\tPrec: 0.4118\tRec: 0.6347\tF1: 0.4995\n",
      "Acc: 0.6870\tPrec: 0.1376\tRec: 0.1689\tF1: 0.1516\n",
      "Acc: 0.8199\tPrec: 0.4782\tRec: 0.9593\tF1: 0.6382\n",
      "Acc: 0.7981\tPrec: 0.4285\tRec: 0.6563\tF1: 0.5184\n"
     ]
    },
    {
     "name": "stderr",
     "output_type": "stream",
     "text": [
      "Local Pariticipant 2 MSE = 0.025,InfoNCE = 1.884: 100%|██████████| 5/5 [00:06<00:00,  1.31s/it]\n",
      "Local Pariticipant 4 MSE = 0.006,InfoNCE = 1.949: 100%|██████████| 5/5 [00:06<00:00,  1.36s/it]\n",
      "Local Pariticipant 1 MSE = 0.027,InfoNCE = 2.076: 100%|██████████| 5/5 [00:06<00:00,  1.26s/it]\n",
      "Local Pariticipant 3 MSE = 0.022,InfoNCE = 1.932: 100%|██████████| 5/5 [00:07<00:00,  1.57s/it]\n",
      "Local Pariticipant 0 MSE = 0.029,InfoNCE = 1.759: 100%|██████████| 5/5 [00:07<00:00,  1.48s/it]\n"
     ]
    },
    {
     "name": "stdout",
     "output_type": "stream",
     "text": [
      "Partition 0: 2 clusters\n",
      "Partition 0: 2 clusters\n",
      "Partition 0: 2 clusters\n",
      "Partition 0: 2 clusters\n",
      "**--**--**--**--**--**--**--**--**--**--\n",
      "SEM AGREGAÇÃO\n",
      "Acc: 0.6901\tPrec: 0.2257\tRec: 0.3581\tF1: 0.2769\n",
      "Acc: 0.7623\tPrec: 0.3868\tRec: 0.7425\tF1: 0.5086\n",
      "Acc: 0.7673\tPrec: 0.3791\tRec: 0.6347\tF1: 0.4747\n",
      "Acc: 0.7959\tPrec: 0.4307\tRec: 0.7222\tF1: 0.5396\n",
      "Acc: 0.8379\tPrec: 0.5063\tRec: 0.8695\tF1: 0.6399\n"
     ]
    },
    {
     "name": "stderr",
     "output_type": "stream",
     "text": [
      "Local Pariticipant 2 MSE = 0.018,InfoNCE = 1.746: 100%|██████████| 5/5 [00:06<00:00,  1.34s/it]\n",
      "Local Pariticipant 4 MSE = 0.010,InfoNCE = 1.909: 100%|██████████| 5/5 [00:06<00:00,  1.30s/it]\n",
      "Local Pariticipant 1 MSE = 0.029,InfoNCE = 1.563: 100%|██████████| 5/5 [00:06<00:00,  1.39s/it]\n",
      "Local Pariticipant 0 MSE = 0.025,InfoNCE = 1.827: 100%|██████████| 5/5 [00:06<00:00,  1.26s/it]\n",
      "Local Pariticipant 3 MSE = 0.011,InfoNCE = 2.454: 100%|██████████| 5/5 [00:06<00:00,  1.36s/it]\n"
     ]
    },
    {
     "name": "stdout",
     "output_type": "stream",
     "text": [
      "Partition 0: 2 clusters\n",
      "Partition 0: 2 clusters\n",
      "Partition 0: 2 clusters\n",
      "Partition 0: 2 clusters\n",
      "**--**--**--**--**--**--**--**--**--**--\n",
      "SEM AGREGAÇÃO\n",
      "Acc: 0.7620\tPrec: 0.3645\tRec: 0.5880\tF1: 0.4500\n",
      "Acc: 0.7917\tPrec: 0.4262\tRec: 0.7437\tF1: 0.5419\n",
      "Acc: 0.7752\tPrec: 0.3925\tRec: 0.6515\tF1: 0.4899\n",
      "Acc: 0.7596\tPrec: 0.3927\tRec: 0.8263\tF1: 0.5324\n",
      "Acc: 0.8361\tPrec: 0.5031\tRec: 0.8695\tF1: 0.6374\n"
     ]
    },
    {
     "name": "stderr",
     "output_type": "stream",
     "text": [
      "Local Pariticipant 3 MSE = 0.012,InfoNCE = 1.837: 100%|██████████| 5/5 [00:06<00:00,  1.34s/it]\n",
      "Local Pariticipant 0 MSE = 0.023,InfoNCE = 1.639: 100%|██████████| 5/5 [00:06<00:00,  1.29s/it]\n",
      "Local Pariticipant 4 MSE = 0.009,InfoNCE = 1.815: 100%|██████████| 5/5 [00:07<00:00,  1.40s/it]\n",
      "Local Pariticipant 1 MSE = 0.022,InfoNCE = 1.758: 100%|██████████| 5/5 [00:07<00:00,  1.45s/it]\n",
      "Local Pariticipant 2 MSE = 0.017,InfoNCE = 2.002: 100%|██████████| 5/5 [00:07<00:00,  1.41s/it]\n"
     ]
    },
    {
     "name": "stdout",
     "output_type": "stream",
     "text": [
      "Partition 0: 2 clusters\n",
      "Partition 0: 2 clusters\n",
      "Partition 0: 2 clusters\n",
      "Partition 0: 2 clusters\n",
      "**--**--**--**--**--**--**--**--**--**--\n",
      "SEM AGREGAÇÃO\n",
      "Acc: 0.7274\tPrec: 0.3228\tRec: 0.5880\tF1: 0.4168\n",
      "Acc: 0.7911\tPrec: 0.4253\tRec: 0.7437\tF1: 0.5412\n",
      "Acc: 0.8111\tPrec: 0.4517\tRec: 0.6551\tF1: 0.5347\n",
      "Acc: 0.7459\tPrec: 0.3679\tRec: 0.7437\tF1: 0.4923\n",
      "Acc: 0.8332\tPrec: 0.4979\tRec: 0.8695\tF1: 0.6332\n"
     ]
    },
    {
     "name": "stderr",
     "output_type": "stream",
     "text": [
      "Local Pariticipant 1 MSE = 0.021,InfoNCE = 2.180: 100%|██████████| 5/5 [00:07<00:00,  1.45s/it]\n",
      "Local Pariticipant 0 MSE = 0.026,InfoNCE = 2.033: 100%|██████████| 5/5 [00:07<00:00,  1.40s/it]\n",
      "Local Pariticipant 2 MSE = 0.016,InfoNCE = 1.859: 100%|██████████| 5/5 [00:07<00:00,  1.49s/it]\n",
      "Local Pariticipant 3 MSE = 0.012,InfoNCE = 2.022: 100%|██████████| 5/5 [00:06<00:00,  1.37s/it]\n",
      "Local Pariticipant 4 MSE = 0.006,InfoNCE = 1.861: 100%|██████████| 5/5 [00:07<00:00,  1.47s/it]\n"
     ]
    },
    {
     "name": "stdout",
     "output_type": "stream",
     "text": [
      "Partition 0: 2 clusters\n",
      "Partition 0: 2 clusters\n",
      "Partition 0: 2 clusters\n",
      "Partition 0: 2 clusters\n",
      "**--**--**--**--**--**--**--**--**--**--\n",
      "SEM AGREGAÇÃO\n",
      "Acc: 0.7429\tPrec: 0.2764\tRec: 0.3413\tF1: 0.3055\n",
      "Acc: 0.7911\tPrec: 0.4253\tRec: 0.7437\tF1: 0.5412\n",
      "Acc: 0.7387\tPrec: 0.3281\tRec: 0.5509\tF1: 0.4113\n",
      "Acc: 0.7667\tPrec: 0.4009\tRec: 0.8263\tF1: 0.5399\n",
      "Acc: 0.8355\tPrec: 0.5021\tRec: 0.8695\tF1: 0.6366\n"
     ]
    },
    {
     "name": "stderr",
     "output_type": "stream",
     "text": [
      "Local Pariticipant 1 MSE = 0.020,InfoNCE = 2.206: 100%|██████████| 5/5 [00:06<00:00,  1.26s/it]\n",
      "Local Pariticipant 3 MSE = 0.014,InfoNCE = 2.172: 100%|██████████| 5/5 [00:07<00:00,  1.45s/it]\n",
      "Local Pariticipant 2 MSE = 0.060,InfoNCE = 1.610: 100%|██████████| 5/5 [00:06<00:00,  1.31s/it]\n",
      "Local Pariticipant 0 MSE = 0.024,InfoNCE = 1.819: 100%|██████████| 5/5 [00:06<00:00,  1.36s/it]\n",
      "Local Pariticipant 4 MSE = 0.006,InfoNCE = 1.820: 100%|██████████| 5/5 [00:06<00:00,  1.34s/it]\n"
     ]
    },
    {
     "name": "stdout",
     "output_type": "stream",
     "text": [
      "Partition 0: 2 clusters\n",
      "Partition 0: 2 clusters\n",
      "Partition 0: 2 clusters\n",
      "Partition 0: 2 clusters\n",
      "**--**--**--**--**--**--**--**--**--**--\n",
      "SEM AGREGAÇÃO\n",
      "Acc: 0.6854\tPrec: 0.1365\tRec: 0.1689\tF1: 0.1510\n",
      "Acc: 0.7403\tPrec: 0.3619\tRec: 0.7437\tF1: 0.4869\n",
      "Acc: 0.8076\tPrec: 0.4428\tRec: 0.6263\tF1: 0.5188\n",
      "Acc: 0.7673\tPrec: 0.4016\tRec: 0.8263\tF1: 0.5405\n",
      "Acc: 0.7990\tPrec: 0.4440\tRec: 0.8443\tF1: 0.5819\n"
     ]
    },
    {
     "name": "stderr",
     "output_type": "stream",
     "text": [
      "Local Pariticipant 1 MSE = 0.008,InfoNCE = 2.142: 100%|██████████| 5/5 [00:08<00:00,  1.72s/it]\n",
      "Local Pariticipant 4 MSE = 0.033,InfoNCE = 1.848: 100%|██████████| 5/5 [00:08<00:00,  1.65s/it]\n",
      "Local Pariticipant 3 MSE = 0.010,InfoNCE = 2.106: 100%|██████████| 5/5 [00:08<00:00,  1.73s/it]\n",
      "Local Pariticipant 0 MSE = 0.029,InfoNCE = 1.920: 100%|██████████| 5/5 [00:12<00:00,  2.43s/it]\n",
      "Local Pariticipant 2 MSE = 0.015,InfoNCE = 1.882: 100%|██████████| 5/5 [00:09<00:00,  1.99s/it]\n"
     ]
    },
    {
     "name": "stdout",
     "output_type": "stream",
     "text": [
      "Partition 0: 2 clusters\n",
      "Partition 0: 2 clusters\n",
      "Partition 0: 2 clusters\n",
      "Partition 0: 2 clusters\n",
      "**--**--**--**--**--**--**--**--**--**--\n",
      "SEM AGREGAÇÃO\n",
      "Acc: 0.8270\tPrec: 0.4818\tRec: 0.5880\tF1: 0.5297\n",
      "Acc: 0.7911\tPrec: 0.4253\tRec: 0.7437\tF1: 0.5412\n",
      "Acc: 0.7746\tPrec: 0.3921\tRec: 0.6551\tF1: 0.4906\n",
      "Acc: 0.7703\tPrec: 0.4042\tRec: 0.8156\tF1: 0.5405\n",
      "Acc: 0.8332\tPrec: 0.4979\tRec: 0.8695\tF1: 0.6332\n"
     ]
    },
    {
     "name": "stderr",
     "output_type": "stream",
     "text": [
      "Local Pariticipant 1 MSE = 0.017,InfoNCE = 1.926: 100%|██████████| 5/5 [00:13<00:00,  2.61s/it]\n",
      "Local Pariticipant 2 MSE = 0.017,InfoNCE = 2.074: 100%|██████████| 5/5 [00:14<00:00,  2.93s/it]\n",
      "Local Pariticipant 4 MSE = 0.006,InfoNCE = 2.278: 100%|██████████| 5/5 [00:14<00:00,  2.81s/it]\n",
      "Local Pariticipant 0 MSE = 0.025,InfoNCE = 1.902: 100%|██████████| 5/5 [00:11<00:00,  2.40s/it]\n",
      "Local Pariticipant 3 MSE = 0.096,InfoNCE = 1.960: 100%|██████████| 5/5 [00:07<00:00,  1.53s/it]\n"
     ]
    },
    {
     "name": "stdout",
     "output_type": "stream",
     "text": [
      "Partition 0: 2 clusters\n",
      "Partition 0: 2 clusters\n",
      "Partition 0: 2 clusters\n",
      "Partition 0: 2 clusters\n",
      "**--**--**--**--**--**--**--**--**--**--\n",
      "SEM AGREGAÇÃO\n",
      "Acc: 0.7510\tPrec: 0.2009\tRec: 0.1689\tF1: 0.1835\n",
      "Acc: 0.7935\tPrec: 0.4289\tRec: 0.7437\tF1: 0.5440\n",
      "Acc: 0.7542\tPrec: 0.3603\tRec: 0.6240\tF1: 0.4568\n",
      "Acc: 0.7183\tPrec: 0.2738\tRec: 0.4240\tF1: 0.3327\n",
      "Acc: 0.7483\tPrec: 0.3849\tRec: 0.8695\tF1: 0.5336\n"
     ]
    }
   ],
   "source": [
    "args = parse_args()\n",
    "\n",
    "results = {}\n",
    "\n",
    "for scenario in ['Baseline', 'AutoScenario_1']:\n",
    "\n",
    "    results[scenario] = {}\n",
    "\n",
    "    priv_dataset = get_private_dataset(args)\n",
    "\n",
    "    backbones_list = priv_dataset.get_backbone(parti_num=args.parti_num,\n",
    "                                               names_list=None,\n",
    "                                               n_series=args.input_size)\n",
    "\n",
    "    model = get_model(backbones_list, args, priv_dataset)\n",
    "\n",
    "    # priv_dataset.EXP_ID = ['Drift_PIPELINE_ALERNATIVE']\n",
    "    # priv_dataset.DOMAINS_LIST = ['Balerma']\n",
    "\n",
    "    priv_train_loaders, aux_latent = train(model=model,\n",
    "                                           private_dataset=priv_dataset,\n",
    "                                           scenario=scenario,\n",
    "                                           args=args)\n",
    "\n",
    "    results[scenario]['dl'] = priv_train_loaders\n",
    "    results[scenario]['lat'] = aux_latent\n",
    "    results[scenario]['model'] = model"
   ]
  },
  {
   "cell_type": "code",
   "execution_count": 13,
   "id": "a5ed7a71e70b4a8c",
   "metadata": {
    "ExecuteTime": {
     "end_time": "2025-05-18T12:40:42.950960Z",
     "start_time": "2025-05-18T12:40:42.888839Z"
    }
   },
   "outputs": [],
   "source": [
    "import matplotlib.pyplot as plt\n",
    "import torch\n",
    "\n",
    "def extract_value(data_point, index):\n",
    "    \"\"\"Helper to extract float from tensor or float at a given index in a tuple.\"\"\"\n",
    "    value = data_point[index]\n",
    "    if isinstance(value, torch.Tensor):\n",
    "        return value.item()\n",
    "    return float(value)\n",
    "\n",
    "def plot_all_clients_side_by_side_proto(model, priv_train_loaders, metric='mse'):\n",
    "    \"\"\"\n",
    "    Plot all clients' training history:\n",
    "      - Left: all loss types (total_loss, mse, infonet)\n",
    "      - Right: selected metric from metrics data\n",
    "    \"\"\"\n",
    "    loss_labels = ['Total Loss', 'MSE', 'InfoNet']\n",
    "    n_loss_types = len(loss_labels)\n",
    "    loss_indices = range(n_loss_types)\n",
    "\n",
    "    n_clients = len(model.nets_list)\n",
    "\n",
    "    fig, axes = plt.subplots(1, 2, figsize=(14, 5))\n",
    "\n",
    "    # --- Left Plot: All Losses ---\n",
    "    for client_id in range(n_clients):\n",
    "        fit_history = model.nets_list[client_id].fit_history\n",
    "\n",
    "        if not fit_history:\n",
    "            continue\n",
    "\n",
    "        for idx in loss_indices:\n",
    "            y_vals = [extract_value(record, idx) for record in fit_history]\n",
    "            axes[0].plot(\n",
    "                y_vals,\n",
    "                label=f'Client {client_id} - {loss_labels[idx]}'\n",
    "            )\n",
    "\n",
    "    axes[0].set_title('Client Loss Components Over Epochs')\n",
    "    axes[0].set_xlabel('Epoch')\n",
    "    axes[0].set_ylabel('Loss')\n",
    "    axes[0].grid(True)\n",
    "    axes[0].legend()\n",
    "\n",
    "    # --- Right Plot: Selected Metric ---\n",
    "    metric_map = {\n",
    "        'acc': 0,\n",
    "        'prec': 1,\n",
    "        'rec': 2,\n",
    "        'f1': 3,\n",
    "        'mse': 1,       # reuse index for common case\n",
    "        'infonet': 2    # reuse index for convenience if needed\n",
    "    }\n",
    "\n",
    "    if metric not in metric_map:\n",
    "        raise ValueError(f\"Invalid metric '{metric}'. Choose from: {list(metric_map.keys())}\")\n",
    "\n",
    "    metric_idx = metric_map[metric]\n",
    "\n",
    "    for client_id in range(n_clients):\n",
    "        metrics = priv_train_loaders[client_id]['metrics']\n",
    "        y_vals = [extract_value(record, metric_idx) for record in metrics]\n",
    "        axes[1].plot(y_vals, label=f'Client {client_id}')\n",
    "\n",
    "    axes[1].set_title(f'{metric.upper()} per Client')\n",
    "    axes[1].set_xlabel('Round')\n",
    "    axes[1].set_ylabel(metric.upper())\n",
    "    axes[1].grid(True)\n",
    "    axes[1].legend()\n",
    "\n",
    "    plt.tight_layout()\n",
    "    plt.show()\n"
   ]
  },
  {
   "cell_type": "code",
   "execution_count": 15,
   "id": "61c095db9c54c20d",
   "metadata": {
    "ExecuteTime": {
     "end_time": "2025-05-18T12:40:48.717542Z",
     "start_time": "2025-05-18T12:40:46.449031Z"
    }
   },
   "outputs": [
    {
     "data": {
      "image/png": "[encoded data removed]",
      "text/plain": [
       "<Figure size 1400x500 with 2 Axes>"
      ]
     },
     "metadata": {},
     "output_type": "display_data"
    }
   ],
   "source": [
    "from utils.Toolbox_analysis import plot_all_clients_side_by_side\n",
    "\n",
    "plot_all_clients_side_by_side_proto(model, priv_train_loaders, metric='acc')"
   ]
  },
  {
   "cell_type": "code",
   "execution_count": 17,
   "id": "4857141b9bf590fc",
   "metadata": {
    "ExecuteTime": {
     "end_time": "2025-05-18T12:45:07.152515Z",
     "start_time": "2025-05-18T12:41:51.785617Z"
    }
   },
   "outputs": [],
   "source": [
    "# label_clients = ['District_A', 'District_B', 'District_C', 'District_D', 'District_E']\n",
    "# label_clients = ['District_A', 'District_B', 'District_C']\n",
    "label_clients = ['District_A', 'District_B', 'District_C', 'District_D', 'District_E',\n",
    "                 'District_2A', 'District_2B', 'District_2C']\n",
    "\n",
    "base_index = results['Baseline']['dl'][0]['X_index']\n",
    "\n",
    "latent_dfs = {}\n",
    "for scenario, case in results.items():\n",
    "    latent_dfs[scenario] = {}\n",
    "    for epoch, space in enumerate(case['lat']):\n",
    "        aux_latents = []\n",
    "        for i, client in enumerate(space):\n",
    "            baseline_lat = create_latent_df(X_index=base_index,\n",
    "                                            x_lat=client,\n",
    "                                            label=scenario + '__' + label_clients[i] + '__' + str(epoch),\n",
    "                                            is_unix=True)\n",
    "\n",
    "            aux_latents.append(baseline_lat)\n",
    "\n",
    "        df_latent = pd.concat(aux_latents)\n",
    "\n",
    "        df_latent, df_pca_raw, df_umap_raw, df_pca_scaled, df_umap_scaled = process_latent_df(df_latent, umap_neighbors=50, umap_min_dist=0.95)\n",
    "\n",
    "        latent_dfs[scenario][epoch] = {}\n",
    "        latent_dfs[scenario][epoch]['latent_space'] = df_latent\n",
    "        latent_dfs[scenario][epoch]['pca_raw'] = df_pca_raw\n",
    "        latent_dfs[scenario][epoch]['pca_scl'] = df_pca_scaled\n",
    "        latent_dfs[scenario][epoch]['umap_raw'] = df_umap_raw\n",
    "        latent_dfs[scenario][epoch]['umap_scl'] = df_umap_scaled"
   ]
  },
  {
   "cell_type": "code",
   "execution_count": 18,
   "id": "4b738bc4-73ab-428c-a9d6-4612d059e1f4",
   "metadata": {
    "ExecuteTime": {
     "end_time": "2025-05-18T12:48:09.010230Z",
     "start_time": "2025-05-18T12:48:01.060401Z"
    }
   },
   "outputs": [],
   "source": [
    "import pickle\n",
    "\n",
    "with open('results/exp_latente_results_graeme_3_100_proto.pkl', 'wb') as file:\n",
    "    pickle.dump(results, file)\n",
    "\n",
    "with open('results/exp_latente_df_graeme_3_100_proto.pkl', 'wb') as file:\n",
    "    pickle.dump(latent_dfs, file)"
   ]
  },
  {
   "cell_type": "code",
   "execution_count": null,
   "id": "2b4dda4b4da641e5",
   "metadata": {},
   "outputs": [],
   "source": [
    "PARO"
   ]
  },
  {
   "cell_type": "code",
   "execution_count": null,
   "id": "7f14c4aef4b7145e",
   "metadata": {},
   "outputs": [],
   "source": [
    "# aux_latent[EPOCH][CLIENT]\n",
    "aux_latent[0][0].shape"
   ]
  },
  {
   "cell_type": "code",
   "execution_count": null,
   "id": "e4913041b317cf2e",
   "metadata": {},
   "outputs": [],
   "source": [
    "def create_latent_df(X_index, x_lat, label='Teste', is_unix=False):\n",
    "    \"\"\"\n",
    "    Create a DataFrame with timestamps, latent vector components, and anomaly labels.\n",
    "\n",
    "    Parameters:\n",
    "    - X_index: array of shape (n_samples,), can be UNIX timestamps or datetime\n",
    "    - x_lat: array of shape (n_samples, n_latent_dims)\n",
    "    - anomaly_df: DataFrame with 'start' and 'end' columns for anomaly intervals\n",
    "    - is_unix: bool, if True converts X_index from UNIX timestamp to datetime\n",
    "\n",
    "    Returns:\n",
    "    - DataFrame with 'timestamp', 'label', and x_0 to x_n columns\n",
    "    \"\"\"\n",
    "    # Step 1: Convert timestamps if needed\n",
    "    if is_unix:\n",
    "        timestamps = pd.to_datetime(X_index, unit='s')\n",
    "    else:\n",
    "        timestamps = pd.to_datetime(X_index)  # ensures consistent datetime dtype\n",
    "\n",
    "    # Step 2: Create column names for latent dimensions\n",
    "    latent_dim_names = [f'x_{i}' for i in range(x_lat.shape[1])]\n",
    "\n",
    "    # Step 3: Create DataFrame\n",
    "    df = pd.DataFrame(x_lat, columns=latent_dim_names)\n",
    "    df['timestamp'] = timestamps\n",
    "    df['label'] = label\n",
    "\n",
    "    # Step 5: Reorder columns\n",
    "    df = df[['timestamp', 'label'] + latent_dim_names]\n",
    "\n",
    "    return df"
   ]
  },
  {
   "cell_type": "code",
   "execution_count": null,
   "id": "60f3b86e1fa0fba8",
   "metadata": {},
   "outputs": [],
   "source": []
  },
  {
   "cell_type": "code",
   "execution_count": null,
   "id": "a4001ce7c3ba1c8b",
   "metadata": {},
   "outputs": [],
   "source": [
    "results['Drift_PIPELINE_LOW'] = {}\n",
    "\n",
    "results['Drift_PIPELINE_LOW']['Baseline'] = (priv_train_loaders, aux_latent[-1], model)"
   ]
  },
  {
   "cell_type": "code",
   "execution_count": null,
   "id": "c1135cd82970584d",
   "metadata": {},
   "outputs": [],
   "source": [
    "# >> PARA CADA SEGMENTO\n",
    "## >>>> UTILIZAR MODELO DO SEGMENTO INICIAL PARA LEVAR TODOS NO MESMO ESPAÇO\n",
    "import pandas as pd\n",
    "\n",
    "nets_list_base = model.nets_list\n",
    "\n",
    "latent_dfs = []\n",
    "for j, (segment, case) in enumerate(results.items()):\n",
    "    # label_clients = ['District_A', 'District_B', 'District_C', 'District_D', 'District_E']\n",
    "    # label_clients = ['District_A', 'District_B', 'District_C']\n",
    "    label_clients = ['District_A', 'District_B', 'District_C', 'District_D', 'District_E',\n",
    "                     'District_2A', 'District_2B', 'District_2C']\n",
    "    aux_latents = []\n",
    "\n",
    "    for i, client in enumerate(label_clients):\n",
    "        _, _, _, x_lat = nets_list_base[0].predict(case['Baseline'][0][i]['X'])\n",
    "\n",
    "        baseline_lat = create_latent_df(X_index=case['Baseline'][0][i]['X_index'],\n",
    "                                        x_lat=x_lat,\n",
    "                                        label=segment + '_' + client,\n",
    "                                        is_unix=True)\n",
    "\n",
    "        aux_latents.append(baseline_lat)\n",
    "\n",
    "    df_latent = pd.concat(aux_latents)\n",
    "    df_latent['timestamp'] += pd.Timedelta(days=30 * j)\n",
    "    latent_dfs.append(df_latent)"
   ]
  },
  {
   "cell_type": "code",
   "execution_count": null,
   "id": "1c5d7243807a29e8",
   "metadata": {},
   "outputs": [],
   "source": [
    "import numpy as np\n",
    "import pandas as pd\n",
    "\n",
    "import matplotlib.pyplot as plt\n",
    "from matplotlib.patches import Patch\n",
    "from sklearn.decomposition import PCA\n",
    "import umap.umap_ as umap\n",
    "\n",
    "\n",
    "def reduce_dims(X, method = None, n_components=2, umap_neighbors=15, umap_min_dist=0.1):\n",
    "    \"\"\"\n",
    "    Applies PCA and UMAP to the input data.\n",
    "\n",
    "    Parameters:\n",
    "    - X: array-like of shape (n_samples, n_features)\n",
    "    - n_components: int, number of dimensions for the projection\n",
    "    - umap_neighbors: int, UMAP neighbors\n",
    "    - umap_min_dist: float, UMAP min_dist\n",
    "\n",
    "    Returns:\n",
    "    - X_pca: PCA-reduced data\n",
    "    - X_umap: UMAP-reduced data\n",
    "    \"\"\"\n",
    "\n",
    "    pca = PCA(n_components=n_components)\n",
    "\n",
    "    X_pca = pca.fit_transform(X)\n",
    "    if method == 'PCA':\n",
    "        return X_pca, None\n",
    "\n",
    "    reducer = umap.UMAP(n_components=n_components, n_neighbors=umap_neighbors, min_dist=umap_min_dist)\n",
    "    X_umap = reducer.fit_transform(X)\n",
    "    if method == 'UMAP':\n",
    "        return None, X_umap\n",
    "\n",
    "    return X_pca, X_umap\n",
    "\n",
    "\n",
    "def plot_reduced_method(X_pca, X_umap, labels=None, method='PCA', ax=None, title=None):\n",
    "    \"\"\"\n",
    "    Plots reduced data based on the selected method (PCA or UMAP).\n",
    "    Accepts external axis (ax) for subplot usage.\n",
    "    \"\"\"\n",
    "    if method not in ['PCA', 'UMAP']:\n",
    "        raise ValueError(\"Invalid method! Use 'PCA' or 'UMAP'.\")\n",
    "\n",
    "    internal_fig = False\n",
    "    if ax is None:\n",
    "        fig, ax = plt.subplots(figsize=(6, 5))\n",
    "        internal_fig = True\n",
    "    else:\n",
    "        fig = ax.figure\n",
    "\n",
    "    # Setup\n",
    "    if labels is not None:\n",
    "        labels = np.array(labels)\n",
    "        unique_labels = np.unique(labels)\n",
    "        colors = plt.cm.Set1(np.linspace(0, 1, len(unique_labels)))\n",
    "        label_color_map = {label: color for label, color in zip(unique_labels, colors)}\n",
    "\n",
    "        for label in unique_labels:\n",
    "            idx = labels == label\n",
    "            if method == 'PCA':\n",
    "                ax.scatter(X_pca[idx, 0], X_pca[idx, 1], c=[label_color_map[label]], label=f\"{label}\", s=10)\n",
    "            else:\n",
    "                ax.scatter(X_umap[idx, 0], X_umap[idx, 1], c=[label_color_map[label]], label=f\"{label}\", s=10)\n",
    "\n",
    "        legend_elements = [Patch(facecolor=label_color_map[label], label=f'{label}') for label in unique_labels]\n",
    "        ax.legend(handles=legend_elements, bbox_to_anchor=(1, 1))\n",
    "    else:\n",
    "        proj = X_pca if method == 'PCA' else X_umap\n",
    "        ax.scatter(proj[:, 0], proj[:, 1], s=10)\n",
    "\n",
    "    ax.set_title(title if title else f\"{method} Projection\")\n",
    "    ax.axis(\"off\")\n",
    "\n",
    "    if internal_fig:\n",
    "        plt.tight_layout()\n",
    "        plt.show()"
   ]
  },
  {
   "cell_type": "code",
   "execution_count": null,
   "id": "a21afc68f100d2ff",
   "metadata": {},
   "outputs": [],
   "source": [
    "df_latent = pd.concat(latent_dfs)\n",
    "df_latent['week'] = df_latent['timestamp'].dt.to_period('W').astype(str)\n",
    "df_latent['hour'] = df_latent['timestamp'].dt.hour\n",
    "\n",
    "# Dimensionality reduction\n",
    "X_pca, X_umap = reduce_dims(\n",
    "    X=df_latent.iloc[:, 2:-2],  # adjust index if needed\n",
    "    method='UMAP',\n",
    "    n_components=2,\n",
    "    umap_neighbors=50,\n",
    "    umap_min_dist=.75\n",
    ")"
   ]
  },
  {
   "cell_type": "code",
   "execution_count": null,
   "id": "1a7ab2e4868aefc1",
   "metadata": {},
   "outputs": [],
   "source": [
    "import ipywidgets as widgets\n",
    "from IPython.display import clear_output\n",
    "\n",
    "hour_options = sorted(df_latent['hour'].unique())\n",
    "\n",
    "hour_selector = widgets.SelectMultiple(\n",
    "    options=hour_options,\n",
    "    value=[hour_options[0]],\n",
    "    description='Hour(s):',\n",
    "    # layout=widgets.Layout(width='50%')\n",
    ")\n",
    "\n",
    "# Create the dropdown and slider widgets\n",
    "method_dropdown = widgets.Dropdown(\n",
    "    options=['UMAP', 'PCA'],\n",
    "    value='UMAP',\n",
    "    description='Method:'\n",
    ")\n",
    "\n",
    "# Get available weeks from your timestamp column\n",
    "available_weeks = sorted(df_latent['week'].unique())\n",
    "\n",
    "week_slider = widgets.SelectionSlider(\n",
    "    options=available_weeks,\n",
    "    value=available_weeks[0],\n",
    "    description='Week:',\n",
    "    continuous_update=False,\n",
    "    # layout=widgets.Layout(width='80%')\n",
    ")\n",
    "\n",
    "\n",
    "def update_plot(method, week, hours):\n",
    "    clear_output(wait=True)\n",
    "\n",
    "    # Filter by week and selected hours\n",
    "    df_filtered = df_latent.reset_index(drop=True)\n",
    "    df_filtered = df_filtered[(df_filtered['week'] == week) & (df_filtered['hour'].isin(hours))]\n",
    "\n",
    "    print(df_filtered.shape)\n",
    "    if df_filtered.empty:\n",
    "        print(\"No data for selected filters.\")\n",
    "        return\n",
    "\n",
    "    fig, ax = plt.subplots(figsize=(4, 3))  # Change width and height as desired\n",
    "\n",
    "    # Plot\n",
    "    plot_reduced_method(\n",
    "        X_umap[df_filtered.index, :], X_umap[df_filtered.index, :],\n",
    "        method=method,\n",
    "        labels=df_filtered['label'],\n",
    "        ax=ax\n",
    "    )\n",
    "\n",
    "\n",
    "widgets.interact(update_plot, method=method_dropdown, week=week_slider, hours=hour_selector)"
   ]
  },
  {
   "cell_type": "code",
   "execution_count": null,
   "id": "2bc7bf3ea17ea074",
   "metadata": {},
   "outputs": [],
   "source": [
    "import pandas as pd\n",
    "\n",
    "# Suppose X_umap and X_pca are available\n",
    "# Add coordinates to df_latent\n",
    "df_latent['umap_x'] = X_umap[:, 0]\n",
    "df_latent['umap_y'] = X_umap[:, 1]\n",
    "\n",
    "\n",
    "import altair as alt\n",
    "\n",
    "# Create a selection for hour and week\n",
    "hour_selection = alt.selection_multi(fields=['hour'], name=\"Select\")\n",
    "week_selection = alt.selection_single(fields=['week'], name=\"Week\", bind='legend')\n",
    "\n",
    "# Dropdown for method (UMAP/PCA)\n",
    "method_dropdown = alt.selection_point(options=['UMAP'], name='Method: ')\n",
    "method_selection = alt.selection_point(fields=['method'], bind=method_dropdown, name='Method')\n",
    "\n",
    "# Prepare long-form data\n",
    "df_umap = df_latent[['umap_x', 'umap_y', 'label', 'hour', 'week']].copy()\n",
    "df_umap['method'] = 'UMAP'\n",
    "df_umap = df_umap.rename(columns={'umap_x': 'x', 'umap_y': 'y'})\n",
    "\n",
    "\n",
    "df_long = df_umap\n",
    "\n"
   ]
  },
  {
   "cell_type": "code",
   "execution_count": null,
   "id": "c8220edccc86abf4",
   "metadata": {},
   "outputs": [],
   "source": [
    "chart = alt.Chart(df_long).mark_circle(size=60).encode(\n",
    "    x='x',\n",
    "    y='y',\n",
    "    color='label:N',\n",
    "    tooltip=['label', 'hour', 'week'],\n",
    "    opacity=alt.condition(hour_selection, alt.value(1), alt.value(0.05))\n",
    ").add_selection(\n",
    "    hour_selection,\n",
    "    week_selection,\n",
    "    method_selection\n",
    ").transform_filter(\n",
    "    hour_selection\n",
    ").transform_filter(\n",
    "    week_selection\n",
    ").transform_filter(\n",
    "    method_selection\n",
    ").properties(\n",
    "    width=500,\n",
    "    height=400,\n",
    "    title='Latent Space Visualization'\n",
    ")\n",
    "\n",
    "chart\n"
   ]
  },
  {
   "cell_type": "code",
   "execution_count": null,
   "id": "cc31605d71124040",
   "metadata": {},
   "outputs": [],
   "source": []
  }
 ],
 "metadata": {
  "kernelspec": {
   "display_name": "Python [conda env:TsLeaks]",
   "language": "python",
   "name": "conda-env-TsLeaks-py"
  },
  "language_info": {
   "codemirror_mode": {
    "name": "ipython",
    "version": 3
   },
   "file_extension": ".py",
   "mimetype": "text/x-python",
   "name": "python",
   "nbconvert_exporter": "python",
   "pygments_lexer": "ipython3",
   "version": "3.10.16"
  },
  "widgets": {
   "application/vnd.jupyter.widget-state+json": {
    "state": {},
    "version_major": 2,
    "version_minor": 0
   }
  }
 },
 "nbformat": 4,
 "nbformat_minor": 5
}
