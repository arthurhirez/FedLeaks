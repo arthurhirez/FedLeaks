{
 "cells": [
  {
   "cell_type": "code",
   "id": "ec019368db80ff3c",
   "metadata": {
    "ExecuteTime": {
     "end_time": "2025-05-20T18:37:20.465874Z",
     "start_time": "2025-05-20T18:36:58.545892Z"
    }
   },
   "source": [
    "import warnings\n",
    "from argparse import ArgumentParser\n",
    "\n",
    "import pandas as pd\n",
    "\n",
    "from datasets import Priv_NAMES as DATASET_NAMES\n",
    "from datasets import get_private_dataset\n",
    "from models import get_all_models\n",
    "from models import get_model\n",
    "from utils.Server import train\n",
    "from utils.Toolbox_analysis import create_latent_df, process_latent_df\n",
    "\n",
    "warnings.simplefilter(action='ignore', category=FutureWarning)\n",
    "\n",
    "\n",
    "def parse_args():\n",
    "    parser = ArgumentParser(description='You Only Need Me', allow_abbrev=False)\n",
    "    parser.add_argument('--device_id', type=int, default=0, help='The Device Id for Experiment')\n",
    "\n",
    "    # Communication - epochs\n",
    "    parser.add_argument('--communication_epoch', type=int, default=15,\n",
    "                        help='The Communication Epoch in Federated Learning')\n",
    "    parser.add_argument('--local_epoch', type=int, default=3, help='The Local Epoch for each Participant')\n",
    "\n",
    "    # Participants info\n",
    "    #TODO: LINK NUMBER OF PARTICIPANTS WITH SIMULATION\n",
    "    parser.add_argument('--parti_num', type=int, default=None, help='The Number for Participants. If \"None\" will be setted as the sum of values described in --domain')\n",
    "    parser.add_argument('--online_ratio', type=float, default=1, help='The Ratio for Online Clients')\n",
    "\n",
    "    # Data parameters\n",
    "    parser.add_argument('--dataset', type=str, default='fl_leaks', choices=DATASET_NAMES, help='Which scenario to perform experiments on.')\n",
    "    parser.add_argument('--experiment_id', type=str, default='DEBUG_PIPELINE', help='Which scenario the experiment is for.')\n",
    "    parser.add_argument('--domains', type=dict, default={\n",
    "                                                        'Graeme': 5,\n",
    "                                                        # 'Balerma': 3,\n",
    "                                                        },\n",
    "                        help='Domains and respective number of participants.')\n",
    "\n",
    "    ## Time series preprocessing\n",
    "    parser.add_argument('--interval_agg', type=int, default=2 * 60 ** 2,\n",
    "                        help='Agregation interval (seconds) of time series')\n",
    "    parser.add_argument('--window_size', type=int, default=84, help='Rolling window length')\n",
    "\n",
    "    # Model (AER) parameters\n",
    "    parser.add_argument('--input_size', type=int, default=5, help='Number of sensors')  #TODO adaptar\n",
    "    parser.add_argument('--output_size', type=int, default=5, help='Shape output - dense layer')\n",
    "    parser.add_argument('--lstm_units', type=int, default=30,\n",
    "                        help='Number of LSTM units (the latent space will have dimension 2 times bigger')\n",
    "\n",
    "    # Federated parameters\n",
    "    parser.add_argument('--model', type=str, default='fpl', help='Federated Model name.', choices=get_all_models()) #fedavg\n",
    "\n",
    "    parser.add_argument('--structure', type=str, default='homogeneity')\n",
    "\n",
    "    parser.add_argument('--pri_aug', type=str, default='weak',  # weak strong\n",
    "                        help='Augmentation for Private Data')\n",
    "    parser.add_argument('--learning_decay', type=bool, default=False, help='The Option for Learning Rate Decay')\n",
    "    parser.add_argument('--averaging', type=str, default='weight', help='The Option for averaging strategy')\n",
    "\n",
    "    parser.add_argument('--infoNCET', type=float, default=0.02, help='The InfoNCE temperature')\n",
    "    parser.add_argument('--T', type=float, default=0.05, help='The Knowledge distillation temperature')\n",
    "    parser.add_argument('--weight', type=int, default=1, help='The Weigth for the distillation loss')\n",
    "\n",
    "    # torch.set_num_threads(4)\n",
    "    # def add_management_args(parser: ArgumentParser) -> None:\n",
    "    #     parser.add_argument('--csv_log', action='store_true',\n",
    "    #                         help='Enable csv logging',default=False)\n",
    "    #\n",
    "    # add_management_args(parser)\n",
    "    #\n",
    "    args, unknown = parser.parse_known_args()\n",
    "\n",
    "    if args.parti_num is None:\n",
    "        args.parti_num = sum(args.domains.values())\n",
    "    #\n",
    "    # best = best_args[args.dataset][args.model]\n",
    "    #\n",
    "    # for key, value in best.items():\n",
    "    #     setattr(args, key, value)\n",
    "    #\n",
    "    # if args.seed is not None:\n",
    "    #     set_random_seed(args.seed)\n",
    "\n",
    "    return args"
   ],
   "outputs": [],
   "execution_count": 1
  },
  {
   "cell_type": "code",
   "id": "c83c796636db5737",
   "metadata": {
    "scrolled": true,
    "ExecuteTime": {
     "end_time": "2025-05-20T19:33:06.901125Z",
     "start_time": "2025-05-20T18:37:20.688536Z"
    }
   },
   "source": [
    "args = parse_args()\n",
    "\n",
    "results = {}\n",
    "\n",
    "for scenario in ['Baseline', 'AutoScenario_1']:\n",
    "\n",
    "    results[scenario] = {}\n",
    "\n",
    "    priv_dataset = get_private_dataset(args)\n",
    "\n",
    "    backbones_list = priv_dataset.get_backbone(parti_num=args.parti_num,\n",
    "                                               names_list=None,\n",
    "                                               n_series=args.input_size)\n",
    "\n",
    "    model = get_model(backbones_list, args, priv_dataset)\n",
    "\n",
    "    # priv_dataset.EXP_ID = ['Drift_PIPELINE_ALERNATIVE']\n",
    "    # priv_dataset.DOMAINS_LIST = ['Balerma']\n",
    "\n",
    "    priv_train_loaders, aux_latent = train(model=model,\n",
    "                                           private_dataset=priv_dataset,\n",
    "                                           scenario=scenario,\n",
    "                                           args=args)\n",
    "\n",
    "    results[scenario]['dl'] = priv_train_loaders\n",
    "    results[scenario]['lat'] = aux_latent\n",
    "    results[scenario]['model'] = model"
   ],
   "outputs": [
    {
     "name": "stderr",
     "output_type": "stream",
     "text": [
      "Local Pariticipant 2 MSE = 0.037,InfoNCE = 0.000: 100%|██████████| 3/3 [00:03<00:00,  1.20s/it]\n",
      "Local Pariticipant 1 MSE = 0.041,InfoNCE = 0.000: 100%|██████████| 3/3 [00:02<00:00,  1.15it/s]\n",
      "Local Pariticipant 3 MSE = 0.046,InfoNCE = 0.000: 100%|██████████| 3/3 [00:02<00:00,  1.15it/s]\n",
      "Local Pariticipant 0 MSE = 0.014,InfoNCE = 0.000: 100%|██████████| 3/3 [00:02<00:00,  1.14it/s]\n",
      "Local Pariticipant 4 MSE = 0.039,InfoNCE = 0.000: 100%|██████████| 3/3 [00:02<00:00,  1.09it/s]\n"
     ]
    },
    {
     "name": "stdout",
     "output_type": "stream",
     "text": [
      "Partition 0: 1 clusters\n",
      "Partition 0: 1 clusters\n",
      "Partition 0: 1 clusters\n",
      "Partition 0: 1 clusters\n",
      "Partition 0: 2 clusters\n",
      "Partition 0: 1 clusters\n",
      "Partition 0: 2 clusters\n",
      "**--**--**--**--**--**--**--**--**--**--\n",
      "SEM AGREGAÇÃO\n",
      "Acc: 0.8921\tPrec: 0.0000\tRec: 0.0000\tF1: 0.0000\n",
      "Acc: 0.8732\tPrec: 0.0000\tRec: 0.0000\tF1: 0.0000\n",
      "Acc: 0.8903\tPrec: 0.0000\tRec: 0.0000\tF1: 0.0000\n",
      "Acc: 0.8161\tPrec: 0.0000\tRec: 0.0000\tF1: 0.0000\n",
      "Acc: 0.8911\tPrec: 0.0000\tRec: 0.0000\tF1: 0.0000\n"
     ]
    },
    {
     "name": "stderr",
     "output_type": "stream",
     "text": [
      "Local Pariticipant 3 MSE = 0.052,InfoNCE = 3.101: 100%|██████████| 3/3 [00:05<00:00,  1.70s/it]\n",
      "Local Pariticipant 2 MSE = 0.041,InfoNCE = 1.903: 100%|██████████| 3/3 [00:04<00:00,  1.66s/it]\n",
      "Local Pariticipant 4 MSE = 0.038,InfoNCE = 3.306: 100%|██████████| 3/3 [00:05<00:00,  1.71s/it]\n",
      "Local Pariticipant 0 MSE = 0.014,InfoNCE = 3.680: 100%|██████████| 3/3 [00:04<00:00,  1.64s/it]\n",
      "Local Pariticipant 1 MSE = 0.037,InfoNCE = 2.110: 100%|██████████| 3/3 [00:04<00:00,  1.66s/it]\n"
     ]
    },
    {
     "name": "stdout",
     "output_type": "stream",
     "text": [
      "Partition 0: 1 clusters\n",
      "Partition 0: 1 clusters\n",
      "Partition 0: 1 clusters\n",
      "Partition 0: 2 clusters\n",
      "Partition 0: 1 clusters\n",
      "Partition 0: 1 clusters\n",
      "Partition 0: 1 clusters\n",
      "**--**--**--**--**--**--**--**--**--**--\n",
      "SEM AGREGAÇÃO\n",
      "Acc: 0.9117\tPrec: 0.0000\tRec: 0.0000\tF1: 0.0000\n",
      "Acc: 0.9147\tPrec: 0.0000\tRec: 0.0000\tF1: 0.0000\n",
      "Acc: 0.8262\tPrec: 0.0000\tRec: 0.0000\tF1: 0.0000\n",
      "Acc: 0.9147\tPrec: 0.0000\tRec: 0.0000\tF1: 0.0000\n",
      "Acc: 0.9577\tPrec: 0.0000\tRec: 0.0000\tF1: 0.0000\n"
     ]
    },
    {
     "name": "stderr",
     "output_type": "stream",
     "text": [
      "Local Pariticipant 0 MSE = 0.009,InfoNCE = 2.922: 100%|██████████| 3/3 [00:06<00:00,  2.31s/it]\n",
      "Local Pariticipant 2 MSE = 0.027,InfoNCE = 2.502: 100%|██████████| 3/3 [00:07<00:00,  2.57s/it]\n",
      "Local Pariticipant 3 MSE = 0.041,InfoNCE = 3.210: 100%|██████████| 3/3 [00:05<00:00,  1.91s/it]\n",
      "Local Pariticipant 4 MSE = 0.036,InfoNCE = 2.395: 100%|██████████| 3/3 [00:05<00:00,  1.95s/it]\n",
      "Local Pariticipant 1 MSE = 0.027,InfoNCE = 2.672: 100%|██████████| 3/3 [00:05<00:00,  1.91s/it]\n"
     ]
    },
    {
     "name": "stdout",
     "output_type": "stream",
     "text": [
      "Partition 0: 1 clusters\n",
      "Partition 0: 1 clusters\n",
      "Partition 0: 1 clusters\n",
      "Partition 0: 1 clusters\n",
      "Partition 0: 1 clusters\n",
      "Partition 0: 1 clusters\n",
      "Partition 0: 2 clusters\n",
      "**--**--**--**--**--**--**--**--**--**--\n",
      "SEM AGREGAÇÃO\n",
      "Acc: 0.8647\tPrec: 0.0000\tRec: 0.0000\tF1: 0.0000\n",
      "Acc: 0.9558\tPrec: 0.0000\tRec: 0.0000\tF1: 0.0000\n",
      "Acc: 0.8302\tPrec: 0.0000\tRec: 0.0000\tF1: 0.0000\n",
      "Acc: 0.8732\tPrec: 0.0000\tRec: 0.0000\tF1: 0.0000\n",
      "Acc: 0.9585\tPrec: 0.0000\tRec: 0.0000\tF1: 0.0000\n"
     ]
    },
    {
     "name": "stderr",
     "output_type": "stream",
     "text": [
      "Local Pariticipant 4 MSE = 0.034,InfoNCE = 2.594: 100%|██████████| 3/3 [00:17<00:00,  5.85s/it]\n",
      "Local Pariticipant 0 MSE = 0.011,InfoNCE = 2.401: 100%|██████████| 3/3 [00:16<00:00,  5.64s/it]\n",
      "Local Pariticipant 1 MSE = 0.038,InfoNCE = 2.520: 100%|██████████| 3/3 [00:16<00:00,  5.55s/it]\n",
      "Local Pariticipant 2 MSE = 0.034,InfoNCE = 2.421: 100%|██████████| 3/3 [00:16<00:00,  5.54s/it]\n",
      "Local Pariticipant 3 MSE = 0.045,InfoNCE = 2.931: 100%|██████████| 3/3 [00:16<00:00,  5.63s/it]\n"
     ]
    },
    {
     "name": "stdout",
     "output_type": "stream",
     "text": [
      "Partition 0: 1 clusters\n",
      "Partition 0: 1 clusters\n",
      "Partition 0: 1 clusters\n",
      "Partition 0: 1 clusters\n",
      "Partition 0: 1 clusters\n",
      "Partition 0: 1 clusters\n",
      "Partition 0: 2 clusters\n",
      "**--**--**--**--**--**--**--**--**--**--\n",
      "SEM AGREGAÇÃO\n",
      "Acc: 0.9298\tPrec: 0.0000\tRec: 0.0000\tF1: 0.0000\n",
      "Acc: 0.8796\tPrec: 0.0000\tRec: 0.0000\tF1: 0.0000\n",
      "Acc: 0.8052\tPrec: 0.0000\tRec: 0.0000\tF1: 0.0000\n",
      "Acc: 0.8322\tPrec: 0.0000\tRec: 0.0000\tF1: 0.0000\n",
      "Acc: 0.9581\tPrec: 0.0000\tRec: 0.0000\tF1: 0.0000\n"
     ]
    },
    {
     "name": "stderr",
     "output_type": "stream",
     "text": [
      "Local Pariticipant 0 MSE = 0.003,InfoNCE = 2.281: 100%|██████████| 3/3 [00:17<00:00,  5.76s/it]\n",
      "Local Pariticipant 3 MSE = 0.040,InfoNCE = 1.738: 100%|██████████| 3/3 [00:17<00:00,  5.69s/it]\n",
      "Local Pariticipant 4 MSE = 0.028,InfoNCE = 3.554: 100%|██████████| 3/3 [00:17<00:00,  5.76s/it]\n",
      "Local Pariticipant 1 MSE = 0.032,InfoNCE = 2.467: 100%|██████████| 3/3 [00:16<00:00,  5.56s/it]\n",
      "Local Pariticipant 2 MSE = 0.035,InfoNCE = 1.927: 100%|██████████| 3/3 [00:16<00:00,  5.66s/it]\n"
     ]
    },
    {
     "name": "stdout",
     "output_type": "stream",
     "text": [
      "Partition 0: 2 clusters\n",
      "Partition 0: 2 clusters\n",
      "Partition 0: 1 clusters\n",
      "Partition 0: 1 clusters\n",
      "Partition 0: 1 clusters\n",
      "Partition 0: 1 clusters\n",
      "Partition 0: 1 clusters\n",
      "**--**--**--**--**--**--**--**--**--**--\n",
      "SEM AGREGAÇÃO\n",
      "Acc: 0.9577\tPrec: 0.0000\tRec: 0.0000\tF1: 0.0000\n",
      "Acc: 0.8486\tPrec: 0.0000\tRec: 0.0000\tF1: 0.0000\n",
      "Acc: 0.7844\tPrec: 0.0000\tRec: 0.0000\tF1: 0.0000\n",
      "Acc: 0.8354\tPrec: 0.0000\tRec: 0.0000\tF1: 0.0000\n",
      "Acc: 0.9143\tPrec: 0.0000\tRec: 0.0000\tF1: 0.0000\n"
     ]
    },
    {
     "name": "stderr",
     "output_type": "stream",
     "text": [
      "Local Pariticipant 4 MSE = 0.031,InfoNCE = 2.819: 100%|██████████| 3/3 [00:17<00:00,  5.68s/it]\n",
      "Local Pariticipant 0 MSE = 0.004,InfoNCE = 3.553: 100%|██████████| 3/3 [00:16<00:00,  5.60s/it]\n",
      "Local Pariticipant 3 MSE = 0.055,InfoNCE = 3.339: 100%|██████████| 3/3 [00:16<00:00,  5.59s/it]\n",
      "Local Pariticipant 1 MSE = 0.039,InfoNCE = 2.124: 100%|██████████| 3/3 [00:16<00:00,  5.61s/it]\n",
      "Local Pariticipant 2 MSE = 0.026,InfoNCE = 2.672: 100%|██████████| 3/3 [00:16<00:00,  5.63s/it]\n"
     ]
    },
    {
     "name": "stdout",
     "output_type": "stream",
     "text": [
      "Partition 0: 1 clusters\n",
      "Partition 0: 1 clusters\n",
      "Partition 0: 1 clusters\n",
      "Partition 0: 1 clusters\n",
      "Partition 0: 1 clusters\n",
      "Partition 0: 1 clusters\n",
      "Partition 0: 1 clusters\n",
      "**--**--**--**--**--**--**--**--**--**--\n",
      "SEM AGREGAÇÃO\n",
      "Acc: 0.9141\tPrec: 0.0000\tRec: 0.0000\tF1: 0.0000\n",
      "Acc: 0.8139\tPrec: 0.0000\tRec: 0.0000\tF1: 0.0000\n",
      "Acc: 0.7864\tPrec: 0.0000\tRec: 0.0000\tF1: 0.0000\n",
      "Acc: 0.8361\tPrec: 0.0000\tRec: 0.0000\tF1: 0.0000\n",
      "Acc: 0.8744\tPrec: 0.0000\tRec: 0.0000\tF1: 0.0000\n"
     ]
    },
    {
     "name": "stderr",
     "output_type": "stream",
     "text": [
      "Local Pariticipant 1 MSE = 0.032,InfoNCE = 2.225: 100%|██████████| 3/3 [00:16<00:00,  5.63s/it]\n",
      "Local Pariticipant 4 MSE = 0.030,InfoNCE = 1.803: 100%|██████████| 3/3 [00:16<00:00,  5.55s/it]\n",
      "Local Pariticipant 3 MSE = 0.025,InfoNCE = 1.753: 100%|██████████| 3/3 [00:16<00:00,  5.60s/it]\n",
      "Local Pariticipant 2 MSE = 0.026,InfoNCE = 2.383: 100%|██████████| 3/3 [00:16<00:00,  5.53s/it]\n",
      "Local Pariticipant 0 MSE = 0.007,InfoNCE = 1.914: 100%|██████████| 3/3 [00:16<00:00,  5.59s/it]\n"
     ]
    },
    {
     "name": "stdout",
     "output_type": "stream",
     "text": [
      "Partition 0: 1 clusters\n",
      "Partition 0: 1 clusters\n",
      "Partition 0: 1 clusters\n",
      "Partition 0: 1 clusters\n",
      "Partition 0: 1 clusters\n",
      "Partition 0: 1 clusters\n",
      "Partition 0: 1 clusters\n",
      "**--**--**--**--**--**--**--**--**--**--\n",
      "SEM AGREGAÇÃO\n",
      "Acc: 0.8205\tPrec: 0.0000\tRec: 0.0000\tF1: 0.0000\n",
      "Acc: 0.8471\tPrec: 0.0000\tRec: 0.0000\tF1: 0.0000\n",
      "Acc: 0.8254\tPrec: 0.0000\tRec: 0.0000\tF1: 0.0000\n",
      "Acc: 0.8330\tPrec: 0.0000\tRec: 0.0000\tF1: 0.0000\n",
      "Acc: 0.8736\tPrec: 0.0000\tRec: 0.0000\tF1: 0.0000\n"
     ]
    },
    {
     "name": "stderr",
     "output_type": "stream",
     "text": [
      "Local Pariticipant 0 MSE = 0.005,InfoNCE = 2.214: 100%|██████████| 3/3 [00:17<00:00,  5.89s/it]\n",
      "Local Pariticipant 1 MSE = 0.043,InfoNCE = 2.053: 100%|██████████| 3/3 [00:17<00:00,  5.96s/it]\n",
      "Local Pariticipant 2 MSE = 0.022,InfoNCE = 2.357: 100%|██████████| 3/3 [00:17<00:00,  5.79s/it]\n",
      "Local Pariticipant 4 MSE = 0.035,InfoNCE = 2.287: 100%|██████████| 3/3 [00:16<00:00,  5.66s/it]\n",
      "Local Pariticipant 3 MSE = 0.039,InfoNCE = 1.517: 100%|██████████| 3/3 [00:17<00:00,  5.75s/it]\n"
     ]
    },
    {
     "name": "stdout",
     "output_type": "stream",
     "text": [
      "Partition 0: 1 clusters\n",
      "Partition 0: 1 clusters\n",
      "Partition 0: 1 clusters\n",
      "Partition 0: 1 clusters\n",
      "Partition 0: 1 clusters\n",
      "Partition 0: 1 clusters\n",
      "Partition 0: 1 clusters\n",
      "**--**--**--**--**--**--**--**--**--**--\n",
      "SEM AGREGAÇÃO\n",
      "Acc: 0.8036\tPrec: 0.0000\tRec: 0.0000\tF1: 0.0000\n",
      "Acc: 0.8913\tPrec: 0.0000\tRec: 0.0000\tF1: 0.0000\n",
      "Acc: 0.8665\tPrec: 0.0000\tRec: 0.0000\tF1: 0.0000\n",
      "Acc: 0.7967\tPrec: 0.0000\tRec: 0.0000\tF1: 0.0000\n",
      "Acc: 0.9179\tPrec: 0.0000\tRec: 0.0000\tF1: 0.0000\n"
     ]
    },
    {
     "name": "stderr",
     "output_type": "stream",
     "text": [
      "Local Pariticipant 3 MSE = 0.033,InfoNCE = 2.639: 100%|██████████| 3/3 [00:16<00:00,  5.56s/it]\n",
      "Local Pariticipant 4 MSE = 0.028,InfoNCE = 1.909: 100%|██████████| 3/3 [00:16<00:00,  5.54s/it]\n",
      "Local Pariticipant 0 MSE = 0.004,InfoNCE = 2.128: 100%|██████████| 3/3 [00:16<00:00,  5.45s/it]\n",
      "Local Pariticipant 1 MSE = 0.023,InfoNCE = 2.210: 100%|██████████| 3/3 [00:16<00:00,  5.48s/it]\n",
      "Local Pariticipant 2 MSE = 0.039,InfoNCE = 1.958: 100%|██████████| 3/3 [00:16<00:00,  5.52s/it]\n"
     ]
    },
    {
     "name": "stdout",
     "output_type": "stream",
     "text": [
      "Partition 0: 1 clusters\n",
      "Partition 0: 1 clusters\n",
      "Partition 0: 1 clusters\n",
      "Partition 0: 1 clusters\n",
      "Partition 0: 1 clusters\n",
      "Partition 0: 1 clusters\n",
      "Partition 0: 1 clusters\n",
      "**--**--**--**--**--**--**--**--**--**--\n",
      "SEM AGREGAÇÃO\n",
      "Acc: 0.8443\tPrec: 0.0000\tRec: 0.0000\tF1: 0.0000\n",
      "Acc: 0.8909\tPrec: 0.0000\tRec: 0.0000\tF1: 0.0000\n",
      "Acc: 0.8673\tPrec: 0.0000\tRec: 0.0000\tF1: 0.0000\n",
      "Acc: 0.8361\tPrec: 0.0000\tRec: 0.0000\tF1: 0.0000\n",
      "Acc: 0.8772\tPrec: 0.0000\tRec: 0.0000\tF1: 0.0000\n"
     ]
    },
    {
     "name": "stderr",
     "output_type": "stream",
     "text": [
      "Local Pariticipant 2 MSE = 0.023,InfoNCE = 2.603: 100%|██████████| 3/3 [00:17<00:00,  5.78s/it]\n",
      "Local Pariticipant 4 MSE = 0.027,InfoNCE = 1.718: 100%|██████████| 3/3 [00:17<00:00,  5.70s/it]\n",
      "Local Pariticipant 1 MSE = 0.024,InfoNCE = 2.014: 100%|██████████| 3/3 [00:16<00:00,  5.66s/it]\n",
      "Local Pariticipant 3 MSE = 0.035,InfoNCE = 1.956: 100%|██████████| 3/3 [00:17<00:00,  5.68s/it]\n",
      "Local Pariticipant 0 MSE = 0.005,InfoNCE = 1.765: 100%|██████████| 3/3 [00:16<00:00,  5.60s/it]\n"
     ]
    },
    {
     "name": "stdout",
     "output_type": "stream",
     "text": [
      "Partition 0: 1 clusters\n",
      "Partition 0: 1 clusters\n",
      "Partition 0: 1 clusters\n",
      "Partition 0: 1 clusters\n",
      "Partition 0: 1 clusters\n",
      "Partition 0: 1 clusters\n",
      "Partition 0: 1 clusters\n",
      "**--**--**--**--**--**--**--**--**--**--\n",
      "SEM AGREGAÇÃO\n",
      "Acc: 0.8869\tPrec: 0.0000\tRec: 0.0000\tF1: 0.0000\n",
      "Acc: 0.8143\tPrec: 0.0000\tRec: 0.0000\tF1: 0.0000\n",
      "Acc: 0.8685\tPrec: 0.0000\tRec: 0.0000\tF1: 0.0000\n",
      "Acc: 0.8346\tPrec: 0.0000\tRec: 0.0000\tF1: 0.0000\n",
      "Acc: 0.8760\tPrec: 0.0000\tRec: 0.0000\tF1: 0.0000\n"
     ]
    },
    {
     "name": "stderr",
     "output_type": "stream",
     "text": [
      "Local Pariticipant 4 MSE = 0.028,InfoNCE = 1.728: 100%|██████████| 3/3 [00:05<00:00,  1.68s/it]\n",
      "Local Pariticipant 2 MSE = 0.025,InfoNCE = 1.878: 100%|██████████| 3/3 [00:04<00:00,  1.67s/it]\n",
      "Local Pariticipant 3 MSE = 0.029,InfoNCE = 1.858: 100%|██████████| 3/3 [00:04<00:00,  1.66s/it]\n",
      "Local Pariticipant 1 MSE = 0.037,InfoNCE = 2.331: 100%|██████████| 3/3 [00:05<00:00,  1.81s/it]\n",
      "Local Pariticipant 0 MSE = 0.005,InfoNCE = 1.730: 100%|██████████| 3/3 [00:05<00:00,  1.86s/it]\n"
     ]
    },
    {
     "name": "stdout",
     "output_type": "stream",
     "text": [
      "Partition 0: 1 clusters\n",
      "Partition 0: 1 clusters\n",
      "Partition 0: 1 clusters\n",
      "Partition 0: 1 clusters\n",
      "Partition 0: 1 clusters\n",
      "Partition 0: 1 clusters\n",
      "Partition 0: 1 clusters\n",
      "**--**--**--**--**--**--**--**--**--**--\n",
      "SEM AGREGAÇÃO\n",
      "Acc: 0.9165\tPrec: 0.0000\tRec: 0.0000\tF1: 0.0000\n",
      "Acc: 0.8167\tPrec: 0.0000\tRec: 0.0000\tF1: 0.0000\n",
      "Acc: 0.8685\tPrec: 0.0000\tRec: 0.0000\tF1: 0.0000\n",
      "Acc: 0.8756\tPrec: 0.0000\tRec: 0.0000\tF1: 0.0000\n",
      "Acc: 0.8768\tPrec: 0.0000\tRec: 0.0000\tF1: 0.0000\n"
     ]
    },
    {
     "name": "stderr",
     "output_type": "stream",
     "text": [
      "Local Pariticipant 1 MSE = 0.041,InfoNCE = 2.265: 100%|██████████| 3/3 [00:07<00:00,  2.51s/it]\n",
      "Local Pariticipant 0 MSE = 0.007,InfoNCE = 1.721: 100%|██████████| 3/3 [00:10<00:00,  3.34s/it]\n",
      "Local Pariticipant 4 MSE = 0.027,InfoNCE = 2.499: 100%|██████████| 3/3 [00:09<00:00,  3.32s/it]\n",
      "Local Pariticipant 3 MSE = 0.026,InfoNCE = 2.162: 100%|██████████| 3/3 [00:06<00:00,  2.06s/it]\n",
      "Local Pariticipant 2 MSE = 0.024,InfoNCE = 2.255: 100%|██████████| 3/3 [00:05<00:00,  1.98s/it]\n"
     ]
    },
    {
     "name": "stdout",
     "output_type": "stream",
     "text": [
      "Partition 0: 1 clusters\n",
      "Partition 0: 2 clusters\n",
      "Partition 0: 1 clusters\n",
      "Partition 0: 1 clusters\n",
      "Partition 0: 1 clusters\n",
      "Partition 0: 1 clusters\n",
      "Partition 0: 1 clusters\n",
      "**--**--**--**--**--**--**--**--**--**--\n",
      "SEM AGREGAÇÃO\n",
      "Acc: 0.9177\tPrec: 0.0000\tRec: 0.0000\tF1: 0.0000\n",
      "Acc: 0.8167\tPrec: 0.0000\tRec: 0.0000\tF1: 0.0000\n",
      "Acc: 0.8665\tPrec: 0.0000\tRec: 0.0000\tF1: 0.0000\n",
      "Acc: 0.8354\tPrec: 0.0000\tRec: 0.0000\tF1: 0.0000\n",
      "Acc: 0.8760\tPrec: 0.0000\tRec: 0.0000\tF1: 0.0000\n"
     ]
    },
    {
     "name": "stderr",
     "output_type": "stream",
     "text": [
      "Local Pariticipant 4 MSE = 0.031,InfoNCE = 2.504: 100%|██████████| 3/3 [00:07<00:00,  2.46s/it]\n",
      "Local Pariticipant 3 MSE = 0.023,InfoNCE = 1.671: 100%|██████████| 3/3 [00:07<00:00,  2.46s/it]\n",
      "Local Pariticipant 0 MSE = 0.004,InfoNCE = 2.578: 100%|██████████| 3/3 [00:06<00:00,  2.24s/it]\n",
      "Local Pariticipant 1 MSE = 0.028,InfoNCE = 2.770: 100%|██████████| 3/3 [00:06<00:00,  2.11s/it]\n",
      "Local Pariticipant 2 MSE = 0.027,InfoNCE = 2.217: 100%|██████████| 3/3 [00:05<00:00,  1.94s/it]\n"
     ]
    },
    {
     "name": "stdout",
     "output_type": "stream",
     "text": [
      "Partition 0: 1 clusters\n",
      "Partition 0: 2 clusters\n",
      "Partition 0: 1 clusters\n",
      "Partition 0: 2 clusters\n",
      "Partition 0: 1 clusters\n",
      "Partition 0: 1 clusters\n",
      "Partition 0: 2 clusters\n",
      "**--**--**--**--**--**--**--**--**--**--\n",
      "SEM AGREGAÇÃO\n",
      "Acc: 0.9516\tPrec: 0.0000\tRec: 0.0000\tF1: 0.0000\n",
      "Acc: 0.8736\tPrec: 0.0000\tRec: 0.0000\tF1: 0.0000\n",
      "Acc: 0.8653\tPrec: 0.0000\tRec: 0.0000\tF1: 0.0000\n",
      "Acc: 0.8354\tPrec: 0.0000\tRec: 0.0000\tF1: 0.0000\n",
      "Acc: 0.8748\tPrec: 0.0000\tRec: 0.0000\tF1: 0.0000\n"
     ]
    },
    {
     "name": "stderr",
     "output_type": "stream",
     "text": [
      "Local Pariticipant 1 MSE = 0.029,InfoNCE = 2.060: 100%|██████████| 3/3 [00:05<00:00,  1.90s/it]\n",
      "Local Pariticipant 4 MSE = 0.026,InfoNCE = 2.491: 100%|██████████| 3/3 [00:05<00:00,  1.97s/it]\n",
      "Local Pariticipant 2 MSE = 0.022,InfoNCE = 2.256: 100%|██████████| 3/3 [00:05<00:00,  1.99s/it]\n",
      "Local Pariticipant 3 MSE = 0.026,InfoNCE = 2.082: 100%|██████████| 3/3 [00:06<00:00,  2.26s/it]\n",
      "Local Pariticipant 0 MSE = 0.005,InfoNCE = 2.215: 100%|██████████| 3/3 [00:05<00:00,  1.90s/it]\n"
     ]
    },
    {
     "name": "stdout",
     "output_type": "stream",
     "text": [
      "Partition 0: 1 clusters\n",
      "Partition 0: 1 clusters\n",
      "Partition 0: 1 clusters\n",
      "Partition 0: 1 clusters\n",
      "Partition 0: 1 clusters\n",
      "Partition 0: 1 clusters\n",
      "Partition 0: 1 clusters\n",
      "**--**--**--**--**--**--**--**--**--**--\n",
      "SEM AGREGAÇÃO\n",
      "Acc: 0.9314\tPrec: 0.0000\tRec: 0.0000\tF1: 0.0000\n",
      "Acc: 0.8736\tPrec: 0.0000\tRec: 0.0000\tF1: 0.0000\n",
      "Acc: 0.8246\tPrec: 0.0000\tRec: 0.0000\tF1: 0.0000\n",
      "Acc: 0.8752\tPrec: 0.0000\tRec: 0.0000\tF1: 0.0000\n",
      "Acc: 0.8740\tPrec: 0.0000\tRec: 0.0000\tF1: 0.0000\n"
     ]
    },
    {
     "name": "stderr",
     "output_type": "stream",
     "text": [
      "Local Pariticipant 3 MSE = 0.030,InfoNCE = 1.743: 100%|██████████| 3/3 [00:05<00:00,  1.68s/it]\n",
      "Local Pariticipant 1 MSE = 0.021,InfoNCE = 2.648: 100%|██████████| 3/3 [00:05<00:00,  1.67s/it]\n",
      "Local Pariticipant 0 MSE = 0.004,InfoNCE = 1.712: 100%|██████████| 3/3 [00:05<00:00,  1.69s/it]\n",
      "Local Pariticipant 2 MSE = 0.027,InfoNCE = 3.043: 100%|██████████| 3/3 [00:05<00:00,  1.71s/it]\n",
      "Local Pariticipant 4 MSE = 0.017,InfoNCE = 2.580: 100%|██████████| 3/3 [00:05<00:00,  1.72s/it]\n"
     ]
    },
    {
     "name": "stdout",
     "output_type": "stream",
     "text": [
      "Partition 0: 1 clusters\n",
      "Partition 0: 2 clusters\n",
      "Partition 0: 2 clusters\n",
      "Partition 0: 1 clusters\n",
      "Partition 0: 1 clusters\n",
      "Partition 0: 1 clusters\n",
      "Partition 0: 2 clusters\n",
      "**--**--**--**--**--**--**--**--**--**--\n",
      "SEM AGREGAÇÃO\n",
      "Acc: 0.9089\tPrec: 0.0000\tRec: 0.0000\tF1: 0.0000\n",
      "Acc: 0.8705\tPrec: 0.0000\tRec: 0.0000\tF1: 0.0000\n",
      "Acc: 0.8290\tPrec: 0.0000\tRec: 0.0000\tF1: 0.0000\n",
      "Acc: 0.8326\tPrec: 0.0000\tRec: 0.0000\tF1: 0.0000\n",
      "Acc: 0.8748\tPrec: 0.0000\tRec: 0.0000\tF1: 0.0000\n"
     ]
    },
    {
     "name": "stderr",
     "output_type": "stream",
     "text": [
      "Local Pariticipant 4 MSE = 0.008,InfoNCE = 0.000: 100%|██████████| 3/3 [00:03<00:00,  1.08s/it]\n",
      "Local Pariticipant 0 MSE = 0.010,InfoNCE = 0.000: 100%|██████████| 3/3 [00:03<00:00,  1.07s/it]\n",
      "Local Pariticipant 1 MSE = 0.019,InfoNCE = 0.000: 100%|██████████| 3/3 [00:03<00:00,  1.09s/it]\n",
      "Local Pariticipant 2 MSE = 0.040,InfoNCE = 0.000: 100%|██████████| 3/3 [00:08<00:00,  2.71s/it]\n",
      "Local Pariticipant 3 MSE = 0.006,InfoNCE = 0.000: 100%|██████████| 3/3 [00:03<00:00,  1.29s/it]\n"
     ]
    },
    {
     "name": "stdout",
     "output_type": "stream",
     "text": [
      "Partition 0: 2 clusters\n",
      "Partition 0: 2 clusters\n",
      "Partition 0: 2 clusters\n",
      "Partition 0: 2 clusters\n",
      "Partition 0: 2 clusters\n",
      "Partition 0: 2 clusters\n",
      "Partition 0: 2 clusters\n",
      "**--**--**--**--**--**--**--**--**--**--\n",
      "SEM AGREGAÇÃO\n",
      "Acc: 0.8804\tPrec: 0.6881\tRec: 0.3565\tF1: 0.4697\n",
      "Acc: 0.8804\tPrec: 0.6881\tRec: 0.3565\tF1: 0.4697\n",
      "Acc: 0.8417\tPrec: 0.4700\tRec: 0.5127\tF1: 0.4904\n",
      "Acc: 0.8834\tPrec: 0.6318\tRec: 0.5154\tF1: 0.5676\n",
      "Acc: 0.9030\tPrec: 0.7500\tRec: 0.5207\tF1: 0.6147\n"
     ]
    },
    {
     "name": "stderr",
     "output_type": "stream",
     "text": [
      "Local Pariticipant 2 MSE = 0.022,InfoNCE = 1.956: 100%|██████████| 3/3 [00:08<00:00,  2.80s/it]\n",
      "Local Pariticipant 4 MSE = 0.005,InfoNCE = 2.636: 100%|██████████| 3/3 [00:09<00:00,  3.16s/it]\n",
      "Local Pariticipant 3 MSE = 0.002,InfoNCE = 1.594: 100%|██████████| 3/3 [00:06<00:00,  2.14s/it]\n",
      "Local Pariticipant 0 MSE = 0.064,InfoNCE = 2.416: 100%|██████████| 3/3 [00:07<00:00,  2.41s/it]\n",
      "Local Pariticipant 1 MSE = 0.014,InfoNCE = 1.836: 100%|██████████| 3/3 [00:06<00:00,  2.20s/it]\n"
     ]
    },
    {
     "name": "stdout",
     "output_type": "stream",
     "text": [
      "Partition 0: 2 clusters\n",
      "Partition 0: 2 clusters\n",
      "Partition 0: 2 clusters\n",
      "Partition 0: 2 clusters\n",
      "Partition 0: 2 clusters\n",
      "Partition 0: 2 clusters\n",
      "Partition 0: 2 clusters\n",
      "**--**--**--**--**--**--**--**--**--**--\n",
      "SEM AGREGAÇÃO\n",
      "Acc: 0.8371\tPrec: 0.4100\tRec: 0.2190\tF1: 0.2855\n",
      "Acc: 0.8655\tPrec: 0.6381\tRec: 0.2190\tF1: 0.3260\n",
      "Acc: 0.8861\tPrec: 0.6227\tRec: 0.5928\tF1: 0.6074\n",
      "Acc: 0.8742\tPrec: 0.5875\tRec: 0.5154\tF1: 0.5491\n",
      "Acc: 0.8814\tPrec: 0.6200\tRec: 0.5207\tF1: 0.5660\n"
     ]
    },
    {
     "name": "stderr",
     "output_type": "stream",
     "text": [
      "Local Pariticipant 4 MSE = 0.008,InfoNCE = 2.823: 100%|██████████| 3/3 [00:06<00:00,  2.02s/it]\n",
      "Local Pariticipant 0 MSE = 0.010,InfoNCE = 1.901: 100%|██████████| 3/3 [00:05<00:00,  1.95s/it]\n",
      "Local Pariticipant 2 MSE = 0.018,InfoNCE = 3.139: 100%|██████████| 3/3 [00:05<00:00,  1.90s/it]\n",
      "Local Pariticipant 1 MSE = 0.020,InfoNCE = 2.449: 100%|██████████| 3/3 [00:06<00:00,  2.16s/it]\n",
      "Local Pariticipant 3 MSE = 0.004,InfoNCE = 2.901: 100%|██████████| 3/3 [00:05<00:00,  1.88s/it]\n"
     ]
    },
    {
     "name": "stdout",
     "output_type": "stream",
     "text": [
      "Partition 0: 2 clusters\n",
      "Partition 0: 2 clusters\n",
      "Partition 0: 2 clusters\n",
      "Partition 0: 2 clusters\n",
      "Partition 0: 2 clusters\n",
      "Partition 0: 2 clusters\n",
      "Partition 0: 2 clusters\n",
      "**--**--**--**--**--**--**--**--**--**--\n",
      "SEM AGREGAÇÃO\n",
      "Acc: 0.8080\tPrec: 0.2998\tRec: 0.2190\tF1: 0.2531\n",
      "Acc: 0.8659\tPrec: 0.6431\tRec: 0.2190\tF1: 0.3267\n",
      "Acc: 0.8651\tPrec: 0.6332\tRec: 0.2190\tF1: 0.3254\n",
      "Acc: 0.8379\tPrec: 0.4141\tRec: 0.2190\tF1: 0.2865\n",
      "Acc: 0.9026\tPrec: 0.7471\tRec: 0.5207\tF1: 0.6137\n"
     ]
    },
    {
     "name": "stderr",
     "output_type": "stream",
     "text": [
      "Local Pariticipant 3 MSE = 0.102,InfoNCE = 3.259: 100%|██████████| 3/3 [00:05<00:00,  1.74s/it]\n",
      "Local Pariticipant 1 MSE = 0.013,InfoNCE = 1.533: 100%|██████████| 3/3 [00:05<00:00,  1.70s/it]\n",
      "Local Pariticipant 2 MSE = 0.027,InfoNCE = 2.712: 100%|██████████| 3/3 [00:06<00:00,  2.04s/it]\n",
      "Local Pariticipant 0 MSE = 0.009,InfoNCE = 2.557: 100%|██████████| 3/3 [00:05<00:00,  1.99s/it]\n",
      "Local Pariticipant 4 MSE = 0.006,InfoNCE = 2.885: 100%|██████████| 3/3 [00:06<00:00,  2.02s/it]\n"
     ]
    },
    {
     "name": "stdout",
     "output_type": "stream",
     "text": [
      "Partition 0: 2 clusters\n",
      "Partition 0: 2 clusters\n",
      "Partition 0: 2 clusters\n",
      "Partition 0: 2 clusters\n",
      "Partition 0: 2 clusters\n",
      "Partition 0: 2 clusters\n",
      "Partition 0: 2 clusters\n",
      "**--**--**--**--**--**--**--**--**--**--\n",
      "SEM AGREGAÇÃO\n",
      "Acc: 0.7824\tPrec: 0.2426\tRec: 0.2190\tF1: 0.2302\n",
      "Acc: 0.9082\tPrec: 0.8178\tRec: 0.4913\tF1: 0.6138\n",
      "Acc: 0.8639\tPrec: 0.6189\tRec: 0.2190\tF1: 0.3235\n",
      "Acc: 0.8395\tPrec: 0.4227\tRec: 0.2190\tF1: 0.2885\n",
      "Acc: 0.9046\tPrec: 0.7557\tRec: 0.5287\tF1: 0.6222\n"
     ]
    },
    {
     "name": "stderr",
     "output_type": "stream",
     "text": [
      "Local Pariticipant 4 MSE = 0.006,InfoNCE = 2.212: 100%|██████████| 3/3 [00:06<00:00,  2.06s/it]\n",
      "Local Pariticipant 3 MSE = 0.076,InfoNCE = 2.517: 100%|██████████| 3/3 [00:06<00:00,  2.04s/it]\n",
      "Local Pariticipant 1 MSE = 0.022,InfoNCE = 2.585: 100%|██████████| 3/3 [00:05<00:00,  1.92s/it]\n",
      "Local Pariticipant 0 MSE = 0.010,InfoNCE = 1.951: 100%|██████████| 3/3 [00:05<00:00,  1.99s/it]\n",
      "Local Pariticipant 2 MSE = 0.012,InfoNCE = 2.191: 100%|██████████| 3/3 [00:05<00:00,  1.95s/it]\n"
     ]
    },
    {
     "name": "stdout",
     "output_type": "stream",
     "text": [
      "Partition 0: 2 clusters\n",
      "Partition 0: 2 clusters\n",
      "Partition 0: 2 clusters\n",
      "Partition 0: 2 clusters\n",
      "Partition 0: 2 clusters\n",
      "Partition 0: 2 clusters\n",
      "Partition 0: 2 clusters\n",
      "**--**--**--**--**--**--**--**--**--**--\n",
      "SEM AGREGAÇÃO\n",
      "Acc: 0.8234\tPrec: 0.4129\tRec: 0.4459\tF1: 0.4288\n",
      "Acc: 0.8758\tPrec: 0.5914\tRec: 0.5314\tF1: 0.5598\n",
      "Acc: 0.8631\tPrec: 0.6097\tRec: 0.2190\tF1: 0.3222\n",
      "Acc: 0.8798\tPrec: 0.6151\tRec: 0.5100\tF1: 0.5577\n",
      "Acc: 0.9097\tPrec: 0.7634\tRec: 0.5688\tF1: 0.6519\n"
     ]
    },
    {
     "name": "stderr",
     "output_type": "stream",
     "text": [
      "Local Pariticipant 2 MSE = 0.014,InfoNCE = 3.283: 100%|██████████| 3/3 [00:05<00:00,  1.93s/it]\n",
      "Local Pariticipant 0 MSE = 0.009,InfoNCE = 1.825: 100%|██████████| 3/3 [00:05<00:00,  1.94s/it]\n",
      "Local Pariticipant 4 MSE = 0.005,InfoNCE = 2.574: 100%|██████████| 3/3 [00:05<00:00,  1.94s/it]\n",
      "Local Pariticipant 1 MSE = 0.032,InfoNCE = 2.438: 100%|██████████| 3/3 [00:05<00:00,  1.91s/it]\n",
      "Local Pariticipant 3 MSE = 0.002,InfoNCE = 2.183: 100%|██████████| 3/3 [00:05<00:00,  1.93s/it]\n"
     ]
    },
    {
     "name": "stdout",
     "output_type": "stream",
     "text": [
      "Partition 0: 2 clusters\n",
      "Partition 0: 2 clusters\n",
      "Partition 0: 2 clusters\n",
      "Partition 0: 2 clusters\n",
      "Partition 0: 2 clusters\n",
      "Partition 0: 2 clusters\n",
      "Partition 0: 2 clusters\n",
      "**--**--**--**--**--**--**--**--**--**--\n",
      "SEM AGREGAÇÃO\n",
      "Acc: 0.8564\tPrec: 0.5413\tRec: 0.2190\tF1: 0.3118\n",
      "Acc: 0.8861\tPrec: 0.6391\tRec: 0.5367\tF1: 0.5835\n",
      "Acc: 0.8713\tPrec: 0.6004\tRec: 0.3992\tF1: 0.4796\n",
      "Acc: 0.8810\tPrec: 0.6211\tRec: 0.5100\tF1: 0.5601\n",
      "Acc: 0.9113\tPrec: 0.7577\tRec: 0.5928\tF1: 0.6652\n"
     ]
    },
    {
     "name": "stderr",
     "output_type": "stream",
     "text": [
      "Local Pariticipant 2 MSE = 0.134,InfoNCE = 2.820: 100%|██████████| 3/3 [00:05<00:00,  1.99s/it]\n",
      "Local Pariticipant 0 MSE = 0.021,InfoNCE = 1.897: 100%|██████████| 3/3 [00:05<00:00,  1.94s/it]\n",
      "Local Pariticipant 4 MSE = 0.010,InfoNCE = 2.108: 100%|██████████| 3/3 [00:05<00:00,  1.98s/it]\n",
      "Local Pariticipant 1 MSE = 0.012,InfoNCE = 2.516: 100%|██████████| 3/3 [00:06<00:00,  2.01s/it]\n",
      "Local Pariticipant 3 MSE = 0.002,InfoNCE = 2.777: 100%|██████████| 3/3 [00:06<00:00,  2.07s/it]\n"
     ]
    },
    {
     "name": "stdout",
     "output_type": "stream",
     "text": [
      "Partition 0: 2 clusters\n",
      "Partition 0: 2 clusters\n",
      "Partition 0: 2 clusters\n",
      "Partition 0: 2 clusters\n",
      "Partition 0: 2 clusters\n",
      "Partition 0: 2 clusters\n",
      "Partition 0: 2 clusters\n",
      "**--**--**--**--**--**--**--**--**--**--\n",
      "SEM AGREGAÇÃO\n",
      "Acc: 0.8092\tPrec: 0.3031\tRec: 0.2190\tF1: 0.2543\n",
      "Acc: 0.8510\tPrec: 0.4987\tRec: 0.5287\tF1: 0.5133\n",
      "Acc: 0.8972\tPrec: 0.6872\tRec: 0.5661\tF1: 0.6208\n",
      "Acc: 0.9113\tPrec: 0.7595\tRec: 0.5901\tF1: 0.6642\n",
      "Acc: 0.9038\tPrec: 0.7463\tRec: 0.5340\tF1: 0.6226\n"
     ]
    },
    {
     "name": "stderr",
     "output_type": "stream",
     "text": [
      "Local Pariticipant 0 MSE = 0.011,InfoNCE = 2.377: 100%|██████████| 3/3 [00:06<00:00,  2.05s/it]\n",
      "Local Pariticipant 4 MSE = 0.017,InfoNCE = 2.683: 100%|██████████| 3/3 [00:06<00:00,  2.13s/it]\n",
      "Local Pariticipant 1 MSE = 0.011,InfoNCE = 2.005: 100%|██████████| 3/3 [00:05<00:00,  1.81s/it]\n",
      "Local Pariticipant 3 MSE = 0.002,InfoNCE = 2.131: 100%|██████████| 3/3 [00:06<00:00,  2.14s/it]\n",
      "Local Pariticipant 2 MSE = 0.092,InfoNCE = 2.534: 100%|██████████| 3/3 [00:05<00:00,  1.93s/it]\n"
     ]
    },
    {
     "name": "stdout",
     "output_type": "stream",
     "text": [
      "Partition 0: 2 clusters\n",
      "Partition 0: 2 clusters\n",
      "Partition 0: 2 clusters\n",
      "Partition 0: 2 clusters\n",
      "Partition 0: 2 clusters\n",
      "Partition 0: 2 clusters\n",
      "Partition 0: 2 clusters\n",
      "**--**--**--**--**--**--**--**--**--**--\n",
      "SEM AGREGAÇÃO\n",
      "Acc: 0.8302\tPrec: 0.3770\tRec: 0.2190\tF1: 0.2770\n",
      "Acc: 0.8473\tPrec: 0.4871\tRec: 0.5314\tF1: 0.5083\n",
      "Acc: 0.8623\tPrec: 0.6007\tRec: 0.2190\tF1: 0.3209\n",
      "Acc: 0.9010\tPrec: 0.7395\tRec: 0.5154\tF1: 0.6074\n",
      "Acc: 0.9038\tPrec: 0.7463\tRec: 0.5340\tF1: 0.6226\n"
     ]
    },
    {
     "name": "stderr",
     "output_type": "stream",
     "text": [
      "Local Pariticipant 1 MSE = 0.112,InfoNCE = 2.318: 100%|██████████| 3/3 [00:05<00:00,  1.69s/it]\n",
      "Local Pariticipant 3 MSE = 0.098,InfoNCE = 2.599: 100%|██████████| 3/3 [00:05<00:00,  1.68s/it]\n",
      "Local Pariticipant 2 MSE = 0.013,InfoNCE = 3.365: 100%|██████████| 3/3 [00:05<00:00,  1.67s/it]\n",
      "Local Pariticipant 0 MSE = 0.006,InfoNCE = 2.139: 100%|██████████| 3/3 [00:05<00:00,  1.68s/it]\n",
      "Local Pariticipant 4 MSE = 0.007,InfoNCE = 1.850: 100%|██████████| 3/3 [00:05<00:00,  1.76s/it]\n"
     ]
    },
    {
     "name": "stdout",
     "output_type": "stream",
     "text": [
      "Partition 0: 2 clusters\n",
      "Partition 0: 2 clusters\n",
      "Partition 0: 2 clusters\n",
      "Partition 0: 2 clusters\n",
      "Partition 0: 2 clusters\n",
      "Partition 0: 2 clusters\n",
      "Partition 0: 2 clusters\n",
      "**--**--**--**--**--**--**--**--**--**--\n",
      "SEM AGREGAÇÃO\n",
      "Acc: 0.8548\tPrec: 0.5273\tRec: 0.2190\tF1: 0.3094\n",
      "Acc: 0.8711\tPrec: 0.5698\tRec: 0.5394\tF1: 0.5542\n",
      "Acc: 0.8348\tPrec: 0.3981\tRec: 0.2190\tF1: 0.2825\n",
      "Acc: 0.9070\tPrec: 0.7303\tRec: 0.5928\tF1: 0.6544\n",
      "Acc: 0.9034\tPrec: 0.7435\tRec: 0.5340\tF1: 0.6216\n"
     ]
    },
    {
     "name": "stderr",
     "output_type": "stream",
     "text": [
      "Local Pariticipant 4 MSE = 0.025,InfoNCE = 2.032: 100%|██████████| 3/3 [00:05<00:00,  1.95s/it]\n",
      "Local Pariticipant 0 MSE = 0.006,InfoNCE = 1.903: 100%|██████████| 3/3 [00:05<00:00,  1.96s/it]\n",
      "Local Pariticipant 2 MSE = 0.016,InfoNCE = 1.814: 100%|██████████| 3/3 [00:05<00:00,  1.93s/it]\n",
      "Local Pariticipant 3 MSE = 0.004,InfoNCE = 2.606: 100%|██████████| 3/3 [00:05<00:00,  1.90s/it]\n",
      "Local Pariticipant 1 MSE = 0.014,InfoNCE = 2.225: 100%|██████████| 3/3 [00:05<00:00,  1.97s/it]\n"
     ]
    },
    {
     "name": "stdout",
     "output_type": "stream",
     "text": [
      "Partition 0: 2 clusters\n",
      "Partition 0: 2 clusters\n",
      "Partition 0: 2 clusters\n",
      "Partition 0: 2 clusters\n",
      "Partition 0: 2 clusters\n",
      "Partition 0: 2 clusters\n",
      "Partition 0: 2 clusters\n",
      "**--**--**--**--**--**--**--**--**--**--\n",
      "SEM AGREGAÇÃO\n",
      "Acc: 0.8340\tPrec: 0.3942\tRec: 0.2190\tF1: 0.2815\n",
      "Acc: 0.8715\tPrec: 0.5714\tRec: 0.5394\tF1: 0.5549\n",
      "Acc: 0.8631\tPrec: 0.6097\tRec: 0.2190\tF1: 0.3222\n",
      "Acc: 0.9046\tPrec: 0.7519\tRec: 0.5340\tF1: 0.6245\n",
      "Acc: 0.9038\tPrec: 0.7463\tRec: 0.5340\tF1: 0.6226\n"
     ]
    },
    {
     "name": "stderr",
     "output_type": "stream",
     "text": [
      "Local Pariticipant 3 MSE = 0.006,InfoNCE = 2.349: 100%|██████████| 3/3 [00:06<00:00,  2.11s/it]\n",
      "Local Pariticipant 0 MSE = 0.012,InfoNCE = 2.084: 100%|██████████| 3/3 [00:07<00:00,  2.38s/it]\n",
      "Local Pariticipant 2 MSE = 0.011,InfoNCE = 2.261: 100%|██████████| 3/3 [00:05<00:00,  1.98s/it]\n",
      "Local Pariticipant 1 MSE = 0.015,InfoNCE = 1.867: 100%|██████████| 3/3 [00:05<00:00,  2.00s/it]\n",
      "Local Pariticipant 4 MSE = 0.024,InfoNCE = 1.944: 100%|██████████| 3/3 [00:05<00:00,  1.96s/it]\n"
     ]
    },
    {
     "name": "stdout",
     "output_type": "stream",
     "text": [
      "Partition 0: 2 clusters\n",
      "Partition 0: 2 clusters\n",
      "Partition 0: 2 clusters\n",
      "Partition 0: 2 clusters\n",
      "Partition 0: 2 clusters\n",
      "Partition 0: 2 clusters\n",
      "Partition 0: 2 clusters\n",
      "**--**--**--**--**--**--**--**--**--**--\n",
      "SEM AGREGAÇÃO\n",
      "Acc: 0.8564\tPrec: 0.5413\tRec: 0.2190\tF1: 0.3118\n",
      "Acc: 0.8232\tPrec: 0.3489\tRec: 0.2190\tF1: 0.2691\n",
      "Acc: 0.8635\tPrec: 0.6142\tRec: 0.2190\tF1: 0.3228\n",
      "Acc: 0.9038\tPrec: 0.7481\tRec: 0.5314\tF1: 0.6214\n",
      "Acc: 0.9042\tPrec: 0.7472\tRec: 0.5367\tF1: 0.6247\n"
     ]
    },
    {
     "name": "stderr",
     "output_type": "stream",
     "text": [
      "Local Pariticipant 0 MSE = 0.006,InfoNCE = 2.282: 100%|██████████| 3/3 [00:05<00:00,  1.95s/it]\n",
      "Local Pariticipant 2 MSE = 0.025,InfoNCE = 1.991: 100%|██████████| 3/3 [00:06<00:00,  2.15s/it]\n",
      "Local Pariticipant 3 MSE = 0.004,InfoNCE = 2.226: 100%|██████████| 3/3 [00:06<00:00,  2.20s/it]\n",
      "Local Pariticipant 1 MSE = 0.014,InfoNCE = 1.713: 100%|██████████| 3/3 [00:09<00:00,  3.27s/it]\n",
      "Local Pariticipant 4 MSE = 0.030,InfoNCE = 2.190: 100%|██████████| 3/3 [00:05<00:00,  1.87s/it]\n"
     ]
    },
    {
     "name": "stdout",
     "output_type": "stream",
     "text": [
      "Partition 0: 2 clusters\n",
      "Partition 0: 2 clusters\n",
      "Partition 0: 2 clusters\n",
      "Partition 0: 2 clusters\n",
      "Partition 0: 2 clusters\n",
      "Partition 0: 2 clusters\n",
      "Partition 0: 2 clusters\n",
      "**--**--**--**--**--**--**--**--**--**--\n",
      "SEM AGREGAÇÃO\n",
      "Acc: 0.8982\tPrec: 0.7235\tRec: 0.5100\tF1: 0.5983\n",
      "Acc: 0.8240\tPrec: 0.3519\tRec: 0.2190\tF1: 0.2700\n",
      "Acc: 0.8631\tPrec: 0.6097\tRec: 0.2190\tF1: 0.3222\n",
      "Acc: 0.9006\tPrec: 0.7385\tRec: 0.5127\tF1: 0.6052\n",
      "Acc: 0.9042\tPrec: 0.7454\tRec: 0.5394\tF1: 0.6259\n"
     ]
    },
    {
     "name": "stderr",
     "output_type": "stream",
     "text": [
      "Local Pariticipant 3 MSE = 0.084,InfoNCE = 2.945: 100%|██████████| 3/3 [00:06<00:00,  2.00s/it]\n",
      "Local Pariticipant 4 MSE = 0.004,InfoNCE = 2.270: 100%|██████████| 3/3 [00:06<00:00,  2.21s/it]\n",
      "Local Pariticipant 0 MSE = 0.006,InfoNCE = 2.859: 100%|██████████| 3/3 [00:05<00:00,  1.95s/it]\n",
      "Local Pariticipant 2 MSE = 0.015,InfoNCE = 2.132: 100%|██████████| 3/3 [00:06<00:00,  2.03s/it]\n",
      "Local Pariticipant 1 MSE = 0.012,InfoNCE = 3.188: 100%|██████████| 3/3 [00:05<00:00,  1.95s/it]\n"
     ]
    },
    {
     "name": "stdout",
     "output_type": "stream",
     "text": [
      "Partition 0: 2 clusters\n",
      "Partition 0: 2 clusters\n",
      "Partition 0: 2 clusters\n",
      "Partition 0: 2 clusters\n",
      "Partition 0: 2 clusters\n",
      "Partition 0: 2 clusters\n",
      "Partition 0: 2 clusters\n",
      "**--**--**--**--**--**--**--**--**--**--\n",
      "SEM AGREGAÇÃO\n",
      "Acc: 0.8540\tPrec: 0.5089\tRec: 0.4940\tF1: 0.5014\n",
      "Acc: 0.8236\tPrec: 0.3504\tRec: 0.2190\tF1: 0.2695\n",
      "Acc: 0.8270\tPrec: 0.3977\tRec: 0.3191\tF1: 0.3541\n",
      "Acc: 0.9010\tPrec: 0.7432\tRec: 0.5100\tF1: 0.6049\n",
      "Acc: 0.9050\tPrec: 0.7778\tRec: 0.5047\tF1: 0.6121\n"
     ]
    },
    {
     "name": "stderr",
     "output_type": "stream",
     "text": [
      "Local Pariticipant 2 MSE = 0.011,InfoNCE = 2.267: 100%|██████████| 3/3 [00:05<00:00,  1.71s/it]\n",
      "Local Pariticipant 0 MSE = 0.010,InfoNCE = 2.254: 100%|██████████| 3/3 [00:05<00:00,  1.95s/it]\n",
      "Local Pariticipant 3 MSE = 0.018,InfoNCE = 1.892: 100%|██████████| 3/3 [00:06<00:00,  2.05s/it]\n",
      "Local Pariticipant 4 MSE = 0.007,InfoNCE = 2.384: 100%|██████████| 3/3 [00:05<00:00,  1.94s/it]\n",
      "Local Pariticipant 1 MSE = 0.015,InfoNCE = 2.544: 100%|██████████| 3/3 [00:05<00:00,  1.92s/it]\n"
     ]
    },
    {
     "name": "stdout",
     "output_type": "stream",
     "text": [
      "Partition 0: 2 clusters\n",
      "Partition 0: 2 clusters\n",
      "Partition 0: 2 clusters\n",
      "Partition 0: 2 clusters\n",
      "Partition 0: 2 clusters\n",
      "Partition 0: 2 clusters\n",
      "Partition 0: 2 clusters\n",
      "**--**--**--**--**--**--**--**--**--**--\n",
      "SEM AGREGAÇÃO\n",
      "Acc: 0.8149\tPrec: 0.3203\tRec: 0.2190\tF1: 0.2601\n",
      "Acc: 0.7977\tPrec: 0.2738\tRec: 0.2190\tF1: 0.2433\n",
      "Acc: 0.7856\tPrec: 0.2961\tRec: 0.3218\tF1: 0.3084\n",
      "Acc: 0.8794\tPrec: 0.6083\tRec: 0.5287\tF1: 0.5657\n",
      "Acc: 0.9074\tPrec: 0.7701\tRec: 0.5367\tF1: 0.6326\n"
     ]
    },
    {
     "name": "stderr",
     "output_type": "stream",
     "text": [
      "Local Pariticipant 4 MSE = 0.006,InfoNCE = 3.599: 100%|██████████| 3/3 [00:05<00:00,  1.98s/it]\n",
      "Local Pariticipant 1 MSE = 0.007,InfoNCE = 2.998: 100%|██████████| 3/3 [00:05<00:00,  1.92s/it]\n",
      "Local Pariticipant 3 MSE = 0.007,InfoNCE = 4.445: 100%|██████████| 3/3 [00:05<00:00,  1.92s/it]\n",
      "Local Pariticipant 2 MSE = 0.111,InfoNCE = 1.624: 100%|██████████| 3/3 [00:05<00:00,  1.92s/it]\n",
      "Local Pariticipant 0 MSE = 0.010,InfoNCE = 2.840: 100%|██████████| 3/3 [00:05<00:00,  1.91s/it]\n"
     ]
    },
    {
     "name": "stdout",
     "output_type": "stream",
     "text": [
      "Partition 0: 2 clusters\n",
      "Partition 0: 2 clusters\n",
      "Partition 0: 2 clusters\n",
      "Partition 0: 2 clusters\n",
      "Partition 0: 2 clusters\n",
      "Partition 0: 2 clusters\n",
      "Partition 0: 2 clusters\n",
      "**--**--**--**--**--**--**--**--**--**--\n",
      "SEM AGREGAÇÃO\n",
      "Acc: 0.8556\tPrec: 0.5143\tRec: 0.5047\tF1: 0.5094\n",
      "Acc: 0.7846\tPrec: 0.2466\tRec: 0.2190\tF1: 0.2320\n",
      "Acc: 0.8350\tPrec: 0.4276\tRec: 0.3271\tF1: 0.3707\n",
      "Acc: 0.8806\tPrec: 0.6161\tRec: 0.5207\tF1: 0.5644\n",
      "Acc: 0.8840\tPrec: 0.6289\tRec: 0.5340\tF1: 0.5776\n"
     ]
    }
   ],
   "execution_count": 2
  },
  {
   "cell_type": "code",
   "id": "a5ed7a71e70b4a8c",
   "metadata": {
    "ExecuteTime": {
     "end_time": "2025-05-20T19:33:07.150785Z",
     "start_time": "2025-05-20T19:33:07.107226Z"
    }
   },
   "source": [
    "import matplotlib.pyplot as plt\n",
    "import torch\n",
    "\n",
    "def extract_value(data_point, index):\n",
    "    \"\"\"Helper to extract float from tensor or float at a given index in a tuple.\"\"\"\n",
    "    value = data_point[index]\n",
    "    if isinstance(value, torch.Tensor):\n",
    "        return value.item()\n",
    "    return float(value)\n",
    "\n",
    "def plot_all_clients_side_by_side_proto(model, priv_train_loaders, metric='mse'):\n",
    "    \"\"\"\n",
    "    Plot all clients' training history:\n",
    "      - Left: all loss types (total_loss, mse, infonet)\n",
    "      - Right: selected metric from metrics data\n",
    "    \"\"\"\n",
    "    loss_labels = ['Total Loss', 'MSE', 'InfoNet']\n",
    "    n_loss_types = len(loss_labels)\n",
    "    loss_indices = range(n_loss_types)\n",
    "\n",
    "    n_clients = len(model.nets_list)\n",
    "\n",
    "    fig, axes = plt.subplots(1, 2, figsize=(14, 5))\n",
    "\n",
    "    # --- Left Plot: All Losses ---\n",
    "    for client_id in range(n_clients):\n",
    "        fit_history = model.nets_list[client_id].fit_history\n",
    "\n",
    "        if not fit_history:\n",
    "            continue\n",
    "\n",
    "        for idx in loss_indices:\n",
    "            y_vals = [extract_value(record, idx) for record in fit_history]\n",
    "            axes[0].plot(\n",
    "                y_vals,\n",
    "                label=f'Client {client_id} - {loss_labels[idx]}'\n",
    "            )\n",
    "\n",
    "    axes[0].set_title('Client Loss Components Over Epochs')\n",
    "    axes[0].set_xlabel('Epoch')\n",
    "    axes[0].set_ylabel('Loss')\n",
    "    axes[0].grid(True)\n",
    "    axes[0].legend()\n",
    "\n",
    "    # --- Right Plot: Selected Metric ---\n",
    "    metric_map = {\n",
    "        'acc': 0,\n",
    "        'prec': 1,\n",
    "        'rec': 2,\n",
    "        'f1': 3,\n",
    "        'mse': 1,       # reuse index for common case\n",
    "        'infonet': 2    # reuse index for convenience if needed\n",
    "    }\n",
    "\n",
    "    if metric not in metric_map:\n",
    "        raise ValueError(f\"Invalid metric '{metric}'. Choose from: {list(metric_map.keys())}\")\n",
    "\n",
    "    metric_idx = metric_map[metric]\n",
    "\n",
    "    for client_id in range(n_clients):\n",
    "        metrics = priv_train_loaders[client_id]['metrics']\n",
    "        y_vals = [extract_value(record, metric_idx) for record in metrics]\n",
    "        axes[1].plot(y_vals, label=f'Client {client_id}')\n",
    "\n",
    "    axes[1].set_title(f'{metric.upper()} per Client')\n",
    "    axes[1].set_xlabel('Round')\n",
    "    axes[1].set_ylabel(metric.upper())\n",
    "    axes[1].grid(True)\n",
    "    axes[1].legend()\n",
    "\n",
    "    plt.tight_layout()\n",
    "    plt.show()\n"
   ],
   "outputs": [],
   "execution_count": 3
  },
  {
   "cell_type": "code",
   "id": "61c095db9c54c20d",
   "metadata": {
    "ExecuteTime": {
     "end_time": "2025-05-20T19:33:08.028752Z",
     "start_time": "2025-05-20T19:33:07.184544Z"
    }
   },
   "source": [
    "from utils.Toolbox_analysis import plot_all_clients_side_by_side\n",
    "\n",
    "plot_all_clients_side_by_side_proto(model, priv_train_loaders, metric='f1')"
   ],
   "outputs": [
    {
     "data": {
      "text/plain": [
       "<Figure size 1400x500 with 2 Axes>"
      ],
      "image/png": "[encoded data removed]"
     },
     "metadata": {},
     "output_type": "display_data"
    }
   ],
   "execution_count": 4
  },
  {
   "cell_type": "code",
   "id": "4857141b9bf590fc",
   "metadata": {
    "ExecuteTime": {
     "end_time": "2025-05-20T19:39:03.988863Z",
     "start_time": "2025-05-20T19:33:08.134635Z"
    }
   },
   "source": [
    "# label_clients = ['District_A', 'District_B', 'District_C', 'District_D', 'District_E']\n",
    "# label_clients = ['District_A', 'District_B', 'District_C']\n",
    "label_clients = ['District_A', 'District_B', 'District_C', 'District_D', 'District_E',\n",
    "                 'District_2A', 'District_2B', 'District_2C']\n",
    "\n",
    "base_index = results['Baseline']['dl'][0]['X_index']\n",
    "\n",
    "latent_dfs = {}\n",
    "for scenario, case in results.items():\n",
    "    latent_dfs[scenario] = {}\n",
    "    for epoch, space in enumerate(case['lat']):\n",
    "        aux_latents = []\n",
    "        for i, client in enumerate(space):\n",
    "            baseline_lat = create_latent_df(X_index=base_index,\n",
    "                                            x_lat=client,\n",
    "                                            label=scenario + '__' + label_clients[i] + '__' + str(epoch),\n",
    "                                            is_unix=True)\n",
    "\n",
    "            aux_latents.append(baseline_lat)\n",
    "\n",
    "        df_latent = pd.concat(aux_latents)\n",
    "\n",
    "        df_latent, df_pca_raw, df_umap_raw, df_pca_scaled, df_umap_scaled = process_latent_df(df_latent, umap_neighbors=50, umap_min_dist=0.95)\n",
    "\n",
    "        latent_dfs[scenario][epoch] = {}\n",
    "        latent_dfs[scenario][epoch]['latent_space'] = df_latent\n",
    "        latent_dfs[scenario][epoch]['pca_raw'] = df_pca_raw\n",
    "        latent_dfs[scenario][epoch]['pca_scl'] = df_pca_scaled\n",
    "        latent_dfs[scenario][epoch]['umap_raw'] = df_umap_raw\n",
    "        latent_dfs[scenario][epoch]['umap_scl'] = df_umap_scaled"
   ],
   "outputs": [],
   "execution_count": 5
  },
  {
   "cell_type": "code",
   "id": "4b738bc4-73ab-428c-a9d6-4612d059e1f4",
   "metadata": {
    "ExecuteTime": {
     "end_time": "2025-05-20T19:39:06.041553Z",
     "start_time": "2025-05-20T19:39:04.066961Z"
    }
   },
   "source": [
    "import pickle\n",
    "\n",
    "agg_int = int((args.interval_agg) / (60**2))\n",
    "with open(f'results/exp_latente_results_graeme_{agg_int}_{args.window_size}_proto_month.pkl', 'wb') as file:\n",
    "    pickle.dump(results, file)\n",
    "\n",
    "with open(f'results/exp_latente_df_graeme_{agg_int}_{args.window_size}_proto_month.pkl', 'wb') as file:\n",
    "    pickle.dump(latent_dfs, file)"
   ],
   "outputs": [],
   "execution_count": 6
  },
  {
   "cell_type": "code",
   "execution_count": null,
   "id": "2b4dda4b4da641e5",
   "metadata": {},
   "outputs": [],
   "source": [
    "PARO"
   ]
  },
  {
   "metadata": {
    "ExecuteTime": {
     "end_time": "2025-05-20T18:36:26.174037Z",
     "start_time": "2025-05-20T18:36:26.163038Z"
    }
   },
   "cell_type": "code",
   "source": [
    "X_index = results['Baseline']['dl'][0]['X_index']\n",
    "timestamps = pd.to_datetime(X_index, unit='s')\n",
    "hour = timestamps.hour\n",
    "label = hour.where(hour < 12, hour - 12).to_numpy()\n",
    "label = label / (args.interval_agg / (60**2))\n",
    "label"
   ],
   "id": "ecc9cd927b3e8957",
   "outputs": [
    {
     "data": {
      "text/plain": [
       "array([0., 1., 2., ..., 4., 5., 0.])"
      ]
     },
     "execution_count": 13,
     "metadata": {},
     "output_type": "execute_result"
    }
   ],
   "execution_count": 13
  },
  {
   "metadata": {
    "ExecuteTime": {
     "end_time": "2025-05-20T18:35:02.415571Z",
     "start_time": "2025-05-20T18:35:02.391854Z"
    }
   },
   "cell_type": "code",
   "outputs": [
    {
     "data": {
      "text/plain": [
       "DatetimeIndex(['1970-01-01 00:00:00', '1970-01-01 02:00:00',\n",
       "               '1970-01-01 04:00:00', '1970-01-01 06:00:00',\n",
       "               '1970-01-01 08:00:00', '1970-01-01 10:00:00',\n",
       "               '1970-01-01 12:00:00', '1970-01-01 14:00:00',\n",
       "               '1970-01-01 16:00:00', '1970-01-01 18:00:00',\n",
       "               ...\n",
       "               '1970-07-22 06:00:00', '1970-07-22 08:00:00',\n",
       "               '1970-07-22 10:00:00', '1970-07-22 12:00:00',\n",
       "               '1970-07-22 14:00:00', '1970-07-22 16:00:00',\n",
       "               '1970-07-22 18:00:00', '1970-07-22 20:00:00',\n",
       "               '1970-07-22 22:00:00', '1970-07-23 00:00:00'],\n",
       "              dtype='datetime64[ns]', length=2437, freq=None)"
      ]
     },
     "execution_count": 10,
     "metadata": {},
     "output_type": "execute_result"
    }
   ],
   "execution_count": 10,
   "source": "timestamps",
   "id": "c892510cbe0a7166"
  },
  {
   "cell_type": "code",
   "execution_count": null,
   "id": "7f14c4aef4b7145e",
   "metadata": {},
   "outputs": [],
   "source": [
    "# aux_latent[EPOCH][CLIENT]\n",
    "aux_latent[0][0].shape"
   ]
  },
  {
   "cell_type": "code",
   "execution_count": null,
   "id": "e4913041b317cf2e",
   "metadata": {},
   "outputs": [],
   "source": [
    "def create_latent_df(X_index, x_lat, label='Teste', is_unix=False):\n",
    "    \"\"\"\n",
    "    Create a DataFrame with timestamps, latent vector components, and anomaly labels.\n",
    "\n",
    "    Parameters:\n",
    "    - X_index: array of shape (n_samples,), can be UNIX timestamps or datetime\n",
    "    - x_lat: array of shape (n_samples, n_latent_dims)\n",
    "    - anomaly_df: DataFrame with 'start' and 'end' columns for anomaly intervals\n",
    "    - is_unix: bool, if True converts X_index from UNIX timestamp to datetime\n",
    "\n",
    "    Returns:\n",
    "    - DataFrame with 'timestamp', 'label', and x_0 to x_n columns\n",
    "    \"\"\"\n",
    "    # Step 1: Convert timestamps if needed\n",
    "    if is_unix:\n",
    "        timestamps = pd.to_datetime(X_index, unit='s')\n",
    "    else:\n",
    "        timestamps = pd.to_datetime(X_index)  # ensures consistent datetime dtype\n",
    "\n",
    "    # Step 2: Create column names for latent dimensions\n",
    "    latent_dim_names = [f'x_{i}' for i in range(x_lat.shape[1])]\n",
    "\n",
    "    # Step 3: Create DataFrame\n",
    "    df = pd.DataFrame(x_lat, columns=latent_dim_names)\n",
    "    df['timestamp'] = timestamps\n",
    "    df['label'] = label\n",
    "\n",
    "    # Step 5: Reorder columns\n",
    "    df = df[['timestamp', 'label'] + latent_dim_names]\n",
    "\n",
    "    return df"
   ]
  },
  {
   "cell_type": "code",
   "execution_count": null,
   "id": "60f3b86e1fa0fba8",
   "metadata": {},
   "outputs": [],
   "source": []
  },
  {
   "cell_type": "code",
   "execution_count": null,
   "id": "a4001ce7c3ba1c8b",
   "metadata": {},
   "outputs": [],
   "source": [
    "results['Drift_PIPELINE_LOW'] = {}\n",
    "\n",
    "results['Drift_PIPELINE_LOW']['Baseline'] = (priv_train_loaders, aux_latent[-1], model)"
   ]
  },
  {
   "cell_type": "code",
   "execution_count": null,
   "id": "c1135cd82970584d",
   "metadata": {},
   "outputs": [],
   "source": [
    "# >> PARA CADA SEGMENTO\n",
    "## >>>> UTILIZAR MODELO DO SEGMENTO INICIAL PARA LEVAR TODOS NO MESMO ESPAÇO\n",
    "import pandas as pd\n",
    "\n",
    "nets_list_base = model.nets_list\n",
    "\n",
    "latent_dfs = []\n",
    "for j, (segment, case) in enumerate(results.items()):\n",
    "    # label_clients = ['District_A', 'District_B', 'District_C', 'District_D', 'District_E']\n",
    "    # label_clients = ['District_A', 'District_B', 'District_C']\n",
    "    label_clients = ['District_A', 'District_B', 'District_C', 'District_D', 'District_E',\n",
    "                     'District_2A', 'District_2B', 'District_2C']\n",
    "    aux_latents = []\n",
    "\n",
    "    for i, client in enumerate(label_clients):\n",
    "        _, _, _, x_lat = nets_list_base[0].predict(case['Baseline'][0][i]['X'])\n",
    "\n",
    "        baseline_lat = create_latent_df(X_index=case['Baseline'][0][i]['X_index'],\n",
    "                                        x_lat=x_lat,\n",
    "                                        label=segment + '_' + client,\n",
    "                                        is_unix=True)\n",
    "\n",
    "        aux_latents.append(baseline_lat)\n",
    "\n",
    "    df_latent = pd.concat(aux_latents)\n",
    "    df_latent['timestamp'] += pd.Timedelta(days=30 * j)\n",
    "    latent_dfs.append(df_latent)"
   ]
  },
  {
   "cell_type": "code",
   "execution_count": null,
   "id": "1c5d7243807a29e8",
   "metadata": {},
   "outputs": [],
   "source": [
    "import numpy as np\n",
    "import pandas as pd\n",
    "\n",
    "import matplotlib.pyplot as plt\n",
    "from matplotlib.patches import Patch\n",
    "from sklearn.decomposition import PCA\n",
    "import umap.umap_ as umap\n",
    "\n",
    "\n",
    "def reduce_dims(X, method = None, n_components=2, umap_neighbors=15, umap_min_dist=0.1):\n",
    "    \"\"\"\n",
    "    Applies PCA and UMAP to the input data.\n",
    "\n",
    "    Parameters:\n",
    "    - X: array-like of shape (n_samples, n_features)\n",
    "    - n_components: int, number of dimensions for the projection\n",
    "    - umap_neighbors: int, UMAP neighbors\n",
    "    - umap_min_dist: float, UMAP min_dist\n",
    "\n",
    "    Returns:\n",
    "    - X_pca: PCA-reduced data\n",
    "    - X_umap: UMAP-reduced data\n",
    "    \"\"\"\n",
    "\n",
    "    pca = PCA(n_components=n_components)\n",
    "\n",
    "    X_pca = pca.fit_transform(X)\n",
    "    if method == 'PCA':\n",
    "        return X_pca, None\n",
    "\n",
    "    reducer = umap.UMAP(n_components=n_components, n_neighbors=umap_neighbors, min_dist=umap_min_dist)\n",
    "    X_umap = reducer.fit_transform(X)\n",
    "    if method == 'UMAP':\n",
    "        return None, X_umap\n",
    "\n",
    "    return X_pca, X_umap\n",
    "\n",
    "\n",
    "def plot_reduced_method(X_pca, X_umap, labels=None, method='PCA', ax=None, title=None):\n",
    "    \"\"\"\n",
    "    Plots reduced data based on the selected method (PCA or UMAP).\n",
    "    Accepts external axis (ax) for subplot usage.\n",
    "    \"\"\"\n",
    "    if method not in ['PCA', 'UMAP']:\n",
    "        raise ValueError(\"Invalid method! Use 'PCA' or 'UMAP'.\")\n",
    "\n",
    "    internal_fig = False\n",
    "    if ax is None:\n",
    "        fig, ax = plt.subplots(figsize=(6, 5))\n",
    "        internal_fig = True\n",
    "    else:\n",
    "        fig = ax.figure\n",
    "\n",
    "    # Setup\n",
    "    if labels is not None:\n",
    "        labels = np.array(labels)\n",
    "        unique_labels = np.unique(labels)\n",
    "        colors = plt.cm.Set1(np.linspace(0, 1, len(unique_labels)))\n",
    "        label_color_map = {label: color for label, color in zip(unique_labels, colors)}\n",
    "\n",
    "        for label in unique_labels:\n",
    "            idx = labels == label\n",
    "            if method == 'PCA':\n",
    "                ax.scatter(X_pca[idx, 0], X_pca[idx, 1], c=[label_color_map[label]], label=f\"{label}\", s=10)\n",
    "            else:\n",
    "                ax.scatter(X_umap[idx, 0], X_umap[idx, 1], c=[label_color_map[label]], label=f\"{label}\", s=10)\n",
    "\n",
    "        legend_elements = [Patch(facecolor=label_color_map[label], label=f'{label}') for label in unique_labels]\n",
    "        ax.legend(handles=legend_elements, bbox_to_anchor=(1, 1))\n",
    "    else:\n",
    "        proj = X_pca if method == 'PCA' else X_umap\n",
    "        ax.scatter(proj[:, 0], proj[:, 1], s=10)\n",
    "\n",
    "    ax.set_title(title if title else f\"{method} Projection\")\n",
    "    ax.axis(\"off\")\n",
    "\n",
    "    if internal_fig:\n",
    "        plt.tight_layout()\n",
    "        plt.show()"
   ]
  },
  {
   "cell_type": "code",
   "execution_count": null,
   "id": "a21afc68f100d2ff",
   "metadata": {},
   "outputs": [],
   "source": [
    "df_latent = pd.concat(latent_dfs)\n",
    "df_latent['week'] = df_latent['timestamp'].dt.to_period('W').astype(str)\n",
    "df_latent['hour'] = df_latent['timestamp'].dt.hour\n",
    "\n",
    "# Dimensionality reduction\n",
    "X_pca, X_umap = reduce_dims(\n",
    "    X=df_latent.iloc[:, 2:-2],  # adjust index if needed\n",
    "    method='UMAP',\n",
    "    n_components=2,\n",
    "    umap_neighbors=50,\n",
    "    umap_min_dist=.75\n",
    ")"
   ]
  },
  {
   "cell_type": "code",
   "execution_count": null,
   "id": "1a7ab2e4868aefc1",
   "metadata": {},
   "outputs": [],
   "source": [
    "import ipywidgets as widgets\n",
    "from IPython.display import clear_output\n",
    "\n",
    "hour_options = sorted(df_latent['hour'].unique())\n",
    "\n",
    "hour_selector = widgets.SelectMultiple(\n",
    "    options=hour_options,\n",
    "    value=[hour_options[0]],\n",
    "    description='Hour(s):',\n",
    "    # layout=widgets.Layout(width='50%')\n",
    ")\n",
    "\n",
    "# Create the dropdown and slider widgets\n",
    "method_dropdown = widgets.Dropdown(\n",
    "    options=['UMAP', 'PCA'],\n",
    "    value='UMAP',\n",
    "    description='Method:'\n",
    ")\n",
    "\n",
    "# Get available weeks from your timestamp column\n",
    "available_weeks = sorted(df_latent['week'].unique())\n",
    "\n",
    "week_slider = widgets.SelectionSlider(\n",
    "    options=available_weeks,\n",
    "    value=available_weeks[0],\n",
    "    description='Week:',\n",
    "    continuous_update=False,\n",
    "    # layout=widgets.Layout(width='80%')\n",
    ")\n",
    "\n",
    "\n",
    "def update_plot(method, week, hours):\n",
    "    clear_output(wait=True)\n",
    "\n",
    "    # Filter by week and selected hours\n",
    "    df_filtered = df_latent.reset_index(drop=True)\n",
    "    df_filtered = df_filtered[(df_filtered['week'] == week) & (df_filtered['hour'].isin(hours))]\n",
    "\n",
    "    print(df_filtered.shape)\n",
    "    if df_filtered.empty:\n",
    "        print(\"No data for selected filters.\")\n",
    "        return\n",
    "\n",
    "    fig, ax = plt.subplots(figsize=(4, 3))  # Change width and height as desired\n",
    "\n",
    "    # Plot\n",
    "    plot_reduced_method(\n",
    "        X_umap[df_filtered.index, :], X_umap[df_filtered.index, :],\n",
    "        method=method,\n",
    "        labels=df_filtered['label'],\n",
    "        ax=ax\n",
    "    )\n",
    "\n",
    "\n",
    "widgets.interact(update_plot, method=method_dropdown, week=week_slider, hours=hour_selector)"
   ]
  },
  {
   "cell_type": "code",
   "execution_count": null,
   "id": "2bc7bf3ea17ea074",
   "metadata": {},
   "outputs": [],
   "source": [
    "import pandas as pd\n",
    "\n",
    "# Suppose X_umap and X_pca are available\n",
    "# Add coordinates to df_latent\n",
    "df_latent['umap_x'] = X_umap[:, 0]\n",
    "df_latent['umap_y'] = X_umap[:, 1]\n",
    "\n",
    "\n",
    "import altair as alt\n",
    "\n",
    "# Create a selection for hour and week\n",
    "hour_selection = alt.selection_multi(fields=['hour'], name=\"Select\")\n",
    "week_selection = alt.selection_single(fields=['week'], name=\"Week\", bind='legend')\n",
    "\n",
    "# Dropdown for method (UMAP/PCA)\n",
    "method_dropdown = alt.selection_point(options=['UMAP'], name='Method: ')\n",
    "method_selection = alt.selection_point(fields=['method'], bind=method_dropdown, name='Method')\n",
    "\n",
    "# Prepare long-form data\n",
    "df_umap = df_latent[['umap_x', 'umap_y', 'label', 'hour', 'week']].copy()\n",
    "df_umap['method'] = 'UMAP'\n",
    "df_umap = df_umap.rename(columns={'umap_x': 'x', 'umap_y': 'y'})\n",
    "\n",
    "\n",
    "df_long = df_umap\n",
    "\n"
   ]
  },
  {
   "cell_type": "code",
   "execution_count": null,
   "id": "c8220edccc86abf4",
   "metadata": {},
   "outputs": [],
   "source": [
    "chart = alt.Chart(df_long).mark_circle(size=60).encode(\n",
    "    x='x',\n",
    "    y='y',\n",
    "    color='label:N',\n",
    "    tooltip=['label', 'hour', 'week'],\n",
    "    opacity=alt.condition(hour_selection, alt.value(1), alt.value(0.05))\n",
    ").add_selection(\n",
    "    hour_selection,\n",
    "    week_selection,\n",
    "    method_selection\n",
    ").transform_filter(\n",
    "    hour_selection\n",
    ").transform_filter(\n",
    "    week_selection\n",
    ").transform_filter(\n",
    "    method_selection\n",
    ").properties(\n",
    "    width=500,\n",
    "    height=400,\n",
    "    title='Latent Space Visualization'\n",
    ")\n",
    "\n",
    "chart\n"
   ]
  },
  {
   "cell_type": "code",
   "execution_count": null,
   "id": "cc31605d71124040",
   "metadata": {},
   "outputs": [],
   "source": []
  }
 ],
 "metadata": {
  "kernelspec": {
   "display_name": "Python [conda env:TsLeaks]",
   "language": "python",
   "name": "conda-env-TsLeaks-py"
  },
  "language_info": {
   "codemirror_mode": {
    "name": "ipython",
    "version": 3
   },
   "file_extension": ".py",
   "mimetype": "text/x-python",
   "name": "python",
   "nbconvert_exporter": "python",
   "pygments_lexer": "ipython3",
   "version": "3.10.16"
  },
  "widgets": {
   "application/vnd.jupyter.widget-state+json": {
    "state": {},
    "version_major": 2,
    "version_minor": 0
   }
  }
 },
 "nbformat": 4,
 "nbformat_minor": 5
}
