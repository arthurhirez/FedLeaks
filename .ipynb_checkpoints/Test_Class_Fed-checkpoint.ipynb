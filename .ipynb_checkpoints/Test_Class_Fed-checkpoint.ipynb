{
 "cells": [
  {
   "cell_type": "code",
   "execution_count": 3,
   "id": "ec019368db80ff3c",
   "metadata": {
    "ExecuteTime": {
     "end_time": "2025-05-18T12:05:39.145678Z",
     "start_time": "2025-05-18T12:05:24.772930Z"
    }
   },
   "outputs": [],
   "source": [
    "import warnings\n",
    "from argparse import ArgumentParser\n",
    "\n",
    "import pandas as pd\n",
    "\n",
    "from datasets import Priv_NAMES as DATASET_NAMES\n",
    "from datasets import get_private_dataset\n",
    "from models import get_all_models\n",
    "from models import get_model\n",
    "from utils.Server import train\n",
    "from utils.Toolbox_analysis import create_latent_df, process_latent_df\n",
    "\n",
    "warnings.simplefilter(action='ignore', category=FutureWarning)\n",
    "\n",
    "\n",
    "def parse_args():\n",
    "    parser = ArgumentParser(description='You Only Need Me', allow_abbrev=False)\n",
    "    parser.add_argument('--device_id', type=int, default=0, help='The Device Id for Experiment')\n",
    "\n",
    "    # Communication - epochs\n",
    "    parser.add_argument('--communication_epoch', type=int, default=15,\n",
    "                        help='The Communication Epoch in Federated Learning')\n",
    "    parser.add_argument('--local_epoch', type=int, default=3, help='The Local Epoch for each Participant')\n",
    "\n",
    "    # Participants info\n",
    "    #TODO: LINK NUMBER OF PARTICIPANTS WITH SIMULATION\n",
    "    parser.add_argument('--parti_num', type=int, default=None, help='The Number for Participants. If \"None\" will be setted as the sum of values described in --domain')\n",
    "    parser.add_argument('--online_ratio', type=float, default=1, help='The Ratio for Online Clients')\n",
    "\n",
    "    # Data parameters\n",
    "    parser.add_argument('--dataset', type=str, default='fl_leaks', choices=DATASET_NAMES, help='Which scenario to perform experiments on.')\n",
    "    parser.add_argument('--experiment_id', type=str, default='DEBUG_PIPELINE_PATTERNS', help='Which scenario the experiment is for.')\n",
    "    parser.add_argument('--domains', type=dict, default={\n",
    "                                                        'Graeme': 5,\n",
    "                                                        # 'Balerma': 3,\n",
    "                                                        },\n",
    "                        help='Domains and respective number of participants.')\n",
    "\n",
    "    ## Time series preprocessing\n",
    "    parser.add_argument('--interval_agg', type=int, default=2 * 60 ** 2,\n",
    "                        help='Agregation interval (seconds) of time series')\n",
    "    parser.add_argument('--window_size', type=int, default=84, help='Rolling window length')\n",
    "\n",
    "    # Model (AER) parameters\n",
    "    parser.add_argument('--input_size', type=int, default=5, help='Number of sensors')  #TODO adaptar\n",
    "    parser.add_argument('--output_size', type=int, default=5, help='Shape output - dense layer')\n",
    "    parser.add_argument('--lstm_units', type=int, default=30,\n",
    "                        help='Number of LSTM units (the latent space will have dimension 2 times bigger')\n",
    "\n",
    "    # Federated parameters\n",
    "    parser.add_argument('--model', type=str, default='fpl', help='Federated Model name.', choices=get_all_models()) #fedavg\n",
    "\n",
    "    parser.add_argument('--structure', type=str, default='homogeneity')\n",
    "\n",
    "    parser.add_argument('--pri_aug', type=str, default='weak',  # weak strong\n",
    "                        help='Augmentation for Private Data')\n",
    "    parser.add_argument('--learning_decay', type=bool, default=False, help='The Option for Learning Rate Decay')\n",
    "    parser.add_argument('--averaging', type=str, default='weight', help='The Option for averaging strategy')\n",
    "\n",
    "    parser.add_argument('--infoNCET', type=float, default=0.02, help='The InfoNCE temperature')\n",
    "    parser.add_argument('--T', type=float, default=0.05, help='The Knowledge distillation temperature')\n",
    "    parser.add_argument('--weight', type=int, default=1, help='The Weigth for the distillation loss')\n",
    "\n",
    "    # torch.set_num_threads(4)\n",
    "    # def add_management_args(parser: ArgumentParser) -> None:\n",
    "    #     parser.add_argument('--csv_log', action='store_true',\n",
    "    #                         help='Enable csv logging',default=False)\n",
    "    #\n",
    "    # add_management_args(parser)\n",
    "    #\n",
    "    args, unknown = parser.parse_known_args()\n",
    "\n",
    "    if args.parti_num is None:\n",
    "        args.parti_num = sum(args.domains.values())\n",
    "    #\n",
    "    # best = best_args[args.dataset][args.model]\n",
    "    #\n",
    "    # for key, value in best.items():\n",
    "    #     setattr(args, key, value)\n",
    "    #\n",
    "    # if args.seed is not None:\n",
    "    #     set_random_seed(args.seed)\n",
    "\n",
    "    return args"
   ]
  },
  {
   "cell_type": "code",
   "execution_count": 4,
   "id": "c83c796636db5737",
   "metadata": {
    "ExecuteTime": {
     "end_time": "2025-05-18T12:24:14.030579Z",
     "start_time": "2025-05-18T12:05:39.393452Z"
    },
    "scrolled": true
   },
   "outputs": [
    {
     "name": "stderr",
     "output_type": "stream",
     "text": [
      "Local Pariticipant 0 MSE = 0.154,InfoNCE = 0.000: 100%|██████████| 3/3 [00:03<00:00,  1.30s/it]\n",
      "Local Pariticipant 2 MSE = 0.171,InfoNCE = 0.000: 100%|██████████| 3/3 [00:02<00:00,  1.00it/s]\n",
      "Local Pariticipant 4 MSE = 0.153,InfoNCE = 0.000: 100%|██████████| 3/3 [00:03<00:00,  1.01s/it]\n",
      "Local Pariticipant 1 MSE = 0.160,InfoNCE = 0.000: 100%|██████████| 3/3 [00:03<00:00,  1.02s/it]\n",
      "Local Pariticipant 3 MSE = 0.204,InfoNCE = 0.000: 100%|██████████| 3/3 [00:03<00:00,  1.02s/it]\n"
     ]
    },
    {
     "name": "stdout",
     "output_type": "stream",
     "text": [
      "Partition 0: 2 clusters\n",
      "Partition 0: 2 clusters\n",
      "Partition 0: 1 clusters\n",
      "Partition 0: 2 clusters\n",
      "Partition 0: 1 clusters\n",
      "Partition 0: 2 clusters\n",
      "**--**--**--**--**--**--**--**--**--**--\n",
      "SEM AGREGAÇÃO\n",
      "Acc: 0.9347\tPrec: 0.0000\tRec: 0.0000\tF1: 0.0000\n",
      "Acc: 0.9599\tPrec: 0.0000\tRec: 0.0000\tF1: 0.0000\n",
      "Acc: 0.9256\tPrec: 0.0000\tRec: 0.0000\tF1: 0.0000\n",
      "Acc: 0.9599\tPrec: 0.0000\tRec: 0.0000\tF1: 0.0000\n",
      "Acc: 0.9599\tPrec: 0.0000\tRec: 0.0000\tF1: 0.0000\n"
     ]
    },
    {
     "name": "stderr",
     "output_type": "stream",
     "text": [
      "Local Pariticipant 2 MSE = 0.136,InfoNCE = 1.630: 100%|██████████| 3/3 [00:08<00:00,  2.69s/it]\n",
      "Local Pariticipant 4 MSE = 0.146,InfoNCE = 2.300: 100%|██████████| 3/3 [00:05<00:00,  1.90s/it]\n",
      "Local Pariticipant 0 MSE = 0.086,InfoNCE = 2.157: 100%|██████████| 3/3 [00:05<00:00,  1.90s/it]\n",
      "Local Pariticipant 1 MSE = 0.145,InfoNCE = 2.659: 100%|██████████| 3/3 [00:06<00:00,  2.10s/it]\n",
      "Local Pariticipant 3 MSE = 0.141,InfoNCE = 2.048: 100%|██████████| 3/3 [00:05<00:00,  1.87s/it]\n"
     ]
    },
    {
     "name": "stdout",
     "output_type": "stream",
     "text": [
      "Partition 0: 2 clusters\n",
      "Partition 0: 2 clusters\n",
      "Partition 0: 2 clusters\n",
      "Partition 0: 2 clusters\n",
      "Partition 0: 2 clusters\n",
      "Partition 0: 2 clusters\n",
      "**--**--**--**--**--**--**--**--**--**--\n",
      "SEM AGREGAÇÃO\n",
      "Acc: 0.9328\tPrec: 0.0000\tRec: 0.0000\tF1: 0.0000\n",
      "Acc: 0.9351\tPrec: 0.0000\tRec: 0.0000\tF1: 0.0000\n",
      "Acc: 0.9107\tPrec: 0.0000\tRec: 0.0000\tF1: 0.0000\n",
      "Acc: 0.8810\tPrec: 0.0000\tRec: 0.0000\tF1: 0.0000\n",
      "Acc: 0.9260\tPrec: 0.0000\tRec: 0.0000\tF1: 0.0000\n"
     ]
    },
    {
     "name": "stderr",
     "output_type": "stream",
     "text": [
      "Local Pariticipant 2 MSE = 0.123,InfoNCE = 2.001: 100%|██████████| 3/3 [00:06<00:00,  2.23s/it]\n",
      "Local Pariticipant 4 MSE = 0.131,InfoNCE = 2.539: 100%|██████████| 3/3 [00:09<00:00,  3.22s/it]\n",
      "Local Pariticipant 0 MSE = 0.089,InfoNCE = 2.255: 100%|██████████| 3/3 [00:08<00:00,  2.93s/it]\n",
      "Local Pariticipant 1 MSE = 0.111,InfoNCE = 2.090: 100%|██████████| 3/3 [00:06<00:00,  2.19s/it]\n",
      "Local Pariticipant 3 MSE = 0.110,InfoNCE = 2.486: 100%|██████████| 3/3 [00:06<00:00,  2.16s/it]\n"
     ]
    },
    {
     "name": "stdout",
     "output_type": "stream",
     "text": [
      "Partition 0: 2 clusters\n",
      "Partition 0: 2 clusters\n",
      "Partition 0: 2 clusters\n",
      "Partition 0: 2 clusters\n",
      "Partition 0: 2 clusters\n",
      "Partition 0: 2 clusters\n",
      "**--**--**--**--**--**--**--**--**--**--\n",
      "SEM AGREGAÇÃO\n",
      "Acc: 0.8917\tPrec: 0.0000\tRec: 0.0000\tF1: 0.0000\n",
      "Acc: 0.9262\tPrec: 0.0000\tRec: 0.0000\tF1: 0.0000\n",
      "Acc: 0.8788\tPrec: 0.0000\tRec: 0.0000\tF1: 0.0000\n",
      "Acc: 0.9191\tPrec: 0.0000\tRec: 0.0000\tF1: 0.0000\n",
      "Acc: 0.8986\tPrec: 0.0000\tRec: 0.0000\tF1: 0.0000\n"
     ]
    },
    {
     "name": "stderr",
     "output_type": "stream",
     "text": [
      "Local Pariticipant 0 MSE = 0.060,InfoNCE = 2.036: 100%|██████████| 3/3 [00:06<00:00,  2.21s/it]\n",
      "Local Pariticipant 1 MSE = 0.037,InfoNCE = 2.591: 100%|██████████| 3/3 [00:05<00:00,  1.84s/it]\n",
      "Local Pariticipant 4 MSE = 0.051,InfoNCE = 1.755: 100%|██████████| 3/3 [00:05<00:00,  1.96s/it]\n",
      "Local Pariticipant 3 MSE = 0.057,InfoNCE = 2.429: 100%|██████████| 3/3 [00:08<00:00,  2.98s/it]\n",
      "Local Pariticipant 2 MSE = 0.041,InfoNCE = 2.196: 100%|██████████| 3/3 [00:14<00:00,  4.68s/it]\n"
     ]
    },
    {
     "name": "stdout",
     "output_type": "stream",
     "text": [
      "Partition 0: 2 clusters\n",
      "Partition 0: 2 clusters\n",
      "Partition 0: 1 clusters\n",
      "Partition 0: 2 clusters\n",
      "Partition 0: 2 clusters\n",
      "Partition 0: 1 clusters\n",
      "**--**--**--**--**--**--**--**--**--**--\n",
      "SEM AGREGAÇÃO\n",
      "Acc: 0.8645\tPrec: 0.0000\tRec: 0.0000\tF1: 0.0000\n",
      "Acc: 0.9244\tPrec: 0.0000\tRec: 0.0000\tF1: 0.0000\n",
      "Acc: 0.8459\tPrec: 0.0000\tRec: 0.0000\tF1: 0.0000\n",
      "Acc: 0.9508\tPrec: 0.0000\tRec: 0.0000\tF1: 0.0000\n",
      "Acc: 0.9508\tPrec: 0.0000\tRec: 0.0000\tF1: 0.0000\n"
     ]
    },
    {
     "name": "stderr",
     "output_type": "stream",
     "text": [
      "Local Pariticipant 0 MSE = 0.020,InfoNCE = 1.937: 100%|██████████| 3/3 [00:06<00:00,  2.05s/it]\n",
      "Local Pariticipant 1 MSE = 0.018,InfoNCE = 2.619: 100%|██████████| 3/3 [00:06<00:00,  2.00s/it]\n",
      "Local Pariticipant 3 MSE = 0.020,InfoNCE = 1.950: 100%|██████████| 3/3 [00:06<00:00,  2.08s/it]\n",
      "Local Pariticipant 4 MSE = 0.016,InfoNCE = 2.416: 100%|██████████| 3/3 [00:05<00:00,  1.94s/it]\n",
      "Local Pariticipant 2 MSE = 0.021,InfoNCE = 1.497: 100%|██████████| 3/3 [00:06<00:00,  2.16s/it]\n"
     ]
    },
    {
     "name": "stdout",
     "output_type": "stream",
     "text": [
      "Partition 0: 2 clusters\n",
      "Partition 0: 2 clusters\n",
      "Partition 0: 2 clusters\n",
      "Partition 0: 2 clusters\n",
      "Partition 0: 2 clusters\n",
      "Partition 0: 2 clusters\n",
      "**--**--**--**--**--**--**--**--**--**--\n",
      "SEM AGREGAÇÃO\n",
      "Acc: 0.8403\tPrec: 0.0000\tRec: 0.0000\tF1: 0.0000\n",
      "Acc: 0.9280\tPrec: 0.0000\tRec: 0.0000\tF1: 0.0000\n",
      "Acc: 0.8776\tPrec: 0.0000\tRec: 0.0000\tF1: 0.0000\n",
      "Acc: 0.9040\tPrec: 0.0000\tRec: 0.0000\tF1: 0.0000\n",
      "Acc: 0.8625\tPrec: 0.0000\tRec: 0.0000\tF1: 0.0000\n"
     ]
    },
    {
     "name": "stderr",
     "output_type": "stream",
     "text": [
      "Local Pariticipant 2 MSE = 0.010,InfoNCE = 1.985: 100%|██████████| 3/3 [00:06<00:00,  2.10s/it]\n",
      "Local Pariticipant 3 MSE = 0.011,InfoNCE = 1.725: 100%|██████████| 3/3 [00:06<00:00,  2.17s/it]\n",
      "Local Pariticipant 1 MSE = 0.012,InfoNCE = 1.746: 100%|██████████| 3/3 [00:06<00:00,  2.04s/it]\n",
      "Local Pariticipant 4 MSE = 0.011,InfoNCE = 1.922: 100%|██████████| 3/3 [00:06<00:00,  2.05s/it]\n",
      "Local Pariticipant 0 MSE = 0.025,InfoNCE = 1.848: 100%|██████████| 3/3 [00:07<00:00,  2.59s/it]\n"
     ]
    },
    {
     "name": "stdout",
     "output_type": "stream",
     "text": [
      "Partition 0: 2 clusters\n",
      "Partition 0: 2 clusters\n",
      "Partition 0: 2 clusters\n",
      "Partition 0: 2 clusters\n",
      "Partition 0: 2 clusters\n",
      "Partition 0: 2 clusters\n",
      "**--**--**--**--**--**--**--**--**--**--\n",
      "SEM AGREGAÇÃO\n",
      "Acc: 0.8467\tPrec: 0.0000\tRec: 0.0000\tF1: 0.0000\n",
      "Acc: 0.8711\tPrec: 0.0000\tRec: 0.0000\tF1: 0.0000\n",
      "Acc: 0.9006\tPrec: 0.0000\tRec: 0.0000\tF1: 0.0000\n",
      "Acc: 0.8955\tPrec: 0.0000\tRec: 0.0000\tF1: 0.0000\n",
      "Acc: 0.8986\tPrec: 0.0000\tRec: 0.0000\tF1: 0.0000\n"
     ]
    },
    {
     "name": "stderr",
     "output_type": "stream",
     "text": [
      "Local Pariticipant 3 MSE = 0.008,InfoNCE = 2.268: 100%|██████████| 3/3 [00:06<00:00,  2.03s/it]\n",
      "Local Pariticipant 0 MSE = 0.018,InfoNCE = 2.351: 100%|██████████| 3/3 [00:05<00:00,  1.98s/it]\n",
      "Local Pariticipant 4 MSE = 0.008,InfoNCE = 2.900: 100%|██████████| 3/3 [00:06<00:00,  2.15s/it]\n",
      "Local Pariticipant 1 MSE = 0.009,InfoNCE = 2.754: 100%|██████████| 3/3 [00:05<00:00,  1.97s/it]\n",
      "Local Pariticipant 2 MSE = 0.008,InfoNCE = 2.268: 100%|██████████| 3/3 [00:05<00:00,  1.98s/it]\n"
     ]
    },
    {
     "name": "stdout",
     "output_type": "stream",
     "text": [
      "Partition 0: 2 clusters\n",
      "Partition 0: 2 clusters\n",
      "Partition 0: 2 clusters\n",
      "Partition 0: 2 clusters\n",
      "Partition 0: 2 clusters\n",
      "Partition 0: 2 clusters\n",
      "**--**--**--**--**--**--**--**--**--**--\n",
      "SEM AGREGAÇÃO\n",
      "Acc: 0.8403\tPrec: 0.0000\tRec: 0.0000\tF1: 0.0000\n",
      "Acc: 0.8911\tPrec: 0.0000\tRec: 0.0000\tF1: 0.0000\n",
      "Acc: 0.8947\tPrec: 0.0000\tRec: 0.0000\tF1: 0.0000\n",
      "Acc: 0.9205\tPrec: 0.0000\tRec: 0.0000\tF1: 0.0000\n",
      "Acc: 0.9218\tPrec: 0.0000\tRec: 0.0000\tF1: 0.0000\n"
     ]
    },
    {
     "name": "stderr",
     "output_type": "stream",
     "text": [
      "Local Pariticipant 0 MSE = 0.016,InfoNCE = 2.215: 100%|██████████| 3/3 [00:05<00:00,  1.99s/it]\n",
      "Local Pariticipant 4 MSE = 0.006,InfoNCE = 2.135: 100%|██████████| 3/3 [00:06<00:00,  2.07s/it]\n",
      "Local Pariticipant 3 MSE = 0.007,InfoNCE = 2.095: 100%|██████████| 3/3 [00:05<00:00,  1.98s/it]\n",
      "Local Pariticipant 2 MSE = 0.008,InfoNCE = 2.536: 100%|██████████| 3/3 [00:07<00:00,  2.34s/it]\n",
      "Local Pariticipant 1 MSE = 0.007,InfoNCE = 2.993: 100%|██████████| 3/3 [00:05<00:00,  2.00s/it]\n"
     ]
    },
    {
     "name": "stdout",
     "output_type": "stream",
     "text": [
      "Partition 0: 2 clusters\n",
      "Partition 0: 2 clusters\n",
      "Partition 0: 2 clusters\n",
      "Partition 0: 2 clusters\n",
      "Partition 0: 2 clusters\n",
      "Partition 0: 2 clusters\n",
      "**--**--**--**--**--**--**--**--**--**--\n",
      "SEM AGREGAÇÃO\n",
      "Acc: 0.8802\tPrec: 0.0000\tRec: 0.0000\tF1: 0.0000\n",
      "Acc: 0.8911\tPrec: 0.0000\tRec: 0.0000\tF1: 0.0000\n",
      "Acc: 0.9343\tPrec: 0.0000\tRec: 0.0000\tF1: 0.0000\n",
      "Acc: 0.8945\tPrec: 0.0000\tRec: 0.0000\tF1: 0.0000\n",
      "Acc: 0.8857\tPrec: 0.0000\tRec: 0.0000\tF1: 0.0000\n"
     ]
    },
    {
     "name": "stderr",
     "output_type": "stream",
     "text": [
      "Local Pariticipant 1 MSE = 0.007,InfoNCE = 2.738: 100%|██████████| 3/3 [00:05<00:00,  1.94s/it]\n",
      "Local Pariticipant 3 MSE = 0.005,InfoNCE = 3.778: 100%|██████████| 3/3 [00:05<00:00,  1.99s/it]\n",
      "Local Pariticipant 0 MSE = 0.020,InfoNCE = 3.480: 100%|██████████| 3/3 [00:06<00:00,  2.21s/it]\n",
      "Local Pariticipant 4 MSE = 0.005,InfoNCE = 2.627: 100%|██████████| 3/3 [00:05<00:00,  1.96s/it]\n",
      "Local Pariticipant 2 MSE = 0.007,InfoNCE = 2.393: 100%|██████████| 3/3 [00:06<00:00,  2.05s/it]\n"
     ]
    },
    {
     "name": "stdout",
     "output_type": "stream",
     "text": [
      "Partition 0: 2 clusters\n",
      "Partition 0: 2 clusters\n",
      "Partition 0: 2 clusters\n",
      "Partition 0: 2 clusters\n",
      "Partition 0: 2 clusters\n",
      "Partition 0: 2 clusters\n",
      "**--**--**--**--**--**--**--**--**--**--\n",
      "SEM AGREGAÇÃO\n",
      "Acc: 0.8675\tPrec: 0.0000\tRec: 0.0000\tF1: 0.0000\n",
      "Acc: 0.8935\tPrec: 0.0000\tRec: 0.0000\tF1: 0.0000\n",
      "Acc: 0.8715\tPrec: 0.0000\tRec: 0.0000\tF1: 0.0000\n",
      "Acc: 0.8972\tPrec: 0.0000\tRec: 0.0000\tF1: 0.0000\n",
      "Acc: 0.9365\tPrec: 0.0000\tRec: 0.0000\tF1: 0.0000\n"
     ]
    },
    {
     "name": "stderr",
     "output_type": "stream",
     "text": [
      "Local Pariticipant 2 MSE = 0.005,InfoNCE = 2.467: 100%|██████████| 3/3 [00:05<00:00,  1.93s/it]\n",
      "Local Pariticipant 0 MSE = 0.026,InfoNCE = 2.663: 100%|██████████| 3/3 [00:06<00:00,  2.26s/it]\n",
      "Local Pariticipant 1 MSE = 0.006,InfoNCE = 2.564: 100%|██████████| 3/3 [00:05<00:00,  1.95s/it]\n",
      "Local Pariticipant 3 MSE = 0.004,InfoNCE = 3.540: 100%|██████████| 3/3 [00:06<00:00,  2.09s/it]\n",
      "Local Pariticipant 4 MSE = 0.004,InfoNCE = 2.555: 100%|██████████| 3/3 [00:06<00:00,  2.04s/it]\n"
     ]
    },
    {
     "name": "stdout",
     "output_type": "stream",
     "text": [
      "Partition 0: 2 clusters\n",
      "Partition 0: 2 clusters\n",
      "Partition 0: 2 clusters\n",
      "Partition 0: 2 clusters\n",
      "Partition 0: 2 clusters\n",
      "Partition 0: 2 clusters\n",
      "**--**--**--**--**--**--**--**--**--**--\n",
      "SEM AGREGAÇÃO\n",
      "Acc: 0.8675\tPrec: 0.0000\tRec: 0.0000\tF1: 0.0000\n",
      "Acc: 0.8943\tPrec: 0.0000\tRec: 0.0000\tF1: 0.0000\n",
      "Acc: 0.9351\tPrec: 0.0000\tRec: 0.0000\tF1: 0.0000\n",
      "Acc: 0.8945\tPrec: 0.0000\tRec: 0.0000\tF1: 0.0000\n",
      "Acc: 0.9010\tPrec: 0.0000\tRec: 0.0000\tF1: 0.0000\n"
     ]
    },
    {
     "name": "stderr",
     "output_type": "stream",
     "text": [
      "Local Pariticipant 0 MSE = 0.026,InfoNCE = 2.508: 100%|██████████| 3/3 [00:06<00:00,  2.22s/it]\n",
      "Local Pariticipant 1 MSE = 0.004,InfoNCE = 2.282: 100%|██████████| 3/3 [00:06<00:00,  2.03s/it]\n",
      "Local Pariticipant 4 MSE = 0.004,InfoNCE = 2.109: 100%|██████████| 3/3 [00:06<00:00,  2.27s/it]\n",
      "Local Pariticipant 2 MSE = 0.006,InfoNCE = 1.828: 100%|██████████| 3/3 [00:05<00:00,  1.84s/it]\n",
      "Local Pariticipant 3 MSE = 0.004,InfoNCE = 1.869: 100%|██████████| 3/3 [00:05<00:00,  1.71s/it]\n"
     ]
    },
    {
     "name": "stdout",
     "output_type": "stream",
     "text": [
      "Partition 0: 2 clusters\n",
      "Partition 0: 2 clusters\n",
      "Partition 0: 2 clusters\n",
      "Partition 0: 2 clusters\n",
      "Partition 0: 2 clusters\n",
      "Partition 0: 2 clusters\n",
      "**--**--**--**--**--**--**--**--**--**--\n",
      "SEM AGREGAÇÃO\n",
      "Acc: 0.8764\tPrec: 0.0000\tRec: 0.0000\tF1: 0.0000\n",
      "Acc: 0.8699\tPrec: 0.0000\tRec: 0.0000\tF1: 0.0000\n",
      "Acc: 0.9351\tPrec: 0.0000\tRec: 0.0000\tF1: 0.0000\n",
      "Acc: 0.8679\tPrec: 0.0000\tRec: 0.0000\tF1: 0.0000\n",
      "Acc: 0.9113\tPrec: 0.0000\tRec: 0.0000\tF1: 0.0000\n"
     ]
    },
    {
     "name": "stderr",
     "output_type": "stream",
     "text": [
      "Local Pariticipant 2 MSE = 0.006,InfoNCE = 2.378: 100%|██████████| 3/3 [00:04<00:00,  1.63s/it]\n",
      "Local Pariticipant 4 MSE = 0.004,InfoNCE = 2.569: 100%|██████████| 3/3 [00:05<00:00,  1.76s/it]\n",
      "Local Pariticipant 0 MSE = 0.015,InfoNCE = 3.098: 100%|██████████| 3/3 [00:05<00:00,  1.89s/it]\n",
      "Local Pariticipant 3 MSE = 0.003,InfoNCE = 1.714: 100%|██████████| 3/3 [00:05<00:00,  1.81s/it]\n",
      "Local Pariticipant 1 MSE = 0.004,InfoNCE = 1.927: 100%|██████████| 3/3 [00:04<00:00,  1.66s/it]\n"
     ]
    },
    {
     "name": "stdout",
     "output_type": "stream",
     "text": [
      "Partition 0: 2 clusters\n",
      "Partition 0: 2 clusters\n",
      "Partition 0: 2 clusters\n",
      "Partition 0: 2 clusters\n",
      "Partition 0: 2 clusters\n",
      "Partition 0: 2 clusters\n",
      "**--**--**--**--**--**--**--**--**--**--\n",
      "SEM AGREGAÇÃO\n",
      "Acc: 0.8760\tPrec: 0.0000\tRec: 0.0000\tF1: 0.0000\n",
      "Acc: 0.9038\tPrec: 0.0000\tRec: 0.0000\tF1: 0.0000\n",
      "Acc: 0.9343\tPrec: 0.0000\tRec: 0.0000\tF1: 0.0000\n",
      "Acc: 0.8943\tPrec: 0.0000\tRec: 0.0000\tF1: 0.0000\n",
      "Acc: 0.8715\tPrec: 0.0000\tRec: 0.0000\tF1: 0.0000\n"
     ]
    },
    {
     "name": "stderr",
     "output_type": "stream",
     "text": [
      "Local Pariticipant 0 MSE = 0.016,InfoNCE = 2.859: 100%|██████████| 3/3 [00:05<00:00,  1.72s/it]\n",
      "Local Pariticipant 2 MSE = 0.005,InfoNCE = 2.123: 100%|██████████| 3/3 [00:05<00:00,  1.67s/it]\n",
      "Local Pariticipant 3 MSE = 0.003,InfoNCE = 2.116: 100%|██████████| 3/3 [00:04<00:00,  1.66s/it]\n",
      "Local Pariticipant 1 MSE = 0.003,InfoNCE = 2.096: 100%|██████████| 3/3 [00:05<00:00,  1.84s/it]\n",
      "Local Pariticipant 4 MSE = 0.004,InfoNCE = 1.985: 100%|██████████| 3/3 [00:04<00:00,  1.66s/it]\n"
     ]
    },
    {
     "name": "stdout",
     "output_type": "stream",
     "text": [
      "Partition 0: 2 clusters\n",
      "Partition 0: 2 clusters\n",
      "Partition 0: 2 clusters\n",
      "Partition 0: 2 clusters\n",
      "Partition 0: 2 clusters\n",
      "Partition 0: 2 clusters\n",
      "**--**--**--**--**--**--**--**--**--**--\n",
      "SEM AGREGAÇÃO\n",
      "Acc: 0.8492\tPrec: 0.0000\tRec: 0.0000\tF1: 0.0000\n",
      "Acc: 0.8703\tPrec: 0.0000\tRec: 0.0000\tF1: 0.0000\n",
      "Acc: 0.9343\tPrec: 0.0000\tRec: 0.0000\tF1: 0.0000\n",
      "Acc: 0.8943\tPrec: 0.0000\tRec: 0.0000\tF1: 0.0000\n",
      "Acc: 0.8683\tPrec: 0.0000\tRec: 0.0000\tF1: 0.0000\n"
     ]
    },
    {
     "name": "stderr",
     "output_type": "stream",
     "text": [
      "Local Pariticipant 3 MSE = 0.003,InfoNCE = 2.385: 100%|██████████| 3/3 [00:04<00:00,  1.48s/it]\n",
      "Local Pariticipant 0 MSE = 0.015,InfoNCE = 2.074: 100%|██████████| 3/3 [00:05<00:00,  1.81s/it]\n",
      "Local Pariticipant 4 MSE = 0.004,InfoNCE = 2.798: 100%|██████████| 3/3 [00:04<00:00,  1.65s/it]\n",
      "Local Pariticipant 2 MSE = 0.006,InfoNCE = 2.039: 100%|██████████| 3/3 [00:04<00:00,  1.63s/it]\n",
      "Local Pariticipant 1 MSE = 0.004,InfoNCE = 4.101: 100%|██████████| 3/3 [00:05<00:00,  1.80s/it]\n"
     ]
    },
    {
     "name": "stdout",
     "output_type": "stream",
     "text": [
      "Partition 0: 2 clusters\n",
      "Partition 0: 2 clusters\n",
      "Partition 0: 2 clusters\n",
      "Partition 0: 2 clusters\n",
      "Partition 0: 2 clusters\n",
      "Partition 0: 2 clusters\n",
      "**--**--**--**--**--**--**--**--**--**--\n",
      "SEM AGREGAÇÃO\n",
      "Acc: 0.8393\tPrec: 0.0000\tRec: 0.0000\tF1: 0.0000\n",
      "Acc: 0.8770\tPrec: 0.0000\tRec: 0.0000\tF1: 0.0000\n",
      "Acc: 0.9343\tPrec: 0.0000\tRec: 0.0000\tF1: 0.0000\n",
      "Acc: 0.8943\tPrec: 0.0000\tRec: 0.0000\tF1: 0.0000\n",
      "Acc: 0.9357\tPrec: 0.0000\tRec: 0.0000\tF1: 0.0000\n"
     ]
    },
    {
     "name": "stderr",
     "output_type": "stream",
     "text": [
      "Local Pariticipant 3 MSE = 0.002,InfoNCE = 3.168: 100%|██████████| 3/3 [00:04<00:00,  1.61s/it]\n",
      "Local Pariticipant 4 MSE = 0.003,InfoNCE = 1.863: 100%|██████████| 3/3 [00:05<00:00,  1.91s/it]\n",
      "Local Pariticipant 2 MSE = 0.004,InfoNCE = 2.233: 100%|██████████| 3/3 [00:05<00:00,  1.72s/it]\n",
      "Local Pariticipant 0 MSE = 0.021,InfoNCE = 1.929: 100%|██████████| 3/3 [00:04<00:00,  1.65s/it]\n",
      "Local Pariticipant 1 MSE = 0.003,InfoNCE = 2.086: 100%|██████████| 3/3 [00:05<00:00,  1.76s/it]\n"
     ]
    },
    {
     "name": "stdout",
     "output_type": "stream",
     "text": [
      "Partition 0: 2 clusters\n",
      "Partition 0: 2 clusters\n",
      "Partition 0: 2 clusters\n",
      "Partition 0: 2 clusters\n",
      "Partition 0: 2 clusters\n",
      "Partition 0: 2 clusters\n",
      "**--**--**--**--**--**--**--**--**--**--\n",
      "SEM AGREGAÇÃO\n",
      "Acc: 0.8911\tPrec: 0.0000\tRec: 0.0000\tF1: 0.0000\n",
      "Acc: 0.8786\tPrec: 0.0000\tRec: 0.0000\tF1: 0.0000\n",
      "Acc: 0.9343\tPrec: 0.0000\tRec: 0.0000\tF1: 0.0000\n",
      "Acc: 0.8943\tPrec: 0.0000\tRec: 0.0000\tF1: 0.0000\n",
      "Acc: 0.9357\tPrec: 0.0000\tRec: 0.0000\tF1: 0.0000\n"
     ]
    },
    {
     "name": "stderr",
     "output_type": "stream",
     "text": [
      "Local Pariticipant 4 MSE = 0.111,InfoNCE = 0.000: 100%|██████████| 3/3 [00:02<00:00,  1.07it/s]\n",
      "Local Pariticipant 3 MSE = 0.159,InfoNCE = 0.000: 100%|██████████| 3/3 [00:02<00:00,  1.03it/s]\n",
      "Local Pariticipant 2 MSE = 0.164,InfoNCE = 0.000: 100%|██████████| 3/3 [00:02<00:00,  1.06it/s]\n",
      "Local Pariticipant 0 MSE = 0.109,InfoNCE = 0.000: 100%|██████████| 3/3 [00:03<00:00,  1.09s/it]\n",
      "Local Pariticipant 1 MSE = 0.078,InfoNCE = 0.000: 100%|██████████| 3/3 [00:03<00:00,  1.12s/it]\n"
     ]
    },
    {
     "name": "stdout",
     "output_type": "stream",
     "text": [
      "Partition 0: 1 clusters\n",
      "Partition 0: 1 clusters\n",
      "Partition 0: 1 clusters\n",
      "Partition 0: 1 clusters\n",
      "Partition 0: 1 clusters\n",
      "Partition 0: 1 clusters\n",
      "**--**--**--**--**--**--**--**--**--**--\n",
      "SEM AGREGAÇÃO\n",
      "Acc: 0.8536\tPrec: 0.1943\tRec: 0.2446\tF1: 0.2166\n",
      "Acc: 0.7651\tPrec: 0.1009\tRec: 0.2326\tF1: 0.1408\n",
      "Acc: 0.8106\tPrec: 0.0647\tRec: 0.0959\tF1: 0.0773\n",
      "Acc: 0.7994\tPrec: 0.1173\tRec: 0.2182\tF1: 0.1526\n",
      "Acc: 0.7185\tPrec: 0.0825\tRec: 0.2374\tF1: 0.1224\n"
     ]
    },
    {
     "name": "stderr",
     "output_type": "stream",
     "text": [
      "Local Pariticipant 3 MSE = 0.097,InfoNCE = 1.956: 100%|██████████| 3/3 [00:05<00:00,  1.74s/it]\n",
      "Local Pariticipant 0 MSE = 0.054,InfoNCE = 2.349: 100%|██████████| 3/3 [00:05<00:00,  1.93s/it]\n",
      "Local Pariticipant 1 MSE = 0.094,InfoNCE = 2.008: 100%|██████████| 3/3 [00:04<00:00,  1.66s/it]\n",
      "Local Pariticipant 4 MSE = 0.086,InfoNCE = 2.191: 100%|██████████| 3/3 [00:04<00:00,  1.62s/it]\n",
      "Local Pariticipant 2 MSE = 0.111,InfoNCE = 2.346: 100%|██████████| 3/3 [00:05<00:00,  1.82s/it]\n"
     ]
    },
    {
     "name": "stdout",
     "output_type": "stream",
     "text": [
      "Partition 0: 1 clusters\n",
      "Partition 0: 1 clusters\n",
      "Partition 0: 1 clusters\n",
      "Partition 0: 1 clusters\n",
      "Partition 0: 1 clusters\n",
      "Partition 0: 1 clusters\n",
      "**--**--**--**--**--**--**--**--**--**--\n",
      "SEM AGREGAÇÃO\n",
      "Acc: 0.8524\tPrec: 0.1921\tRec: 0.2446\tF1: 0.2152\n",
      "Acc: 0.7465\tPrec: 0.0995\tRec: 0.2566\tF1: 0.1434\n",
      "Acc: 0.7350\tPrec: 0.1096\tRec: 0.3094\tF1: 0.1619\n",
      "Acc: 0.7383\tPrec: 0.1002\tRec: 0.2710\tF1: 0.1463\n",
      "Acc: 0.7118\tPrec: 0.1111\tRec: 0.3549\tF1: 0.1692\n"
     ]
    },
    {
     "name": "stderr",
     "output_type": "stream",
     "text": [
      "Local Pariticipant 3 MSE = 0.077,InfoNCE = 2.002: 100%|██████████| 3/3 [00:05<00:00,  1.85s/it]\n",
      "Local Pariticipant 1 MSE = 0.065,InfoNCE = 2.575: 100%|██████████| 3/3 [00:05<00:00,  1.82s/it]\n",
      "Local Pariticipant 0 MSE = 0.098,InfoNCE = 1.537: 100%|██████████| 3/3 [00:05<00:00,  1.87s/it]\n",
      "Local Pariticipant 4 MSE = 0.078,InfoNCE = 1.897: 100%|██████████| 3/3 [00:04<00:00,  1.67s/it]\n",
      "Local Pariticipant 2 MSE = 0.101,InfoNCE = 1.986: 100%|██████████| 3/3 [00:05<00:00,  1.76s/it]\n"
     ]
    },
    {
     "name": "stdout",
     "output_type": "stream",
     "text": [
      "Partition 0: 2 clusters\n",
      "Partition 0: 2 clusters\n",
      "Partition 0: 2 clusters\n",
      "Partition 0: 2 clusters\n",
      "Partition 0: 2 clusters\n",
      "Partition 0: 2 clusters\n",
      "**--**--**--**--**--**--**--**--**--**--\n",
      "SEM AGREGAÇÃO\n",
      "Acc: 0.7957\tPrec: 0.2061\tRec: 0.5156\tF1: 0.2945\n",
      "Acc: 0.7536\tPrec: 0.1045\tRec: 0.2614\tF1: 0.1493\n",
      "Acc: 0.7812\tPrec: 0.1442\tRec: 0.3333\tF1: 0.2013\n",
      "Acc: 0.7655\tPrec: 0.1140\tRec: 0.2710\tF1: 0.1605\n",
      "Acc: 0.7094\tPrec: 0.1341\tRec: 0.4604\tF1: 0.2077\n"
     ]
    },
    {
     "name": "stderr",
     "output_type": "stream",
     "text": [
      "Local Pariticipant 1 MSE = 0.066,InfoNCE = 2.451: 100%|██████████| 3/3 [00:04<00:00,  1.61s/it]\n",
      "Local Pariticipant 0 MSE = 0.050,InfoNCE = 1.936: 100%|██████████| 3/3 [00:05<00:00,  1.69s/it]\n",
      "Local Pariticipant 4 MSE = 0.087,InfoNCE = 1.868: 100%|██████████| 3/3 [00:05<00:00,  1.92s/it]\n",
      "Local Pariticipant 3 MSE = 0.075,InfoNCE = 2.001: 100%|██████████| 3/3 [00:05<00:00,  1.67s/it]\n",
      "Local Pariticipant 2 MSE = 0.091,InfoNCE = 1.985: 100%|██████████| 3/3 [00:04<00:00,  1.67s/it]\n"
     ]
    },
    {
     "name": "stdout",
     "output_type": "stream",
     "text": [
      "Partition 0: 2 clusters\n",
      "Partition 0: 2 clusters\n",
      "Partition 0: 2 clusters\n",
      "Partition 0: 2 clusters\n",
      "Partition 0: 2 clusters\n",
      "Partition 0: 2 clusters\n",
      "**--**--**--**--**--**--**--**--**--**--\n",
      "SEM AGREGAÇÃO\n",
      "Acc: 0.8467\tPrec: 0.2072\tRec: 0.3022\tF1: 0.2459\n",
      "Acc: 0.7925\tPrec: 0.1269\tRec: 0.2566\tF1: 0.1698\n",
      "Acc: 0.7620\tPrec: 0.1489\tRec: 0.3981\tF1: 0.2167\n",
      "Acc: 0.7600\tPrec: 0.1109\tRec: 0.2710\tF1: 0.1574\n",
      "Acc: 0.7538\tPrec: 0.1589\tRec: 0.4604\tF1: 0.2363\n"
     ]
    },
    {
     "name": "stderr",
     "output_type": "stream",
     "text": [
      "Local Pariticipant 3 MSE = 0.060,InfoNCE = 2.181: 100%|██████████| 3/3 [00:05<00:00,  1.67s/it]\n",
      "Local Pariticipant 4 MSE = 0.074,InfoNCE = 2.183: 100%|██████████| 3/3 [00:05<00:00,  1.69s/it]\n",
      "Local Pariticipant 2 MSE = 0.083,InfoNCE = 2.688: 100%|██████████| 3/3 [00:05<00:00,  1.78s/it]\n",
      "Local Pariticipant 0 MSE = 0.060,InfoNCE = 1.689: 100%|██████████| 3/3 [00:05<00:00,  1.82s/it]\n",
      "Local Pariticipant 1 MSE = 0.055,InfoNCE = 2.346: 100%|██████████| 3/3 [00:05<00:00,  1.67s/it]\n"
     ]
    },
    {
     "name": "stdout",
     "output_type": "stream",
     "text": [
      "Partition 0: 2 clusters\n",
      "Partition 0: 2 clusters\n",
      "Partition 0: 2 clusters\n",
      "Partition 0: 2 clusters\n",
      "Partition 0: 2 clusters\n",
      "Partition 0: 2 clusters\n",
      "**--**--**--**--**--**--**--**--**--**--\n",
      "SEM AGREGAÇÃO\n",
      "Acc: 0.8502\tPrec: 0.1882\tRec: 0.2446\tF1: 0.2127\n",
      "Acc: 0.7945\tPrec: 0.1267\tRec: 0.2518\tF1: 0.1685\n",
      "Acc: 0.7520\tPrec: 0.1182\tRec: 0.3094\tF1: 0.1711\n",
      "Acc: 0.7973\tPrec: 0.1360\tRec: 0.2710\tF1: 0.1811\n",
      "Acc: 0.7078\tPrec: 0.0816\tRec: 0.2470\tF1: 0.1227\n"
     ]
    },
    {
     "name": "stderr",
     "output_type": "stream",
     "text": [
      "Local Pariticipant 4 MSE = 0.062,InfoNCE = 1.826: 100%|██████████| 3/3 [00:05<00:00,  1.79s/it]\n",
      "Local Pariticipant 1 MSE = 0.037,InfoNCE = 2.217: 100%|██████████| 3/3 [00:05<00:00,  1.68s/it]\n",
      "Local Pariticipant 0 MSE = 0.053,InfoNCE = 1.582: 100%|██████████| 3/3 [00:05<00:00,  1.69s/it]\n",
      "Local Pariticipant 3 MSE = 0.073,InfoNCE = 1.800: 100%|██████████| 3/3 [00:05<00:00,  1.85s/it]\n",
      "Local Pariticipant 2 MSE = 0.056,InfoNCE = 2.349: 100%|██████████| 3/3 [00:04<00:00,  1.66s/it]\n"
     ]
    },
    {
     "name": "stdout",
     "output_type": "stream",
     "text": [
      "Partition 0: 2 clusters\n",
      "Partition 0: 2 clusters\n",
      "Partition 0: 2 clusters\n",
      "Partition 0: 2 clusters\n",
      "Partition 0: 2 clusters\n",
      "Partition 0: 2 clusters\n",
      "**--**--**--**--**--**--**--**--**--**--\n",
      "SEM AGREGAÇÃO\n",
      "Acc: 0.7421\tPrec: 0.0938\tRec: 0.2446\tF1: 0.1356\n",
      "Acc: 0.7748\tPrec: 0.1064\tRec: 0.2326\tF1: 0.1460\n",
      "Acc: 0.7639\tPrec: 0.1405\tRec: 0.3621\tF1: 0.2024\n",
      "Acc: 0.7374\tPrec: 0.0983\tRec: 0.2662\tF1: 0.1436\n",
      "Acc: 0.7169\tPrec: 0.1281\tRec: 0.4173\tF1: 0.1961\n"
     ]
    },
    {
     "name": "stderr",
     "output_type": "stream",
     "text": [
      "Local Pariticipant 3 MSE = 0.012,InfoNCE = 1.863: 100%|██████████| 3/3 [00:05<00:00,  1.78s/it]\n",
      "Local Pariticipant 2 MSE = 0.040,InfoNCE = 1.898: 100%|██████████| 3/3 [00:06<00:00,  2.28s/it]\n",
      "Local Pariticipant 0 MSE = 0.070,InfoNCE = 1.974: 100%|██████████| 3/3 [00:05<00:00,  1.96s/it]\n",
      "Local Pariticipant 4 MSE = 0.011,InfoNCE = 2.217: 100%|██████████| 3/3 [00:06<00:00,  2.14s/it]\n",
      "Local Pariticipant 1 MSE = 0.014,InfoNCE = 2.403: 100%|██████████| 3/3 [00:05<00:00,  1.97s/it]\n"
     ]
    },
    {
     "name": "stdout",
     "output_type": "stream",
     "text": [
      "Partition 0: 2 clusters\n",
      "Partition 0: 2 clusters\n",
      "Partition 0: 2 clusters\n",
      "Partition 0: 2 clusters\n",
      "Partition 0: 2 clusters\n",
      "Partition 0: 2 clusters\n",
      "**--**--**--**--**--**--**--**--**--**--\n",
      "SEM AGREGAÇÃO\n",
      "Acc: 0.8355\tPrec: 0.2494\tRec: 0.4916\tF1: 0.3309\n",
      "Acc: 0.8191\tPrec: 0.1509\tRec: 0.2566\tF1: 0.1901\n",
      "Acc: 0.7304\tPrec: 0.1214\tRec: 0.3621\tF1: 0.1818\n",
      "Acc: 0.7247\tPrec: 0.0930\tRec: 0.2662\tF1: 0.1379\n",
      "Acc: 0.7856\tPrec: 0.1376\tRec: 0.3022\tF1: 0.1890\n"
     ]
    },
    {
     "name": "stderr",
     "output_type": "stream",
     "text": [
      "Local Pariticipant 4 MSE = 0.008,InfoNCE = 2.447: 100%|██████████| 3/3 [00:05<00:00,  1.96s/it]\n",
      "Local Pariticipant 0 MSE = 0.026,InfoNCE = 1.985: 100%|██████████| 3/3 [00:06<00:00,  2.10s/it]\n",
      "Local Pariticipant 2 MSE = 0.013,InfoNCE = 1.486: 100%|██████████| 3/3 [00:06<00:00,  2.07s/it]\n",
      "Local Pariticipant 3 MSE = 0.008,InfoNCE = 1.833: 100%|██████████| 3/3 [00:05<00:00,  1.99s/it]\n",
      "Local Pariticipant 1 MSE = 0.070,InfoNCE = 2.687: 100%|██████████| 3/3 [00:06<00:00,  2.13s/it]\n"
     ]
    },
    {
     "name": "stdout",
     "output_type": "stream",
     "text": [
      "Partition 0: 2 clusters\n",
      "Partition 0: 2 clusters\n",
      "Partition 0: 2 clusters\n",
      "Partition 0: 2 clusters\n",
      "Partition 0: 2 clusters\n",
      "Partition 0: 1 clusters\n",
      "**--**--**--**--**--**--**--**--**--**--\n",
      "SEM AGREGAÇÃO\n",
      "Acc: 0.8117\tPrec: 0.2051\tRec: 0.4436\tF1: 0.2805\n",
      "Acc: 0.8221\tPrec: 0.0000\tRec: 0.0000\tF1: 0.0000\n",
      "Acc: 0.7623\tPrec: 0.1903\tRec: 0.5755\tF1: 0.2861\n",
      "Acc: 0.7163\tPrec: 0.0912\tRec: 0.2710\tF1: 0.1365\n",
      "Acc: 0.7673\tPrec: 0.1625\tRec: 0.4365\tF1: 0.2368\n"
     ]
    },
    {
     "name": "stderr",
     "output_type": "stream",
     "text": [
      "Local Pariticipant 1 MSE = 0.033,InfoNCE = 3.097: 100%|██████████| 3/3 [00:06<00:00,  2.24s/it]\n",
      "Local Pariticipant 3 MSE = 0.013,InfoNCE = 2.790: 100%|██████████| 3/3 [00:06<00:00,  2.02s/it]\n",
      "Local Pariticipant 0 MSE = 0.017,InfoNCE = 2.657: 100%|██████████| 3/3 [00:06<00:00,  2.29s/it]\n",
      "Local Pariticipant 4 MSE = 0.007,InfoNCE = 3.285: 100%|██████████| 3/3 [00:06<00:00,  2.13s/it]\n",
      "Local Pariticipant 2 MSE = 0.009,InfoNCE = 1.946: 100%|██████████| 3/3 [00:05<00:00,  1.98s/it]\n"
     ]
    },
    {
     "name": "stdout",
     "output_type": "stream",
     "text": [
      "Partition 0: 2 clusters\n",
      "Partition 0: 2 clusters\n",
      "Partition 0: 2 clusters\n",
      "Partition 0: 2 clusters\n",
      "Partition 0: 2 clusters\n",
      "Partition 0: 2 clusters\n",
      "**--**--**--**--**--**--**--**--**--**--\n",
      "SEM AGREGAÇÃO\n",
      "Acc: 0.8373\tPrec: 0.2393\tRec: 0.4436\tF1: 0.3109\n",
      "Acc: 0.8236\tPrec: 0.1599\tRec: 0.2662\tF1: 0.1998\n",
      "Acc: 0.7608\tPrec: 0.1891\tRec: 0.5755\tF1: 0.2847\n",
      "Acc: 0.7342\tPrec: 0.0969\tRec: 0.2662\tF1: 0.1421\n",
      "Acc: 0.7842\tPrec: 0.1243\tRec: 0.2662\tF1: 0.1695\n"
     ]
    },
    {
     "name": "stderr",
     "output_type": "stream",
     "text": [
      "Local Pariticipant 4 MSE = 0.005,InfoNCE = 2.349: 100%|██████████| 3/3 [00:06<00:00,  2.19s/it]\n",
      "Local Pariticipant 0 MSE = 0.014,InfoNCE = 2.682: 100%|██████████| 3/3 [00:06<00:00,  2.21s/it]\n",
      "Local Pariticipant 1 MSE = 0.007,InfoNCE = 3.084: 100%|██████████| 3/3 [00:07<00:00,  2.55s/it]\n",
      "Local Pariticipant 3 MSE = 0.018,InfoNCE = 2.846: 100%|██████████| 3/3 [00:06<00:00,  2.25s/it]\n",
      "Local Pariticipant 2 MSE = 0.015,InfoNCE = 3.177: 100%|██████████| 3/3 [00:06<00:00,  2.16s/it]\n"
     ]
    },
    {
     "name": "stdout",
     "output_type": "stream",
     "text": [
      "Partition 0: 2 clusters\n",
      "Partition 0: 2 clusters\n",
      "Partition 0: 2 clusters\n",
      "Partition 0: 2 clusters\n",
      "Partition 0: 2 clusters\n",
      "Partition 0: 2 clusters\n",
      "**--**--**--**--**--**--**--**--**--**--\n",
      "SEM AGREGAÇÃO\n",
      "Acc: 0.8641\tPrec: 0.2185\tRec: 0.2494\tF1: 0.2329\n",
      "Acc: 0.7957\tPrec: 0.1312\tRec: 0.2614\tF1: 0.1747\n",
      "Acc: 0.8054\tPrec: 0.2299\tRec: 0.5755\tF1: 0.3285\n",
      "Acc: 0.7157\tPrec: 0.1423\tRec: 0.4844\tF1: 0.2199\n",
      "Acc: 0.7399\tPrec: 0.1524\tRec: 0.4700\tF1: 0.2302\n"
     ]
    },
    {
     "name": "stderr",
     "output_type": "stream",
     "text": [
      "Local Pariticipant 2 MSE = 0.007,InfoNCE = 2.554: 100%|██████████| 3/3 [00:06<00:00,  2.08s/it]\n",
      "Local Pariticipant 3 MSE = 0.007,InfoNCE = 2.574: 100%|██████████| 3/3 [00:06<00:00,  2.16s/it]\n",
      "Local Pariticipant 1 MSE = 0.020,InfoNCE = 2.578: 100%|██████████| 3/3 [00:10<00:00,  3.34s/it]\n",
      "Local Pariticipant 4 MSE = 0.005,InfoNCE = 2.995: 100%|██████████| 3/3 [00:06<00:00,  2.31s/it]\n",
      "Local Pariticipant 0 MSE = 0.019,InfoNCE = 1.789: 100%|██████████| 3/3 [00:07<00:00,  2.61s/it]\n"
     ]
    },
    {
     "name": "stdout",
     "output_type": "stream",
     "text": [
      "Partition 0: 2 clusters\n",
      "Partition 0: 2 clusters\n",
      "Partition 0: 2 clusters\n",
      "Partition 0: 2 clusters\n",
      "Partition 0: 2 clusters\n",
      "Partition 0: 2 clusters\n",
      "**--**--**--**--**--**--**--**--**--**--\n",
      "SEM AGREGAÇÃO\n",
      "Acc: 0.8669\tPrec: 0.2251\tRec: 0.2494\tF1: 0.2366\n",
      "Acc: 0.7866\tPrec: 0.1260\tRec: 0.2662\tF1: 0.1710\n",
      "Acc: 0.8062\tPrec: 0.2308\tRec: 0.5755\tF1: 0.3294\n",
      "Acc: 0.7161\tPrec: 0.1435\tRec: 0.4892\tF1: 0.2219\n",
      "Acc: 0.7399\tPrec: 0.1535\tRec: 0.4748\tF1: 0.2320\n"
     ]
    },
    {
     "name": "stderr",
     "output_type": "stream",
     "text": [
      "Local Pariticipant 0 MSE = 0.009,InfoNCE = 2.647: 100%|██████████| 3/3 [00:07<00:00,  2.52s/it]\n",
      "Local Pariticipant 1 MSE = 0.022,InfoNCE = 1.977: 100%|██████████| 3/3 [00:07<00:00,  2.41s/it]\n",
      "Local Pariticipant 3 MSE = 0.004,InfoNCE = 1.911: 100%|██████████| 3/3 [00:07<00:00,  2.49s/it]\n",
      "Local Pariticipant 4 MSE = 0.004,InfoNCE = 2.389: 100%|██████████| 3/3 [00:09<00:00,  3.24s/it]\n",
      "Local Pariticipant 2 MSE = 0.005,InfoNCE = 1.482: 100%|██████████| 3/3 [00:09<00:00,  3.31s/it]\n"
     ]
    },
    {
     "name": "stdout",
     "output_type": "stream",
     "text": [
      "Partition 0: 2 clusters\n",
      "Partition 0: 2 clusters\n",
      "Partition 0: 2 clusters\n",
      "Partition 0: 2 clusters\n",
      "Partition 0: 2 clusters\n",
      "Partition 0: 2 clusters\n",
      "**--**--**--**--**--**--**--**--**--**--\n",
      "SEM AGREGAÇÃO\n",
      "Acc: 0.8744\tPrec: 0.3182\tRec: 0.4532\tF1: 0.3739\n",
      "Acc: 0.7766\tPrec: 0.1792\tRec: 0.4748\tF1: 0.2602\n",
      "Acc: 0.8058\tPrec: 0.2303\tRec: 0.5755\tF1: 0.3290\n",
      "Acc: 0.7403\tPrec: 0.1039\tRec: 0.2806\tF1: 0.1517\n",
      "Acc: 0.7540\tPrec: 0.1462\tRec: 0.4077\tF1: 0.2152\n"
     ]
    },
    {
     "name": "stderr",
     "output_type": "stream",
     "text": [
      "Local Pariticipant 2 MSE = 0.005,InfoNCE = 2.497: 100%|██████████| 3/3 [00:05<00:00,  1.93s/it]\n",
      "Local Pariticipant 4 MSE = 0.012,InfoNCE = 2.071: 100%|██████████| 3/3 [00:06<00:00,  2.04s/it]\n",
      "Local Pariticipant 1 MSE = 0.002,InfoNCE = 1.981: 100%|██████████| 3/3 [00:07<00:00,  2.39s/it]\n",
      "Local Pariticipant 3 MSE = 0.006,InfoNCE = 3.122: 100%|██████████| 3/3 [00:07<00:00,  2.64s/it]\n",
      "Local Pariticipant 0 MSE = 0.020,InfoNCE = 1.349: 100%|██████████| 3/3 [00:06<00:00,  2.32s/it]\n"
     ]
    },
    {
     "name": "stdout",
     "output_type": "stream",
     "text": [
      "Partition 0: 2 clusters\n",
      "Partition 0: 2 clusters\n",
      "Partition 0: 2 clusters\n",
      "Partition 0: 2 clusters\n",
      "Partition 0: 2 clusters\n",
      "Partition 0: 2 clusters\n",
      "**--**--**--**--**--**--**--**--**--**--\n",
      "SEM AGREGAÇÃO\n",
      "Acc: 0.8695\tPrec: 0.2292\tRec: 0.2446\tF1: 0.2367\n",
      "Acc: 0.7360\tPrec: 0.1005\tRec: 0.2758\tF1: 0.1473\n",
      "Acc: 0.7332\tPrec: 0.1705\tRec: 0.5755\tF1: 0.2630\n",
      "Acc: 0.7159\tPrec: 0.1330\tRec: 0.4412\tF1: 0.2044\n",
      "Acc: 0.7552\tPrec: 0.1481\tRec: 0.4125\tF1: 0.2180\n"
     ]
    },
    {
     "name": "stderr",
     "output_type": "stream",
     "text": [
      "Local Pariticipant 2 MSE = 0.014,InfoNCE = 2.338: 100%|██████████| 3/3 [00:06<00:00,  2.07s/it]\n",
      "Local Pariticipant 1 MSE = 0.003,InfoNCE = 2.245: 100%|██████████| 3/3 [00:07<00:00,  2.50s/it]\n",
      "Local Pariticipant 0 MSE = 0.033,InfoNCE = 2.266: 100%|██████████| 3/3 [00:06<00:00,  2.32s/it]\n",
      "Local Pariticipant 3 MSE = 0.003,InfoNCE = 1.857: 100%|██████████| 3/3 [00:06<00:00,  2.03s/it]\n",
      "Local Pariticipant 4 MSE = 0.003,InfoNCE = 2.222: 100%|██████████| 3/3 [00:06<00:00,  2.16s/it]\n"
     ]
    },
    {
     "name": "stdout",
     "output_type": "stream",
     "text": [
      "Partition 0: 2 clusters\n",
      "Partition 0: 2 clusters\n",
      "Partition 0: 2 clusters\n",
      "Partition 0: 2 clusters\n",
      "Partition 0: 2 clusters\n",
      "Partition 0: 2 clusters\n",
      "**--**--**--**--**--**--**--**--**--**--\n",
      "SEM AGREGAÇÃO\n",
      "Acc: 0.8354\tPrec: 0.1895\tRec: 0.3022\tF1: 0.2329\n",
      "Acc: 0.7645\tPrec: 0.1196\tRec: 0.2902\tF1: 0.1693\n",
      "Acc: 0.7788\tPrec: 0.2037\tRec: 0.5755\tF1: 0.3009\n",
      "Acc: 0.7255\tPrec: 0.1367\tRec: 0.4365\tF1: 0.2082\n",
      "Acc: 0.7536\tPrec: 0.1060\tRec: 0.2662\tF1: 0.1516\n"
     ]
    },
    {
     "name": "stderr",
     "output_type": "stream",
     "text": [
      "Local Pariticipant 0 MSE = 0.028,InfoNCE = 2.002: 100%|██████████| 3/3 [00:06<00:00,  2.30s/it]\n",
      "Local Pariticipant 4 MSE = 0.002,InfoNCE = 2.241: 100%|██████████| 3/3 [00:05<00:00,  1.95s/it]\n",
      "Local Pariticipant 3 MSE = 0.009,InfoNCE = 1.793: 100%|██████████| 3/3 [00:05<00:00,  1.72s/it]\n",
      "Local Pariticipant 1 MSE = 0.009,InfoNCE = 2.828: 100%|██████████| 3/3 [00:06<00:00,  2.13s/it]\n",
      "Local Pariticipant 2 MSE = 0.005,InfoNCE = 2.163: 100%|██████████| 3/3 [00:06<00:00,  2.10s/it]\n"
     ]
    },
    {
     "name": "stdout",
     "output_type": "stream",
     "text": [
      "Partition 0: 2 clusters\n",
      "Partition 0: 2 clusters\n",
      "Partition 0: 2 clusters\n",
      "Partition 0: 2 clusters\n",
      "Partition 0: 2 clusters\n",
      "Partition 0: 2 clusters\n",
      "**--**--**--**--**--**--**--**--**--**--\n",
      "SEM AGREGAÇÃO\n",
      "Acc: 0.8350\tPrec: 0.1889\tRec: 0.3022\tF1: 0.2325\n",
      "Acc: 0.7645\tPrec: 0.1765\tRec: 0.5036\tF1: 0.2614\n",
      "Acc: 0.7975\tPrec: 0.1893\tRec: 0.4412\tF1: 0.2649\n",
      "Acc: 0.7463\tPrec: 0.1664\tRec: 0.5156\tF1: 0.2516\n",
      "Acc: 0.7395\tPrec: 0.1511\tRec: 0.4652\tF1: 0.2281\n"
     ]
    }
   ],
   "source": [
    "args = parse_args()\n",
    "\n",
    "results = {}\n",
    "\n",
    "for scenario in ['Baseline', 'AutoScenario_1']:\n",
    "\n",
    "    results[scenario] = {}\n",
    "\n",
    "    priv_dataset = get_private_dataset(args)\n",
    "\n",
    "    backbones_list = priv_dataset.get_backbone(parti_num=args.parti_num,\n",
    "                                               names_list=None,\n",
    "                                               n_series=args.input_size)\n",
    "\n",
    "    model = get_model(backbones_list, args, priv_dataset)\n",
    "\n",
    "    # priv_dataset.EXP_ID = ['Drift_PIPELINE_ALERNATIVE']\n",
    "    # priv_dataset.DOMAINS_LIST = ['Balerma']\n",
    "\n",
    "    priv_train_loaders, aux_latent = train(model=model,\n",
    "                                           private_dataset=priv_dataset,\n",
    "                                           scenario=scenario,\n",
    "                                           args=args)\n",
    "\n",
    "    results[scenario]['dl'] = priv_train_loaders\n",
    "    results[scenario]['lat'] = aux_latent\n",
    "    results[scenario]['model'] = model"
   ]
  },
  {
   "cell_type": "code",
   "execution_count": 8,
   "id": "a5ed7a71e70b4a8c",
   "metadata": {
    "ExecuteTime": {
     "end_time": "2025-05-18T12:40:42.950960Z",
     "start_time": "2025-05-18T12:40:42.888839Z"
    }
   },
   "outputs": [],
   "source": [
    "import matplotlib.pyplot as plt\n",
    "import torch\n",
    "\n",
    "def extract_value(data_point, index):\n",
    "    \"\"\"Helper to extract float from tensor or float at a given index in a tuple.\"\"\"\n",
    "    value = data_point[index]\n",
    "    if isinstance(value, torch.Tensor):\n",
    "        return value.item()\n",
    "    return float(value)\n",
    "\n",
    "def plot_all_clients_side_by_side_proto(model, priv_train_loaders, metric='mse'):\n",
    "    \"\"\"\n",
    "    Plot all clients' training history:\n",
    "      - Left: all loss types (total_loss, mse, infonet)\n",
    "      - Right: selected metric from metrics data\n",
    "    \"\"\"\n",
    "    loss_labels = ['Total Loss', 'MSE', 'InfoNet']\n",
    "    n_loss_types = len(loss_labels)\n",
    "    loss_indices = range(n_loss_types)\n",
    "\n",
    "    n_clients = len(model.nets_list)\n",
    "\n",
    "    fig, axes = plt.subplots(1, 2, figsize=(14, 5))\n",
    "\n",
    "    # --- Left Plot: All Losses ---\n",
    "    for client_id in range(n_clients):\n",
    "        fit_history = model.nets_list[client_id].fit_history\n",
    "\n",
    "        if not fit_history:\n",
    "            continue\n",
    "\n",
    "        for idx in loss_indices:\n",
    "            y_vals = [extract_value(record, idx) for record in fit_history]\n",
    "            axes[0].plot(\n",
    "                y_vals,\n",
    "                label=f'Client {client_id} - {loss_labels[idx]}'\n",
    "            )\n",
    "\n",
    "    axes[0].set_title('Client Loss Components Over Epochs')\n",
    "    axes[0].set_xlabel('Epoch')\n",
    "    axes[0].set_ylabel('Loss')\n",
    "    axes[0].grid(True)\n",
    "    axes[0].legend()\n",
    "\n",
    "    # --- Right Plot: Selected Metric ---\n",
    "    metric_map = {\n",
    "        'acc': 0,\n",
    "        'prec': 1,\n",
    "        'rec': 2,\n",
    "        'f1': 3,\n",
    "        'mse': 1,       # reuse index for common case\n",
    "        'infonet': 2    # reuse index for convenience if needed\n",
    "    }\n",
    "\n",
    "    if metric not in metric_map:\n",
    "        raise ValueError(f\"Invalid metric '{metric}'. Choose from: {list(metric_map.keys())}\")\n",
    "\n",
    "    metric_idx = metric_map[metric]\n",
    "\n",
    "    for client_id in range(n_clients):\n",
    "        metrics = priv_train_loaders[client_id]['metrics']\n",
    "        y_vals = [extract_value(record, metric_idx) for record in metrics]\n",
    "        axes[1].plot(y_vals, label=f'Client {client_id}')\n",
    "\n",
    "    axes[1].set_title(f'{metric.upper()} per Client')\n",
    "    axes[1].set_xlabel('Round')\n",
    "    axes[1].set_ylabel(metric.upper())\n",
    "    axes[1].grid(True)\n",
    "    axes[1].legend()\n",
    "\n",
    "    plt.tight_layout()\n",
    "    plt.show()\n"
   ]
  },
  {
   "cell_type": "code",
   "execution_count": 9,
   "id": "61c095db9c54c20d",
   "metadata": {
    "ExecuteTime": {
     "end_time": "2025-05-18T12:40:48.717542Z",
     "start_time": "2025-05-18T12:40:46.449031Z"
    }
   },
   "outputs": [
    {
     "data": {
      "image/png": "[encoded data removed]",
      "text/plain": [
       "<Figure size 1400x500 with 2 Axes>"
      ]
     },
     "metadata": {},
     "output_type": "display_data"
    }
   ],
   "source": [
    "from utils.Toolbox_analysis import plot_all_clients_side_by_side\n",
    "\n",
    "plot_all_clients_side_by_side_proto(model, priv_train_loaders, metric='f1')"
   ]
  },
  {
   "cell_type": "code",
   "execution_count": 13,
   "id": "4857141b9bf590fc",
   "metadata": {
    "ExecuteTime": {
     "end_time": "2025-05-18T12:45:07.152515Z",
     "start_time": "2025-05-18T12:41:51.785617Z"
    }
   },
   "outputs": [],
   "source": [
    "# label_clients = ['District_A', 'District_B', 'District_C', 'District_D', 'District_E']\n",
    "# label_clients = ['District_A', 'District_B', 'District_C']\n",
    "label_clients = ['District_A', 'District_B', 'District_C', 'District_D', 'District_E',\n",
    "                 'District_2A', 'District_2B', 'District_2C']\n",
    "\n",
    "base_index = results['Baseline']['dl'][0]['X_index']\n",
    "\n",
    "latent_dfs = {}\n",
    "for scenario, case in results.items():\n",
    "    latent_dfs[scenario] = {}\n",
    "    for epoch, space in enumerate(case['lat']):\n",
    "        aux_latents = []\n",
    "        for i, client in enumerate(space):\n",
    "            baseline_lat = create_latent_df(X_index=base_index,\n",
    "                                            x_lat=client,\n",
    "                                            label=scenario + '__' + label_clients[i] + '__' + str(epoch),\n",
    "                                            is_unix=True)\n",
    "\n",
    "            aux_latents.append(baseline_lat)\n",
    "\n",
    "        df_latent = pd.concat(aux_latents)\n",
    "\n",
    "        df_latent, df_pca_raw, df_umap_raw, df_pca_scaled, df_umap_scaled = process_latent_df(df_latent, umap_neighbors=50, umap_min_dist=0.95)\n",
    "\n",
    "        latent_dfs[scenario][epoch] = {}\n",
    "        latent_dfs[scenario][epoch]['latent_space'] = df_latent\n",
    "        latent_dfs[scenario][epoch]['pca_raw'] = df_pca_raw\n",
    "        latent_dfs[scenario][epoch]['pca_scl'] = df_pca_scaled\n",
    "        latent_dfs[scenario][epoch]['umap_raw'] = df_umap_raw\n",
    "        latent_dfs[scenario][epoch]['umap_scl'] = df_umap_scaled"
   ]
  },
  {
   "cell_type": "code",
   "execution_count": 14,
   "id": "4b738bc4-73ab-428c-a9d6-4612d059e1f4",
   "metadata": {
    "ExecuteTime": {
     "end_time": "2025-05-18T12:48:09.010230Z",
     "start_time": "2025-05-18T12:48:01.060401Z"
    }
   },
   "outputs": [],
   "source": [
    "import pickle\n",
    "\n",
    "agg_int = int((args.interval_agg) / (60**2))\n",
    "with open(f'results/exp_latente_results_graeme_{agg_int}_{args.window_size}_proto_patterns.pkl', 'wb') as file:\n",
    "    pickle.dump(results, file)\n",
    "\n",
    "with open(f'results/exp_latente_df_graeme_{agg_int}_{args.window_size}_proto_patterns.pkl', 'wb') as file:\n",
    "    pickle.dump(latent_dfs, file)"
   ]
  },
  {
   "cell_type": "code",
   "execution_count": null,
   "id": "2b4dda4b4da641e5",
   "metadata": {},
   "outputs": [],
   "source": [
    "PARO"
   ]
  },
  {
   "cell_type": "code",
   "execution_count": null,
   "id": "7f14c4aef4b7145e",
   "metadata": {},
   "outputs": [],
   "source": [
    "# aux_latent[EPOCH][CLIENT]\n",
    "aux_latent[0][0].shape"
   ]
  },
  {
   "cell_type": "code",
   "execution_count": null,
   "id": "e4913041b317cf2e",
   "metadata": {},
   "outputs": [],
   "source": [
    "def create_latent_df(X_index, x_lat, label='Teste', is_unix=False):\n",
    "    \"\"\"\n",
    "    Create a DataFrame with timestamps, latent vector components, and anomaly labels.\n",
    "\n",
    "    Parameters:\n",
    "    - X_index: array of shape (n_samples,), can be UNIX timestamps or datetime\n",
    "    - x_lat: array of shape (n_samples, n_latent_dims)\n",
    "    - anomaly_df: DataFrame with 'start' and 'end' columns for anomaly intervals\n",
    "    - is_unix: bool, if True converts X_index from UNIX timestamp to datetime\n",
    "\n",
    "    Returns:\n",
    "    - DataFrame with 'timestamp', 'label', and x_0 to x_n columns\n",
    "    \"\"\"\n",
    "    # Step 1: Convert timestamps if needed\n",
    "    if is_unix:\n",
    "        timestamps = pd.to_datetime(X_index, unit='s')\n",
    "    else:\n",
    "        timestamps = pd.to_datetime(X_index)  # ensures consistent datetime dtype\n",
    "\n",
    "    # Step 2: Create column names for latent dimensions\n",
    "    latent_dim_names = [f'x_{i}' for i in range(x_lat.shape[1])]\n",
    "\n",
    "    # Step 3: Create DataFrame\n",
    "    df = pd.DataFrame(x_lat, columns=latent_dim_names)\n",
    "    df['timestamp'] = timestamps\n",
    "    df['label'] = label\n",
    "\n",
    "    # Step 5: Reorder columns\n",
    "    df = df[['timestamp', 'label'] + latent_dim_names]\n",
    "\n",
    "    return df"
   ]
  },
  {
   "cell_type": "code",
   "execution_count": null,
   "id": "60f3b86e1fa0fba8",
   "metadata": {},
   "outputs": [],
   "source": []
  },
  {
   "cell_type": "code",
   "execution_count": null,
   "id": "a4001ce7c3ba1c8b",
   "metadata": {},
   "outputs": [],
   "source": [
    "results['Drift_PIPELINE_LOW'] = {}\n",
    "\n",
    "results['Drift_PIPELINE_LOW']['Baseline'] = (priv_train_loaders, aux_latent[-1], model)"
   ]
  },
  {
   "cell_type": "code",
   "execution_count": null,
   "id": "c1135cd82970584d",
   "metadata": {},
   "outputs": [],
   "source": [
    "# >> PARA CADA SEGMENTO\n",
    "## >>>> UTILIZAR MODELO DO SEGMENTO INICIAL PARA LEVAR TODOS NO MESMO ESPAÇO\n",
    "import pandas as pd\n",
    "\n",
    "nets_list_base = model.nets_list\n",
    "\n",
    "latent_dfs = []\n",
    "for j, (segment, case) in enumerate(results.items()):\n",
    "    # label_clients = ['District_A', 'District_B', 'District_C', 'District_D', 'District_E']\n",
    "    # label_clients = ['District_A', 'District_B', 'District_C']\n",
    "    label_clients = ['District_A', 'District_B', 'District_C', 'District_D', 'District_E',\n",
    "                     'District_2A', 'District_2B', 'District_2C']\n",
    "    aux_latents = []\n",
    "\n",
    "    for i, client in enumerate(label_clients):\n",
    "        _, _, _, x_lat = nets_list_base[0].predict(case['Baseline'][0][i]['X'])\n",
    "\n",
    "        baseline_lat = create_latent_df(X_index=case['Baseline'][0][i]['X_index'],\n",
    "                                        x_lat=x_lat,\n",
    "                                        label=segment + '_' + client,\n",
    "                                        is_unix=True)\n",
    "\n",
    "        aux_latents.append(baseline_lat)\n",
    "\n",
    "    df_latent = pd.concat(aux_latents)\n",
    "    df_latent['timestamp'] += pd.Timedelta(days=30 * j)\n",
    "    latent_dfs.append(df_latent)"
   ]
  },
  {
   "cell_type": "code",
   "execution_count": null,
   "id": "1c5d7243807a29e8",
   "metadata": {},
   "outputs": [],
   "source": [
    "import numpy as np\n",
    "import pandas as pd\n",
    "\n",
    "import matplotlib.pyplot as plt\n",
    "from matplotlib.patches import Patch\n",
    "from sklearn.decomposition import PCA\n",
    "import umap.umap_ as umap\n",
    "\n",
    "\n",
    "def reduce_dims(X, method = None, n_components=2, umap_neighbors=15, umap_min_dist=0.1):\n",
    "    \"\"\"\n",
    "    Applies PCA and UMAP to the input data.\n",
    "\n",
    "    Parameters:\n",
    "    - X: array-like of shape (n_samples, n_features)\n",
    "    - n_components: int, number of dimensions for the projection\n",
    "    - umap_neighbors: int, UMAP neighbors\n",
    "    - umap_min_dist: float, UMAP min_dist\n",
    "\n",
    "    Returns:\n",
    "    - X_pca: PCA-reduced data\n",
    "    - X_umap: UMAP-reduced data\n",
    "    \"\"\"\n",
    "\n",
    "    pca = PCA(n_components=n_components)\n",
    "\n",
    "    X_pca = pca.fit_transform(X)\n",
    "    if method == 'PCA':\n",
    "        return X_pca, None\n",
    "\n",
    "    reducer = umap.UMAP(n_components=n_components, n_neighbors=umap_neighbors, min_dist=umap_min_dist)\n",
    "    X_umap = reducer.fit_transform(X)\n",
    "    if method == 'UMAP':\n",
    "        return None, X_umap\n",
    "\n",
    "    return X_pca, X_umap\n",
    "\n",
    "\n",
    "def plot_reduced_method(X_pca, X_umap, labels=None, method='PCA', ax=None, title=None):\n",
    "    \"\"\"\n",
    "    Plots reduced data based on the selected method (PCA or UMAP).\n",
    "    Accepts external axis (ax) for subplot usage.\n",
    "    \"\"\"\n",
    "    if method not in ['PCA', 'UMAP']:\n",
    "        raise ValueError(\"Invalid method! Use 'PCA' or 'UMAP'.\")\n",
    "\n",
    "    internal_fig = False\n",
    "    if ax is None:\n",
    "        fig, ax = plt.subplots(figsize=(6, 5))\n",
    "        internal_fig = True\n",
    "    else:\n",
    "        fig = ax.figure\n",
    "\n",
    "    # Setup\n",
    "    if labels is not None:\n",
    "        labels = np.array(labels)\n",
    "        unique_labels = np.unique(labels)\n",
    "        colors = plt.cm.Set1(np.linspace(0, 1, len(unique_labels)))\n",
    "        label_color_map = {label: color for label, color in zip(unique_labels, colors)}\n",
    "\n",
    "        for label in unique_labels:\n",
    "            idx = labels == label\n",
    "            if method == 'PCA':\n",
    "                ax.scatter(X_pca[idx, 0], X_pca[idx, 1], c=[label_color_map[label]], label=f\"{label}\", s=10)\n",
    "            else:\n",
    "                ax.scatter(X_umap[idx, 0], X_umap[idx, 1], c=[label_color_map[label]], label=f\"{label}\", s=10)\n",
    "\n",
    "        legend_elements = [Patch(facecolor=label_color_map[label], label=f'{label}') for label in unique_labels]\n",
    "        ax.legend(handles=legend_elements, bbox_to_anchor=(1, 1))\n",
    "    else:\n",
    "        proj = X_pca if method == 'PCA' else X_umap\n",
    "        ax.scatter(proj[:, 0], proj[:, 1], s=10)\n",
    "\n",
    "    ax.set_title(title if title else f\"{method} Projection\")\n",
    "    ax.axis(\"off\")\n",
    "\n",
    "    if internal_fig:\n",
    "        plt.tight_layout()\n",
    "        plt.show()"
   ]
  },
  {
   "cell_type": "code",
   "execution_count": null,
   "id": "a21afc68f100d2ff",
   "metadata": {},
   "outputs": [],
   "source": [
    "df_latent = pd.concat(latent_dfs)\n",
    "df_latent['week'] = df_latent['timestamp'].dt.to_period('W').astype(str)\n",
    "df_latent['hour'] = df_latent['timestamp'].dt.hour\n",
    "\n",
    "# Dimensionality reduction\n",
    "X_pca, X_umap = reduce_dims(\n",
    "    X=df_latent.iloc[:, 2:-2],  # adjust index if needed\n",
    "    method='UMAP',\n",
    "    n_components=2,\n",
    "    umap_neighbors=50,\n",
    "    umap_min_dist=.75\n",
    ")"
   ]
  },
  {
   "cell_type": "code",
   "execution_count": null,
   "id": "1a7ab2e4868aefc1",
   "metadata": {},
   "outputs": [],
   "source": [
    "import ipywidgets as widgets\n",
    "from IPython.display import clear_output\n",
    "\n",
    "hour_options = sorted(df_latent['hour'].unique())\n",
    "\n",
    "hour_selector = widgets.SelectMultiple(\n",
    "    options=hour_options,\n",
    "    value=[hour_options[0]],\n",
    "    description='Hour(s):',\n",
    "    # layout=widgets.Layout(width='50%')\n",
    ")\n",
    "\n",
    "# Create the dropdown and slider widgets\n",
    "method_dropdown = widgets.Dropdown(\n",
    "    options=['UMAP', 'PCA'],\n",
    "    value='UMAP',\n",
    "    description='Method:'\n",
    ")\n",
    "\n",
    "# Get available weeks from your timestamp column\n",
    "available_weeks = sorted(df_latent['week'].unique())\n",
    "\n",
    "week_slider = widgets.SelectionSlider(\n",
    "    options=available_weeks,\n",
    "    value=available_weeks[0],\n",
    "    description='Week:',\n",
    "    continuous_update=False,\n",
    "    # layout=widgets.Layout(width='80%')\n",
    ")\n",
    "\n",
    "\n",
    "def update_plot(method, week, hours):\n",
    "    clear_output(wait=True)\n",
    "\n",
    "    # Filter by week and selected hours\n",
    "    df_filtered = df_latent.reset_index(drop=True)\n",
    "    df_filtered = df_filtered[(df_filtered['week'] == week) & (df_filtered['hour'].isin(hours))]\n",
    "\n",
    "    print(df_filtered.shape)\n",
    "    if df_filtered.empty:\n",
    "        print(\"No data for selected filters.\")\n",
    "        return\n",
    "\n",
    "    fig, ax = plt.subplots(figsize=(4, 3))  # Change width and height as desired\n",
    "\n",
    "    # Plot\n",
    "    plot_reduced_method(\n",
    "        X_umap[df_filtered.index, :], X_umap[df_filtered.index, :],\n",
    "        method=method,\n",
    "        labels=df_filtered['label'],\n",
    "        ax=ax\n",
    "    )\n",
    "\n",
    "\n",
    "widgets.interact(update_plot, method=method_dropdown, week=week_slider, hours=hour_selector)"
   ]
  },
  {
   "cell_type": "code",
   "execution_count": null,
   "id": "2bc7bf3ea17ea074",
   "metadata": {},
   "outputs": [],
   "source": [
    "import pandas as pd\n",
    "\n",
    "# Suppose X_umap and X_pca are available\n",
    "# Add coordinates to df_latent\n",
    "df_latent['umap_x'] = X_umap[:, 0]\n",
    "df_latent['umap_y'] = X_umap[:, 1]\n",
    "\n",
    "\n",
    "import altair as alt\n",
    "\n",
    "# Create a selection for hour and week\n",
    "hour_selection = alt.selection_multi(fields=['hour'], name=\"Select\")\n",
    "week_selection = alt.selection_single(fields=['week'], name=\"Week\", bind='legend')\n",
    "\n",
    "# Dropdown for method (UMAP/PCA)\n",
    "method_dropdown = alt.selection_point(options=['UMAP'], name='Method: ')\n",
    "method_selection = alt.selection_point(fields=['method'], bind=method_dropdown, name='Method')\n",
    "\n",
    "# Prepare long-form data\n",
    "df_umap = df_latent[['umap_x', 'umap_y', 'label', 'hour', 'week']].copy()\n",
    "df_umap['method'] = 'UMAP'\n",
    "df_umap = df_umap.rename(columns={'umap_x': 'x', 'umap_y': 'y'})\n",
    "\n",
    "\n",
    "df_long = df_umap\n",
    "\n"
   ]
  },
  {
   "cell_type": "code",
   "execution_count": null,
   "id": "c8220edccc86abf4",
   "metadata": {},
   "outputs": [],
   "source": [
    "chart = alt.Chart(df_long).mark_circle(size=60).encode(\n",
    "    x='x',\n",
    "    y='y',\n",
    "    color='label:N',\n",
    "    tooltip=['label', 'hour', 'week'],\n",
    "    opacity=alt.condition(hour_selection, alt.value(1), alt.value(0.05))\n",
    ").add_selection(\n",
    "    hour_selection,\n",
    "    week_selection,\n",
    "    method_selection\n",
    ").transform_filter(\n",
    "    hour_selection\n",
    ").transform_filter(\n",
    "    week_selection\n",
    ").transform_filter(\n",
    "    method_selection\n",
    ").properties(\n",
    "    width=500,\n",
    "    height=400,\n",
    "    title='Latent Space Visualization'\n",
    ")\n",
    "\n",
    "chart\n"
   ]
  },
  {
   "cell_type": "code",
   "execution_count": null,
   "id": "cc31605d71124040",
   "metadata": {},
   "outputs": [],
   "source": []
  }
 ],
 "metadata": {
  "kernelspec": {
   "display_name": "Python [conda env:TsLeaks]",
   "language": "python",
   "name": "conda-env-TsLeaks-py"
  },
  "language_info": {
   "codemirror_mode": {
    "name": "ipython",
    "version": 3
   },
   "file_extension": ".py",
   "mimetype": "text/x-python",
   "name": "python",
   "nbconvert_exporter": "python",
   "pygments_lexer": "ipython3",
   "version": "3.10.16"
  },
  "widgets": {
   "application/vnd.jupyter.widget-state+json": {
    "state": {},
    "version_major": 2,
    "version_minor": 0
   }
  }
 },
 "nbformat": 4,
 "nbformat_minor": 5
}
